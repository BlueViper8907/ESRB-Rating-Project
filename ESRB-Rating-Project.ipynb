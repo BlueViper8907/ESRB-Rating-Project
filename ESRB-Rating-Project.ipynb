{
 "cells": [
  {
   "cell_type": "markdown",
   "metadata": {},
   "source": [
    "# ESRB Rating Project"
   ]
  },
  {
   "cell_type": "markdown",
   "metadata": {},
   "source": [
    "## Table Of Contents\n",
    "<font size=3rem>\n",
    "    \n",
    "0 -**[ INTRO](#INTRODUCTION)<br>**\n",
    "1 -**[ OBTAIN](#OBTAIN)**<br>\n",
    "2 -**[ SCRUB](#SCRUB)**<br>\n",
    "3 -**[ EXPLORE](#EXPLORE)**<br>\n",
    "4 -**[ MODEL](#MODEL)**<br>\n",
    "5 -**[ INTERPRET](#INTERPRET)**<br>\n",
    "6 -**[ CONCLUSIONS & RECCOMENDATIONS](#Conclusions-&-Recommendations)<br>**\n",
    "</font>\n",
    "___"
   ]
  },
  {
   "cell_type": "markdown",
   "metadata": {},
   "source": [
    "# INTRODUCTION"
   ]
  },
  {
   "cell_type": "markdown",
   "metadata": {},
   "source": [
    "- Student: Cody Freese\n",
    "- Pace: Self Paced\n",
    "- Jeff Herman"
   ]
  },
  {
   "cell_type": "markdown",
   "metadata": {},
   "source": [
    "## Import Tools"
   ]
  },
  {
   "cell_type": "code",
   "execution_count": 6,
   "metadata": {},
   "outputs": [
    {
     "name": "stderr",
     "output_type": "stream",
     "text": [
      "C:\\Users\\c_fre\\anaconda3\\envs\\learn-env\\lib\\site-packages\\statsmodels\\tools\\_testing.py:19: FutureWarning: pandas.util.testing is deprecated. Use the functions in the public API at pandas.testing instead.\n",
      "  import pandas.util.testing as tm\n"
     ]
    }
   ],
   "source": [
    "import pandas as pd\n",
    "import matplotlib.pyplot as plt\n",
    "import numpy as np\n",
    "import seaborn as sb\n",
    "\n",
    "import statsmodels as sm\n",
    "\n",
    "import sklearn.preprocessing as preprocessing\n",
    "\n",
    "from sklearn.ensemble import (RandomForestClassifier,\n",
    "                              RandomForestRegressor)\n",
    "\n",
    "from sklearn.tree import (DecisionTreeClassifier,\n",
    "                          DecisionTreeRegressor)\n",
    "\n",
    "from sklearn.model_selection import train_test_split\n",
    "\n",
    "from sklearn.metrics import accuracy_score\n",
    "from sklearn.metrics import (classification_report, \n",
    "                             confusion_matrix)\n",
    "\n",
    "from sklearn.metrics import plot_confusion_matrix\n",
    "\n",
    "from sklearn.model_selection import GridSearchCV\n",
    "from sklearn.neighbors import KNeighborsClassifier"
   ]
  },
  {
   "cell_type": "code",
   "execution_count": 7,
   "metadata": {},
   "outputs": [],
   "source": [
    "#Classification Function\n",
    "def classification(X_train, y_train,X_test,y_test, classifier):\n",
    "    # Y predictor\n",
    "    y_pred = classifier.predict(X_test)\n",
    "    fig, ax = plt.subplots(figsize=(8,8))\n",
    "    #plot confusion matrix\n",
    "    plot_confusion_matrix(estimator=classifier, X=X_test, y_true=y_test, ax=ax)\n",
    "    # show figure\n",
    "    plt.show()\n",
    "    # Print Classification Accuracy\n",
    "    print(classification_report(y_test, y_pred))\n",
    "    print(f'Accuracy:{round(accuracy_score(y_test,y_pred)*100, 2)}%')"
   ]
  },
  {
   "cell_type": "code",
   "execution_count": 8,
   "metadata": {},
   "outputs": [],
   "source": [
    "def plot_game_consoles(df):\n",
    "    # Value count function, if the title exists in both consoles will make 3rd category called Available on Both\n",
    "    value_count = {}\n",
    "    #Loop iterating through title and console\n",
    "    for title, console in df[['title', 'console']].values:\n",
    "        # If the Title and exists in both consoles will make it 'Available on Both'\n",
    "        if title in value_count and value_count[title] != console:\n",
    "            value_count[title] = 'Available on Both'\n",
    "        # Else will separate title into correspoonding console\n",
    "        else:\n",
    "            value_count[title] = 'Xbox' if console == 1 else 'Playstation'\n",
    "    # Subplot series of value counts of each category\n",
    "    engineered_series = pd.Series(value_count).value_counts()\n",
    "    fig, (ax1, ax2) = plt.subplots(ncols=2, figsize=(12,6))\n",
    "    #Bar plot\n",
    "    engineered_series.plot(kind='bar', ax=ax1)\n",
    "    #Pie plot\n",
    "    engineered_series.plot(kind='pie', ax=ax2)\n",
    "    # Title\n",
    "    ax1.set(title='Game Distribution For Console Type', xlabel='Consoles', ylabel='# of Games')\n",
    "    fig.tight_layout()\n",
    "    # Show graphic\n",
    "    plt.show()"
   ]
  },
  {
   "cell_type": "code",
   "execution_count": 77,
   "metadata": {},
   "outputs": [],
   "source": [
    "def plot_game_ratings(df):\n",
    "    # Makes a count of the number of games in each rating\n",
    "    rating_count = {\"E\":0,\"ET\":0,\"T\":0,\"M\":0}\n",
    "    for rating in df['esrb_rating'].values:\n",
    "        if rating in rating_count =='E':\n",
    "            rating_count[esrb_rating] += 1\n",
    "        if rating in rating_count =='ET':\n",
    "            rating_count[esrb_rating] += 1\n",
    "        if rating in rating_count =='T':\n",
    "            rating_count[esrb_rating] += 1\n",
    "        if rating in rating_count =='M':\n",
    "            rating_count[esrb_rating] += 1\n",
    "    #Subplot series of rating counts\n",
    "    rating_series = pd.Series(rating_count).value_counts()\n",
    "    fig,(ax1,ax2) = plt.subplots(ncols=2,figsize=(12,6))\n",
    "    # Bar plot\n",
    "    rating_series.plot(kind='bar',ax=ax1)\n",
    "    # Pie Plot\n",
    "    rating_series.plot(kind='pie',ax=ax2)\n",
    "    # Title\n",
    "    ax1.set(title='Rating Distribution for Games', xlabel='Ratings',ylabel='# of Games')\n",
    "    fig.tight_layout()\n",
    "    # Show graphic\n",
    "    plt.show()    "
   ]
  },
  {
   "cell_type": "markdown",
   "metadata": {},
   "source": [
    "# OBTAIN"
   ]
  },
  {
   "cell_type": "code",
   "execution_count": 10,
   "metadata": {
    "scrolled": true
   },
   "outputs": [],
   "source": [
    "# Import Test CSV\n",
    "test_df = pd.read_csv('test_esrb.csv')\n",
    "# Import Train CSV\n",
    "train_df = pd.read_csv('Video_games_esrb_rating.csv')"
   ]
  },
  {
   "cell_type": "code",
   "execution_count": 11,
   "metadata": {
    "scrolled": false
   },
   "outputs": [
    {
     "name": "stdout",
     "output_type": "stream",
     "text": [
      "<class 'pandas.core.frame.DataFrame'>\n",
      "Int64Index: 2395 entries, 0 to 1894\n",
      "Data columns (total 34 columns):\n",
      " #   Column                    Non-Null Count  Dtype \n",
      "---  ------                    --------------  ----- \n",
      " 0   title                     2395 non-null   object\n",
      " 1   console                   2395 non-null   int64 \n",
      " 2   alcohol_reference         2395 non-null   int64 \n",
      " 3   animated_blood            2395 non-null   int64 \n",
      " 4   blood                     2395 non-null   int64 \n",
      " 5   blood_and_gore            2395 non-null   int64 \n",
      " 6   cartoon_violence          2395 non-null   int64 \n",
      " 7   crude_humor               2395 non-null   int64 \n",
      " 8   drug_reference            2395 non-null   int64 \n",
      " 9   fantasy_violence          2395 non-null   int64 \n",
      " 10  intense_violence          2395 non-null   int64 \n",
      " 11  language                  2395 non-null   int64 \n",
      " 12  lyrics                    2395 non-null   int64 \n",
      " 13  mature_humor              2395 non-null   int64 \n",
      " 14  mild_blood                2395 non-null   int64 \n",
      " 15  mild_cartoon_violence     2395 non-null   int64 \n",
      " 16  mild_fantasy_violence     2395 non-null   int64 \n",
      " 17  mild_language             2395 non-null   int64 \n",
      " 18  mild_lyrics               2395 non-null   int64 \n",
      " 19  mild_suggestive_themes    2395 non-null   int64 \n",
      " 20  mild_violence             2395 non-null   int64 \n",
      " 21  no_descriptors            2395 non-null   int64 \n",
      " 22  nudity                    2395 non-null   int64 \n",
      " 23  partial_nudity            2395 non-null   int64 \n",
      " 24  sexual_content            2395 non-null   int64 \n",
      " 25  sexual_themes             2395 non-null   int64 \n",
      " 26  simulated_gambling        2395 non-null   int64 \n",
      " 27  strong_janguage           2395 non-null   int64 \n",
      " 28  strong_sexual_content     2395 non-null   int64 \n",
      " 29  suggestive_themes         2395 non-null   int64 \n",
      " 30  use_of_alcohol            2395 non-null   int64 \n",
      " 31  use_of_drugs_and_alcohol  2395 non-null   int64 \n",
      " 32  violence                  2395 non-null   int64 \n",
      " 33  esrb_rating               2395 non-null   object\n",
      "dtypes: int64(32), object(2)\n",
      "memory usage: 654.9+ KB\n"
     ]
    }
   ],
   "source": [
    "#Combine the Train/Test CSVs into one\n",
    "combined_csv = test_df.append(train_df)\n",
    "combined_csv.info()"
   ]
  },
  {
   "cell_type": "markdown",
   "metadata": {},
   "source": [
    "# SCRUB"
   ]
  },
  {
   "cell_type": "markdown",
   "metadata": {},
   "source": [
    "- Datatypes appear correct"
   ]
  },
  {
   "cell_type": "markdown",
   "metadata": {},
   "source": [
    "# EXPLORE"
   ]
  },
  {
   "cell_type": "markdown",
   "metadata": {},
   "source": [
    "## Pivot Table, Describe & Counts"
   ]
  },
  {
   "cell_type": "code",
   "execution_count": 12,
   "metadata": {
    "scrolled": true
   },
   "outputs": [
    {
     "data": {
      "text/html": [
       "<div>\n",
       "<style scoped>\n",
       "    .dataframe tbody tr th:only-of-type {\n",
       "        vertical-align: middle;\n",
       "    }\n",
       "\n",
       "    .dataframe tbody tr th {\n",
       "        vertical-align: top;\n",
       "    }\n",
       "\n",
       "    .dataframe thead th {\n",
       "        text-align: right;\n",
       "    }\n",
       "</style>\n",
       "<table border=\"1\" class=\"dataframe\">\n",
       "  <thead>\n",
       "    <tr style=\"text-align: right;\">\n",
       "      <th></th>\n",
       "      <th></th>\n",
       "      <th>alcohol_reference</th>\n",
       "      <th>animated_blood</th>\n",
       "      <th>blood</th>\n",
       "      <th>blood_and_gore</th>\n",
       "      <th>cartoon_violence</th>\n",
       "      <th>crude_humor</th>\n",
       "      <th>drug_reference</th>\n",
       "      <th>fantasy_violence</th>\n",
       "      <th>intense_violence</th>\n",
       "      <th>language</th>\n",
       "      <th>...</th>\n",
       "      <th>partial_nudity</th>\n",
       "      <th>sexual_content</th>\n",
       "      <th>sexual_themes</th>\n",
       "      <th>simulated_gambling</th>\n",
       "      <th>strong_janguage</th>\n",
       "      <th>strong_sexual_content</th>\n",
       "      <th>suggestive_themes</th>\n",
       "      <th>use_of_alcohol</th>\n",
       "      <th>use_of_drugs_and_alcohol</th>\n",
       "      <th>violence</th>\n",
       "    </tr>\n",
       "    <tr>\n",
       "      <th>esrb_rating</th>\n",
       "      <th>console</th>\n",
       "      <th></th>\n",
       "      <th></th>\n",
       "      <th></th>\n",
       "      <th></th>\n",
       "      <th></th>\n",
       "      <th></th>\n",
       "      <th></th>\n",
       "      <th></th>\n",
       "      <th></th>\n",
       "      <th></th>\n",
       "      <th></th>\n",
       "      <th></th>\n",
       "      <th></th>\n",
       "      <th></th>\n",
       "      <th></th>\n",
       "      <th></th>\n",
       "      <th></th>\n",
       "      <th></th>\n",
       "      <th></th>\n",
       "      <th></th>\n",
       "      <th></th>\n",
       "    </tr>\n",
       "  </thead>\n",
       "  <tbody>\n",
       "    <tr>\n",
       "      <th rowspan=\"2\" valign=\"top\">E</th>\n",
       "      <th>0</th>\n",
       "      <td>0.035857</td>\n",
       "      <td>0.000000</td>\n",
       "      <td>0.000000</td>\n",
       "      <td>0.000000</td>\n",
       "      <td>0.000000</td>\n",
       "      <td>0.003984</td>\n",
       "      <td>0.000000</td>\n",
       "      <td>0.000000</td>\n",
       "      <td>0.000000</td>\n",
       "      <td>0.000000</td>\n",
       "      <td>...</td>\n",
       "      <td>0.000000</td>\n",
       "      <td>0.000000</td>\n",
       "      <td>0.000000</td>\n",
       "      <td>0.000000</td>\n",
       "      <td>0.000000</td>\n",
       "      <td>0.000000</td>\n",
       "      <td>0.000000</td>\n",
       "      <td>0.000000</td>\n",
       "      <td>0.000000</td>\n",
       "      <td>0.003984</td>\n",
       "    </tr>\n",
       "    <tr>\n",
       "      <th>1</th>\n",
       "      <td>0.033962</td>\n",
       "      <td>0.000000</td>\n",
       "      <td>0.000000</td>\n",
       "      <td>0.000000</td>\n",
       "      <td>0.000000</td>\n",
       "      <td>0.007547</td>\n",
       "      <td>0.000000</td>\n",
       "      <td>0.000000</td>\n",
       "      <td>0.000000</td>\n",
       "      <td>0.000000</td>\n",
       "      <td>...</td>\n",
       "      <td>0.000000</td>\n",
       "      <td>0.000000</td>\n",
       "      <td>0.000000</td>\n",
       "      <td>0.000000</td>\n",
       "      <td>0.000000</td>\n",
       "      <td>0.000000</td>\n",
       "      <td>0.000000</td>\n",
       "      <td>0.000000</td>\n",
       "      <td>0.003774</td>\n",
       "      <td>0.000000</td>\n",
       "    </tr>\n",
       "    <tr>\n",
       "      <th rowspan=\"2\" valign=\"top\">ET</th>\n",
       "      <th>0</th>\n",
       "      <td>0.129747</td>\n",
       "      <td>0.006329</td>\n",
       "      <td>0.000000</td>\n",
       "      <td>0.000000</td>\n",
       "      <td>0.006329</td>\n",
       "      <td>0.069620</td>\n",
       "      <td>0.012658</td>\n",
       "      <td>0.715190</td>\n",
       "      <td>0.085443</td>\n",
       "      <td>0.072785</td>\n",
       "      <td>...</td>\n",
       "      <td>0.003165</td>\n",
       "      <td>0.000000</td>\n",
       "      <td>0.000000</td>\n",
       "      <td>0.009494</td>\n",
       "      <td>0.000000</td>\n",
       "      <td>0.006329</td>\n",
       "      <td>0.075949</td>\n",
       "      <td>0.025316</td>\n",
       "      <td>0.022152</td>\n",
       "      <td>0.006329</td>\n",
       "    </tr>\n",
       "    <tr>\n",
       "      <th>1</th>\n",
       "      <td>0.061033</td>\n",
       "      <td>0.037559</td>\n",
       "      <td>0.000000</td>\n",
       "      <td>0.000000</td>\n",
       "      <td>0.117371</td>\n",
       "      <td>0.061033</td>\n",
       "      <td>0.037559</td>\n",
       "      <td>0.582160</td>\n",
       "      <td>0.084507</td>\n",
       "      <td>0.070423</td>\n",
       "      <td>...</td>\n",
       "      <td>0.000000</td>\n",
       "      <td>0.000000</td>\n",
       "      <td>0.000000</td>\n",
       "      <td>0.004695</td>\n",
       "      <td>0.004695</td>\n",
       "      <td>0.009390</td>\n",
       "      <td>0.042254</td>\n",
       "      <td>0.018779</td>\n",
       "      <td>0.023474</td>\n",
       "      <td>0.009390</td>\n",
       "    </tr>\n",
       "    <tr>\n",
       "      <th rowspan=\"2\" valign=\"top\">M</th>\n",
       "      <th>0</th>\n",
       "      <td>0.000000</td>\n",
       "      <td>0.000000</td>\n",
       "      <td>0.436275</td>\n",
       "      <td>0.406863</td>\n",
       "      <td>0.000000</td>\n",
       "      <td>0.029412</td>\n",
       "      <td>0.053922</td>\n",
       "      <td>0.117647</td>\n",
       "      <td>0.186275</td>\n",
       "      <td>0.161765</td>\n",
       "      <td>...</td>\n",
       "      <td>0.068627</td>\n",
       "      <td>0.112745</td>\n",
       "      <td>0.230392</td>\n",
       "      <td>0.142157</td>\n",
       "      <td>0.500000</td>\n",
       "      <td>0.142157</td>\n",
       "      <td>0.147059</td>\n",
       "      <td>0.019608</td>\n",
       "      <td>0.004902</td>\n",
       "      <td>0.078431</td>\n",
       "    </tr>\n",
       "    <tr>\n",
       "      <th>1</th>\n",
       "      <td>0.003663</td>\n",
       "      <td>0.000000</td>\n",
       "      <td>0.388278</td>\n",
       "      <td>0.578755</td>\n",
       "      <td>0.000000</td>\n",
       "      <td>0.003663</td>\n",
       "      <td>0.069597</td>\n",
       "      <td>0.095238</td>\n",
       "      <td>0.315018</td>\n",
       "      <td>0.172161</td>\n",
       "      <td>...</td>\n",
       "      <td>0.069597</td>\n",
       "      <td>0.073260</td>\n",
       "      <td>0.117216</td>\n",
       "      <td>0.124542</td>\n",
       "      <td>0.509158</td>\n",
       "      <td>0.205128</td>\n",
       "      <td>0.139194</td>\n",
       "      <td>0.029304</td>\n",
       "      <td>0.021978</td>\n",
       "      <td>0.157509</td>\n",
       "    </tr>\n",
       "    <tr>\n",
       "      <th rowspan=\"2\" valign=\"top\">T</th>\n",
       "      <th>0</th>\n",
       "      <td>0.039916</td>\n",
       "      <td>0.010504</td>\n",
       "      <td>0.430672</td>\n",
       "      <td>0.084034</td>\n",
       "      <td>0.010504</td>\n",
       "      <td>0.048319</td>\n",
       "      <td>0.056723</td>\n",
       "      <td>0.222689</td>\n",
       "      <td>0.132353</td>\n",
       "      <td>0.195378</td>\n",
       "      <td>...</td>\n",
       "      <td>0.027311</td>\n",
       "      <td>0.050420</td>\n",
       "      <td>0.039916</td>\n",
       "      <td>0.048319</td>\n",
       "      <td>0.008403</td>\n",
       "      <td>0.008403</td>\n",
       "      <td>0.210084</td>\n",
       "      <td>0.054622</td>\n",
       "      <td>0.044118</td>\n",
       "      <td>0.235294</td>\n",
       "    </tr>\n",
       "    <tr>\n",
       "      <th>1</th>\n",
       "      <td>0.073048</td>\n",
       "      <td>0.012594</td>\n",
       "      <td>0.387909</td>\n",
       "      <td>0.060453</td>\n",
       "      <td>0.040302</td>\n",
       "      <td>0.138539</td>\n",
       "      <td>0.032746</td>\n",
       "      <td>0.113350</td>\n",
       "      <td>0.075567</td>\n",
       "      <td>0.148615</td>\n",
       "      <td>...</td>\n",
       "      <td>0.017632</td>\n",
       "      <td>0.020151</td>\n",
       "      <td>0.040302</td>\n",
       "      <td>0.120907</td>\n",
       "      <td>0.010076</td>\n",
       "      <td>0.000000</td>\n",
       "      <td>0.151134</td>\n",
       "      <td>0.057935</td>\n",
       "      <td>0.035264</td>\n",
       "      <td>0.249370</td>\n",
       "    </tr>\n",
       "  </tbody>\n",
       "</table>\n",
       "<p>8 rows × 31 columns</p>\n",
       "</div>"
      ],
      "text/plain": [
       "                     alcohol_reference  animated_blood     blood  \\\n",
       "esrb_rating console                                                \n",
       "E           0                 0.035857        0.000000  0.000000   \n",
       "            1                 0.033962        0.000000  0.000000   \n",
       "ET          0                 0.129747        0.006329  0.000000   \n",
       "            1                 0.061033        0.037559  0.000000   \n",
       "M           0                 0.000000        0.000000  0.436275   \n",
       "            1                 0.003663        0.000000  0.388278   \n",
       "T           0                 0.039916        0.010504  0.430672   \n",
       "            1                 0.073048        0.012594  0.387909   \n",
       "\n",
       "                     blood_and_gore  cartoon_violence  crude_humor  \\\n",
       "esrb_rating console                                                  \n",
       "E           0              0.000000          0.000000     0.003984   \n",
       "            1              0.000000          0.000000     0.007547   \n",
       "ET          0              0.000000          0.006329     0.069620   \n",
       "            1              0.000000          0.117371     0.061033   \n",
       "M           0              0.406863          0.000000     0.029412   \n",
       "            1              0.578755          0.000000     0.003663   \n",
       "T           0              0.084034          0.010504     0.048319   \n",
       "            1              0.060453          0.040302     0.138539   \n",
       "\n",
       "                     drug_reference  fantasy_violence  intense_violence  \\\n",
       "esrb_rating console                                                       \n",
       "E           0              0.000000          0.000000          0.000000   \n",
       "            1              0.000000          0.000000          0.000000   \n",
       "ET          0              0.012658          0.715190          0.085443   \n",
       "            1              0.037559          0.582160          0.084507   \n",
       "M           0              0.053922          0.117647          0.186275   \n",
       "            1              0.069597          0.095238          0.315018   \n",
       "T           0              0.056723          0.222689          0.132353   \n",
       "            1              0.032746          0.113350          0.075567   \n",
       "\n",
       "                     language  ...  partial_nudity  sexual_content  \\\n",
       "esrb_rating console            ...                                   \n",
       "E           0        0.000000  ...        0.000000        0.000000   \n",
       "            1        0.000000  ...        0.000000        0.000000   \n",
       "ET          0        0.072785  ...        0.003165        0.000000   \n",
       "            1        0.070423  ...        0.000000        0.000000   \n",
       "M           0        0.161765  ...        0.068627        0.112745   \n",
       "            1        0.172161  ...        0.069597        0.073260   \n",
       "T           0        0.195378  ...        0.027311        0.050420   \n",
       "            1        0.148615  ...        0.017632        0.020151   \n",
       "\n",
       "                     sexual_themes  simulated_gambling  strong_janguage  \\\n",
       "esrb_rating console                                                       \n",
       "E           0             0.000000            0.000000         0.000000   \n",
       "            1             0.000000            0.000000         0.000000   \n",
       "ET          0             0.000000            0.009494         0.000000   \n",
       "            1             0.000000            0.004695         0.004695   \n",
       "M           0             0.230392            0.142157         0.500000   \n",
       "            1             0.117216            0.124542         0.509158   \n",
       "T           0             0.039916            0.048319         0.008403   \n",
       "            1             0.040302            0.120907         0.010076   \n",
       "\n",
       "                     strong_sexual_content  suggestive_themes  use_of_alcohol  \\\n",
       "esrb_rating console                                                             \n",
       "E           0                     0.000000           0.000000        0.000000   \n",
       "            1                     0.000000           0.000000        0.000000   \n",
       "ET          0                     0.006329           0.075949        0.025316   \n",
       "            1                     0.009390           0.042254        0.018779   \n",
       "M           0                     0.142157           0.147059        0.019608   \n",
       "            1                     0.205128           0.139194        0.029304   \n",
       "T           0                     0.008403           0.210084        0.054622   \n",
       "            1                     0.000000           0.151134        0.057935   \n",
       "\n",
       "                     use_of_drugs_and_alcohol  violence  \n",
       "esrb_rating console                                      \n",
       "E           0                        0.000000  0.003984  \n",
       "            1                        0.003774  0.000000  \n",
       "ET          0                        0.022152  0.006329  \n",
       "            1                        0.023474  0.009390  \n",
       "M           0                        0.004902  0.078431  \n",
       "            1                        0.021978  0.157509  \n",
       "T           0                        0.044118  0.235294  \n",
       "            1                        0.035264  0.249370  \n",
       "\n",
       "[8 rows x 31 columns]"
      ]
     },
     "execution_count": 12,
     "metadata": {},
     "output_type": "execute_result"
    }
   ],
   "source": [
    "#Organized table by Rating and Console, used as organization check\n",
    "combined_csv.pivot_table(index=[\"esrb_rating\",\"console\"])"
   ]
  },
  {
   "cell_type": "code",
   "execution_count": 13,
   "metadata": {
    "scrolled": false
   },
   "outputs": [
    {
     "data": {
      "text/html": [
       "<div>\n",
       "<style scoped>\n",
       "    .dataframe tbody tr th:only-of-type {\n",
       "        vertical-align: middle;\n",
       "    }\n",
       "\n",
       "    .dataframe tbody tr th {\n",
       "        vertical-align: top;\n",
       "    }\n",
       "\n",
       "    .dataframe thead th {\n",
       "        text-align: right;\n",
       "    }\n",
       "</style>\n",
       "<table border=\"1\" class=\"dataframe\">\n",
       "  <thead>\n",
       "    <tr style=\"text-align: right;\">\n",
       "      <th></th>\n",
       "      <th>console</th>\n",
       "      <th>alcohol_reference</th>\n",
       "      <th>animated_blood</th>\n",
       "      <th>blood</th>\n",
       "      <th>blood_and_gore</th>\n",
       "      <th>cartoon_violence</th>\n",
       "      <th>crude_humor</th>\n",
       "      <th>drug_reference</th>\n",
       "      <th>fantasy_violence</th>\n",
       "      <th>intense_violence</th>\n",
       "      <th>...</th>\n",
       "      <th>partial_nudity</th>\n",
       "      <th>sexual_content</th>\n",
       "      <th>sexual_themes</th>\n",
       "      <th>simulated_gambling</th>\n",
       "      <th>strong_janguage</th>\n",
       "      <th>strong_sexual_content</th>\n",
       "      <th>suggestive_themes</th>\n",
       "      <th>use_of_alcohol</th>\n",
       "      <th>use_of_drugs_and_alcohol</th>\n",
       "      <th>violence</th>\n",
       "    </tr>\n",
       "  </thead>\n",
       "  <tbody>\n",
       "    <tr>\n",
       "      <th>count</th>\n",
       "      <td>2395.000000</td>\n",
       "      <td>2395.000000</td>\n",
       "      <td>2395.000000</td>\n",
       "      <td>2395.000000</td>\n",
       "      <td>2395.000000</td>\n",
       "      <td>2395.000000</td>\n",
       "      <td>2395.000000</td>\n",
       "      <td>2395.000000</td>\n",
       "      <td>2395.000000</td>\n",
       "      <td>2395.000000</td>\n",
       "      <td>...</td>\n",
       "      <td>2395.000000</td>\n",
       "      <td>2395.000000</td>\n",
       "      <td>2395.000000</td>\n",
       "      <td>2395.000000</td>\n",
       "      <td>2395.000000</td>\n",
       "      <td>2395.000000</td>\n",
       "      <td>2395.000000</td>\n",
       "      <td>2395.00000</td>\n",
       "      <td>2395.000000</td>\n",
       "      <td>2395.000000</td>\n",
       "    </tr>\n",
       "    <tr>\n",
       "      <th>mean</th>\n",
       "      <td>0.479332</td>\n",
       "      <td>0.050522</td>\n",
       "      <td>0.008351</td>\n",
       "      <td>0.231315</td>\n",
       "      <td>0.127349</td>\n",
       "      <td>0.020042</td>\n",
       "      <td>0.051357</td>\n",
       "      <td>0.034238</td>\n",
       "      <td>0.230063</td>\n",
       "      <td>0.109395</td>\n",
       "      <td>...</td>\n",
       "      <td>0.022547</td>\n",
       "      <td>0.031315</td>\n",
       "      <td>0.047599</td>\n",
       "      <td>0.057620</td>\n",
       "      <td>0.104384</td>\n",
       "      <td>0.038831</td>\n",
       "      <td>0.108977</td>\n",
       "      <td>0.03048</td>\n",
       "      <td>0.022965</td>\n",
       "      <td>0.114823</td>\n",
       "    </tr>\n",
       "    <tr>\n",
       "      <th>std</th>\n",
       "      <td>0.499677</td>\n",
       "      <td>0.219065</td>\n",
       "      <td>0.091019</td>\n",
       "      <td>0.421762</td>\n",
       "      <td>0.333433</td>\n",
       "      <td>0.140172</td>\n",
       "      <td>0.220771</td>\n",
       "      <td>0.181878</td>\n",
       "      <td>0.420961</td>\n",
       "      <td>0.312199</td>\n",
       "      <td>...</td>\n",
       "      <td>0.148485</td>\n",
       "      <td>0.174205</td>\n",
       "      <td>0.212961</td>\n",
       "      <td>0.233072</td>\n",
       "      <td>0.305822</td>\n",
       "      <td>0.193232</td>\n",
       "      <td>0.311675</td>\n",
       "      <td>0.17194</td>\n",
       "      <td>0.149822</td>\n",
       "      <td>0.318874</td>\n",
       "    </tr>\n",
       "    <tr>\n",
       "      <th>min</th>\n",
       "      <td>0.000000</td>\n",
       "      <td>0.000000</td>\n",
       "      <td>0.000000</td>\n",
       "      <td>0.000000</td>\n",
       "      <td>0.000000</td>\n",
       "      <td>0.000000</td>\n",
       "      <td>0.000000</td>\n",
       "      <td>0.000000</td>\n",
       "      <td>0.000000</td>\n",
       "      <td>0.000000</td>\n",
       "      <td>...</td>\n",
       "      <td>0.000000</td>\n",
       "      <td>0.000000</td>\n",
       "      <td>0.000000</td>\n",
       "      <td>0.000000</td>\n",
       "      <td>0.000000</td>\n",
       "      <td>0.000000</td>\n",
       "      <td>0.000000</td>\n",
       "      <td>0.00000</td>\n",
       "      <td>0.000000</td>\n",
       "      <td>0.000000</td>\n",
       "    </tr>\n",
       "    <tr>\n",
       "      <th>25%</th>\n",
       "      <td>0.000000</td>\n",
       "      <td>0.000000</td>\n",
       "      <td>0.000000</td>\n",
       "      <td>0.000000</td>\n",
       "      <td>0.000000</td>\n",
       "      <td>0.000000</td>\n",
       "      <td>0.000000</td>\n",
       "      <td>0.000000</td>\n",
       "      <td>0.000000</td>\n",
       "      <td>0.000000</td>\n",
       "      <td>...</td>\n",
       "      <td>0.000000</td>\n",
       "      <td>0.000000</td>\n",
       "      <td>0.000000</td>\n",
       "      <td>0.000000</td>\n",
       "      <td>0.000000</td>\n",
       "      <td>0.000000</td>\n",
       "      <td>0.000000</td>\n",
       "      <td>0.00000</td>\n",
       "      <td>0.000000</td>\n",
       "      <td>0.000000</td>\n",
       "    </tr>\n",
       "    <tr>\n",
       "      <th>50%</th>\n",
       "      <td>0.000000</td>\n",
       "      <td>0.000000</td>\n",
       "      <td>0.000000</td>\n",
       "      <td>0.000000</td>\n",
       "      <td>0.000000</td>\n",
       "      <td>0.000000</td>\n",
       "      <td>0.000000</td>\n",
       "      <td>0.000000</td>\n",
       "      <td>0.000000</td>\n",
       "      <td>0.000000</td>\n",
       "      <td>...</td>\n",
       "      <td>0.000000</td>\n",
       "      <td>0.000000</td>\n",
       "      <td>0.000000</td>\n",
       "      <td>0.000000</td>\n",
       "      <td>0.000000</td>\n",
       "      <td>0.000000</td>\n",
       "      <td>0.000000</td>\n",
       "      <td>0.00000</td>\n",
       "      <td>0.000000</td>\n",
       "      <td>0.000000</td>\n",
       "    </tr>\n",
       "    <tr>\n",
       "      <th>75%</th>\n",
       "      <td>1.000000</td>\n",
       "      <td>0.000000</td>\n",
       "      <td>0.000000</td>\n",
       "      <td>0.000000</td>\n",
       "      <td>0.000000</td>\n",
       "      <td>0.000000</td>\n",
       "      <td>0.000000</td>\n",
       "      <td>0.000000</td>\n",
       "      <td>0.000000</td>\n",
       "      <td>0.000000</td>\n",
       "      <td>...</td>\n",
       "      <td>0.000000</td>\n",
       "      <td>0.000000</td>\n",
       "      <td>0.000000</td>\n",
       "      <td>0.000000</td>\n",
       "      <td>0.000000</td>\n",
       "      <td>0.000000</td>\n",
       "      <td>0.000000</td>\n",
       "      <td>0.00000</td>\n",
       "      <td>0.000000</td>\n",
       "      <td>0.000000</td>\n",
       "    </tr>\n",
       "    <tr>\n",
       "      <th>max</th>\n",
       "      <td>1.000000</td>\n",
       "      <td>1.000000</td>\n",
       "      <td>1.000000</td>\n",
       "      <td>1.000000</td>\n",
       "      <td>1.000000</td>\n",
       "      <td>1.000000</td>\n",
       "      <td>1.000000</td>\n",
       "      <td>1.000000</td>\n",
       "      <td>1.000000</td>\n",
       "      <td>1.000000</td>\n",
       "      <td>...</td>\n",
       "      <td>1.000000</td>\n",
       "      <td>1.000000</td>\n",
       "      <td>1.000000</td>\n",
       "      <td>1.000000</td>\n",
       "      <td>1.000000</td>\n",
       "      <td>1.000000</td>\n",
       "      <td>1.000000</td>\n",
       "      <td>1.00000</td>\n",
       "      <td>1.000000</td>\n",
       "      <td>1.000000</td>\n",
       "    </tr>\n",
       "  </tbody>\n",
       "</table>\n",
       "<p>8 rows × 32 columns</p>\n",
       "</div>"
      ],
      "text/plain": [
       "           console  alcohol_reference  animated_blood        blood  \\\n",
       "count  2395.000000        2395.000000     2395.000000  2395.000000   \n",
       "mean      0.479332           0.050522        0.008351     0.231315   \n",
       "std       0.499677           0.219065        0.091019     0.421762   \n",
       "min       0.000000           0.000000        0.000000     0.000000   \n",
       "25%       0.000000           0.000000        0.000000     0.000000   \n",
       "50%       0.000000           0.000000        0.000000     0.000000   \n",
       "75%       1.000000           0.000000        0.000000     0.000000   \n",
       "max       1.000000           1.000000        1.000000     1.000000   \n",
       "\n",
       "       blood_and_gore  cartoon_violence  crude_humor  drug_reference  \\\n",
       "count     2395.000000       2395.000000  2395.000000     2395.000000   \n",
       "mean         0.127349          0.020042     0.051357        0.034238   \n",
       "std          0.333433          0.140172     0.220771        0.181878   \n",
       "min          0.000000          0.000000     0.000000        0.000000   \n",
       "25%          0.000000          0.000000     0.000000        0.000000   \n",
       "50%          0.000000          0.000000     0.000000        0.000000   \n",
       "75%          0.000000          0.000000     0.000000        0.000000   \n",
       "max          1.000000          1.000000     1.000000        1.000000   \n",
       "\n",
       "       fantasy_violence  intense_violence  ...  partial_nudity  \\\n",
       "count       2395.000000       2395.000000  ...     2395.000000   \n",
       "mean           0.230063          0.109395  ...        0.022547   \n",
       "std            0.420961          0.312199  ...        0.148485   \n",
       "min            0.000000          0.000000  ...        0.000000   \n",
       "25%            0.000000          0.000000  ...        0.000000   \n",
       "50%            0.000000          0.000000  ...        0.000000   \n",
       "75%            0.000000          0.000000  ...        0.000000   \n",
       "max            1.000000          1.000000  ...        1.000000   \n",
       "\n",
       "       sexual_content  sexual_themes  simulated_gambling  strong_janguage  \\\n",
       "count     2395.000000    2395.000000         2395.000000      2395.000000   \n",
       "mean         0.031315       0.047599            0.057620         0.104384   \n",
       "std          0.174205       0.212961            0.233072         0.305822   \n",
       "min          0.000000       0.000000            0.000000         0.000000   \n",
       "25%          0.000000       0.000000            0.000000         0.000000   \n",
       "50%          0.000000       0.000000            0.000000         0.000000   \n",
       "75%          0.000000       0.000000            0.000000         0.000000   \n",
       "max          1.000000       1.000000            1.000000         1.000000   \n",
       "\n",
       "       strong_sexual_content  suggestive_themes  use_of_alcohol  \\\n",
       "count            2395.000000        2395.000000      2395.00000   \n",
       "mean                0.038831           0.108977         0.03048   \n",
       "std                 0.193232           0.311675         0.17194   \n",
       "min                 0.000000           0.000000         0.00000   \n",
       "25%                 0.000000           0.000000         0.00000   \n",
       "50%                 0.000000           0.000000         0.00000   \n",
       "75%                 0.000000           0.000000         0.00000   \n",
       "max                 1.000000           1.000000         1.00000   \n",
       "\n",
       "       use_of_drugs_and_alcohol     violence  \n",
       "count               2395.000000  2395.000000  \n",
       "mean                   0.022965     0.114823  \n",
       "std                    0.149822     0.318874  \n",
       "min                    0.000000     0.000000  \n",
       "25%                    0.000000     0.000000  \n",
       "50%                    0.000000     0.000000  \n",
       "75%                    0.000000     0.000000  \n",
       "max                    1.000000     1.000000  \n",
       "\n",
       "[8 rows x 32 columns]"
      ]
     },
     "execution_count": 13,
     "metadata": {},
     "output_type": "execute_result"
    }
   ],
   "source": [
    "#Checking values, values <= 1% Mean\n",
    "#Animated_Blood\n",
    "combined_csv.describe()"
   ]
  },
  {
   "cell_type": "code",
   "execution_count": 14,
   "metadata": {
    "scrolled": false
   },
   "outputs": [
    {
     "name": "stdout",
     "output_type": "stream",
     "text": [
      "South Park: The Stick of Truth                         2\n",
      "Jak 3                                                  2\n",
      "forma.8                                                2\n",
      "Human Fall Flat                                        2\n",
      "Polybius                                               2\n",
      "                                                      ..\n",
      "Rock Boshers DX: Director's Cut                        1\n",
      "Prison Boss VR                                         1\n",
      "Hatsune Miku: Project DIVA Future Tone Future Sound    1\n",
      "Neverending Nightmares                                 1\n",
      "Robonauts                                              1\n",
      "Name: title, Length: 2332, dtype: int64\n",
      "0    1247\n",
      "1    1148\n",
      "Name: console, dtype: int64\n",
      "0    2274\n",
      "1     121\n",
      "Name: alcohol_reference, dtype: int64\n",
      "0    2375\n",
      "1      20\n",
      "Name: animated_blood, dtype: int64\n",
      "0    1841\n",
      "1     554\n",
      "Name: blood, dtype: int64\n",
      "0    2090\n",
      "1     305\n",
      "Name: blood_and_gore, dtype: int64\n",
      "0    2347\n",
      "1      48\n",
      "Name: cartoon_violence, dtype: int64\n",
      "0    2272\n",
      "1     123\n",
      "Name: crude_humor, dtype: int64\n",
      "0    2313\n",
      "1      82\n",
      "Name: drug_reference, dtype: int64\n",
      "0    1844\n",
      "1     551\n",
      "Name: fantasy_violence, dtype: int64\n",
      "0    2133\n",
      "1     262\n",
      "Name: intense_violence, dtype: int64\n",
      "0    2125\n",
      "1     270\n",
      "Name: language, dtype: int64\n",
      "0    2312\n",
      "1      83\n",
      "Name: lyrics, dtype: int64\n",
      "0    2373\n",
      "1      22\n",
      "Name: mature_humor, dtype: int64\n",
      "0    2223\n",
      "1     172\n",
      "Name: mild_blood, dtype: int64\n",
      "0    2344\n",
      "1      51\n",
      "Name: mild_cartoon_violence, dtype: int64\n",
      "0    2275\n",
      "1     120\n",
      "Name: mild_fantasy_violence, dtype: int64\n",
      "0    2327\n",
      "1      68\n",
      "Name: mild_language, dtype: int64\n",
      "0    2217\n",
      "1     178\n",
      "Name: mild_lyrics, dtype: int64\n",
      "0    2291\n",
      "1     104\n",
      "Name: mild_suggestive_themes, dtype: int64\n",
      "0    2291\n",
      "1     104\n",
      "Name: mild_violence, dtype: int64\n",
      "0    2016\n",
      "1     379\n",
      "Name: no_descriptors, dtype: int64\n",
      "0    2356\n",
      "1      39\n",
      "Name: nudity, dtype: int64\n",
      "0    2341\n",
      "1      54\n",
      "Name: partial_nudity, dtype: int64\n",
      "0    2320\n",
      "1      75\n",
      "Name: sexual_content, dtype: int64\n",
      "0    2281\n",
      "1     114\n",
      "Name: sexual_themes, dtype: int64\n",
      "0    2257\n",
      "1     138\n",
      "Name: simulated_gambling, dtype: int64\n",
      "0    2145\n",
      "1     250\n",
      "Name: strong_janguage, dtype: int64\n",
      "0    2302\n",
      "1      93\n",
      "Name: strong_sexual_content, dtype: int64\n",
      "0    2134\n",
      "1     261\n",
      "Name: suggestive_themes, dtype: int64\n",
      "0    2322\n",
      "1      73\n",
      "Name: use_of_alcohol, dtype: int64\n",
      "0    2340\n",
      "1      55\n",
      "Name: use_of_drugs_and_alcohol, dtype: int64\n",
      "0    2120\n",
      "1     275\n",
      "Name: violence, dtype: int64\n",
      "T     873\n",
      "ET    529\n",
      "E     516\n",
      "M     477\n",
      "Name: esrb_rating, dtype: int64\n"
     ]
    }
   ],
   "source": [
    "#Get a count of possible duplicate titles that exist in both console categories (Binary Yes/No)\n",
    "#Count of Yes/No for each variable\n",
    "for column in combined_csv:\n",
    "    print(combined_csv[column].value_counts())"
   ]
  },
  {
   "cell_type": "code",
   "execution_count": 15,
   "metadata": {
    "scrolled": false
   },
   "outputs": [
    {
     "data": {
      "text/plain": [
       "Index(['South Park: The Stick of Truth', 'Jak 3', 'forma.8', 'Human Fall Flat',\n",
       "       'Polybius', 'Jak X: Combat Racing',\n",
       "       'River City Melee: Battle Royal Special', 'Pillars of Eternity',\n",
       "       'Revenant Saga', 'Night Trap - 25th Anniversary Edition',\n",
       "       'Pineview Drive', 'INSIDE', 'Elite Dangerous: Legendary Edition',\n",
       "       'Hellblade: Senua's Sacrifice', 'RAID: WORLD WAR II', 'Kero Blaster',\n",
       "       'BLACKHOLE: Complete Edition', 'Joe's Diner', 'Jak II',\n",
       "       'Children of Zodiarcs', 'Still Time', '2064: Read Only Memories',\n",
       "       'The Long Dark', 'Double Dragon 4', 'ICEY', 'Lethal League',\n",
       "       'IRON CRYPTICLE', '3D MiniGolf', 'Transport Giant', 'Duck Game',\n",
       "       'Surf World Series', 'Unbox - Newbie's Adventure',\n",
       "       'What Remains of Edith Finch', 'Kill The Bad Guy', 'Mages of Mystralia',\n",
       "       'Super Comboman: Smash Edition',\n",
       "       'The Metronomicon: Slay the Dance Floor',\n",
       "       'Momodora: Reverie Under the Moonlight', 'Super GunWorld 2',\n",
       "       '88 Heroes', 'Aaero', 'Destiny 2', 'Cities: Skylines',\n",
       "       'Cosmic Star Heroine', 'SHINY', 'BUTCHER', 'Windjammers',\n",
       "       'Future Unfolding', 'Nex Machina', 'The Inner World',\n",
       "       'Thimbleweed Park', 'Fallen Legion: Sins of an Empire', 'Late Shift',\n",
       "       '>Observer_', 'Narcosis', 'The Girl and the Robot', 'Crawl',\n",
       "       'Island Flight Simulator', 'Wonder Boy: The Dragon's Trap',\n",
       "       'Serial Cleaner', 'ADK DAMASHII', 'Fortnite',\n",
       "       'Paranormal Activity: The Lost Soul'],\n",
       "      dtype='object')"
      ]
     },
     "execution_count": 15,
     "metadata": {},
     "output_type": "execute_result"
    }
   ],
   "source": [
    "pd.DataFrame(combined_csv[\"title\"].value_counts()[combined_csv[\"title\"].value_counts() > 1]).index\n",
    "#Count of Duplicate Titles across platforms"
   ]
  },
  {
   "cell_type": "code",
   "execution_count": 16,
   "metadata": {},
   "outputs": [
    {
     "data": {
      "text/plain": [
       "63"
      ]
     },
     "execution_count": 16,
     "metadata": {},
     "output_type": "execute_result"
    }
   ],
   "source": [
    "#Number of duplicates in value count list\n",
    "len(pd.DataFrame(combined_csv[\"title\"].value_counts()[combined_csv[\"title\"].value_counts() > 1]).index)"
   ]
  },
  {
   "cell_type": "code",
   "execution_count": 17,
   "metadata": {},
   "outputs": [],
   "source": [
    "# 63 games that exist on both platforms but my function doesn't catch"
   ]
  },
  {
   "cell_type": "code",
   "execution_count": 18,
   "metadata": {
    "scrolled": false
   },
   "outputs": [
    {
     "data": {
      "text/html": [
       "<div>\n",
       "<style scoped>\n",
       "    .dataframe tbody tr th:only-of-type {\n",
       "        vertical-align: middle;\n",
       "    }\n",
       "\n",
       "    .dataframe tbody tr th {\n",
       "        vertical-align: top;\n",
       "    }\n",
       "\n",
       "    .dataframe thead th {\n",
       "        text-align: right;\n",
       "    }\n",
       "</style>\n",
       "<table border=\"1\" class=\"dataframe\">\n",
       "  <thead>\n",
       "    <tr style=\"text-align: right;\">\n",
       "      <th></th>\n",
       "      <th>title</th>\n",
       "      <th>console</th>\n",
       "      <th>alcohol_reference</th>\n",
       "      <th>animated_blood</th>\n",
       "      <th>blood</th>\n",
       "      <th>blood_and_gore</th>\n",
       "      <th>cartoon_violence</th>\n",
       "      <th>crude_humor</th>\n",
       "      <th>drug_reference</th>\n",
       "      <th>fantasy_violence</th>\n",
       "      <th>...</th>\n",
       "      <th>sexual_content</th>\n",
       "      <th>sexual_themes</th>\n",
       "      <th>simulated_gambling</th>\n",
       "      <th>strong_janguage</th>\n",
       "      <th>strong_sexual_content</th>\n",
       "      <th>suggestive_themes</th>\n",
       "      <th>use_of_alcohol</th>\n",
       "      <th>use_of_drugs_and_alcohol</th>\n",
       "      <th>violence</th>\n",
       "      <th>esrb_rating</th>\n",
       "    </tr>\n",
       "  </thead>\n",
       "  <tbody>\n",
       "    <tr>\n",
       "      <th>16</th>\n",
       "      <td>South Park: The Stick of Truth</td>\n",
       "      <td>1</td>\n",
       "      <td>0</td>\n",
       "      <td>0</td>\n",
       "      <td>0</td>\n",
       "      <td>1</td>\n",
       "      <td>0</td>\n",
       "      <td>0</td>\n",
       "      <td>0</td>\n",
       "      <td>1</td>\n",
       "      <td>...</td>\n",
       "      <td>0</td>\n",
       "      <td>0</td>\n",
       "      <td>0</td>\n",
       "      <td>1</td>\n",
       "      <td>1</td>\n",
       "      <td>0</td>\n",
       "      <td>0</td>\n",
       "      <td>0</td>\n",
       "      <td>0</td>\n",
       "      <td>M</td>\n",
       "    </tr>\n",
       "    <tr>\n",
       "      <th>1514</th>\n",
       "      <td>South Park: The Stick of Truth</td>\n",
       "      <td>1</td>\n",
       "      <td>0</td>\n",
       "      <td>0</td>\n",
       "      <td>0</td>\n",
       "      <td>1</td>\n",
       "      <td>0</td>\n",
       "      <td>0</td>\n",
       "      <td>1</td>\n",
       "      <td>0</td>\n",
       "      <td>...</td>\n",
       "      <td>0</td>\n",
       "      <td>0</td>\n",
       "      <td>0</td>\n",
       "      <td>1</td>\n",
       "      <td>0</td>\n",
       "      <td>0</td>\n",
       "      <td>0</td>\n",
       "      <td>0</td>\n",
       "      <td>0</td>\n",
       "      <td>M</td>\n",
       "    </tr>\n",
       "  </tbody>\n",
       "</table>\n",
       "<p>2 rows × 34 columns</p>\n",
       "</div>"
      ],
      "text/plain": [
       "                               title  console  alcohol_reference  \\\n",
       "16    South Park: The Stick of Truth        1                  0   \n",
       "1514  South Park: The Stick of Truth        1                  0   \n",
       "\n",
       "      animated_blood  blood  blood_and_gore  cartoon_violence  crude_humor  \\\n",
       "16                 0      0               1                 0            0   \n",
       "1514               0      0               1                 0            0   \n",
       "\n",
       "      drug_reference  fantasy_violence  ...  sexual_content  sexual_themes  \\\n",
       "16                 0                 1  ...               0              0   \n",
       "1514               1                 0  ...               0              0   \n",
       "\n",
       "      simulated_gambling  strong_janguage  strong_sexual_content  \\\n",
       "16                     0                1                      1   \n",
       "1514                   0                1                      0   \n",
       "\n",
       "      suggestive_themes  use_of_alcohol  use_of_drugs_and_alcohol  violence  \\\n",
       "16                    0               0                         0         0   \n",
       "1514                  0               0                         0         0   \n",
       "\n",
       "      esrb_rating  \n",
       "16              M  \n",
       "1514            M  \n",
       "\n",
       "[2 rows x 34 columns]"
      ]
     },
     "execution_count": 18,
     "metadata": {},
     "output_type": "execute_result"
    }
   ],
   "source": [
    "combined_csv[combined_csv['title']==\"South Park: The Stick of Truth\"]\n",
    "#Variables don't match for the same game/sometimes same console\n",
    "#South Park used as example\n",
    "#Future Work could include further decision making about which to keep/drop/etc"
   ]
  },
  {
   "cell_type": "markdown",
   "metadata": {},
   "source": [
    "## EDA by Platform"
   ]
  },
  {
   "cell_type": "code",
   "execution_count": 19,
   "metadata": {},
   "outputs": [
    {
     "data": {
      "text/html": [
       "<div>\n",
       "<style scoped>\n",
       "    .dataframe tbody tr th:only-of-type {\n",
       "        vertical-align: middle;\n",
       "    }\n",
       "\n",
       "    .dataframe tbody tr th {\n",
       "        vertical-align: top;\n",
       "    }\n",
       "\n",
       "    .dataframe thead th {\n",
       "        text-align: right;\n",
       "    }\n",
       "</style>\n",
       "<table border=\"1\" class=\"dataframe\">\n",
       "  <thead>\n",
       "    <tr style=\"text-align: right;\">\n",
       "      <th></th>\n",
       "      <th>title</th>\n",
       "      <th>console</th>\n",
       "      <th>alcohol_reference</th>\n",
       "      <th>animated_blood</th>\n",
       "      <th>blood</th>\n",
       "      <th>blood_and_gore</th>\n",
       "      <th>cartoon_violence</th>\n",
       "      <th>crude_humor</th>\n",
       "      <th>drug_reference</th>\n",
       "      <th>fantasy_violence</th>\n",
       "      <th>...</th>\n",
       "      <th>sexual_content</th>\n",
       "      <th>sexual_themes</th>\n",
       "      <th>simulated_gambling</th>\n",
       "      <th>strong_janguage</th>\n",
       "      <th>strong_sexual_content</th>\n",
       "      <th>suggestive_themes</th>\n",
       "      <th>use_of_alcohol</th>\n",
       "      <th>use_of_drugs_and_alcohol</th>\n",
       "      <th>violence</th>\n",
       "      <th>esrb_rating</th>\n",
       "    </tr>\n",
       "  </thead>\n",
       "  <tbody>\n",
       "    <tr>\n",
       "      <th>0</th>\n",
       "      <td>Still Time</td>\n",
       "      <td>0</td>\n",
       "      <td>0</td>\n",
       "      <td>0</td>\n",
       "      <td>1</td>\n",
       "      <td>0</td>\n",
       "      <td>0</td>\n",
       "      <td>0</td>\n",
       "      <td>0</td>\n",
       "      <td>0</td>\n",
       "      <td>...</td>\n",
       "      <td>0</td>\n",
       "      <td>0</td>\n",
       "      <td>0</td>\n",
       "      <td>0</td>\n",
       "      <td>0</td>\n",
       "      <td>0</td>\n",
       "      <td>0</td>\n",
       "      <td>0</td>\n",
       "      <td>1</td>\n",
       "      <td>T</td>\n",
       "    </tr>\n",
       "    <tr>\n",
       "      <th>2</th>\n",
       "      <td>The Metronomicon: Slay the Dance Floor</td>\n",
       "      <td>1</td>\n",
       "      <td>0</td>\n",
       "      <td>0</td>\n",
       "      <td>0</td>\n",
       "      <td>1</td>\n",
       "      <td>0</td>\n",
       "      <td>0</td>\n",
       "      <td>0</td>\n",
       "      <td>1</td>\n",
       "      <td>...</td>\n",
       "      <td>0</td>\n",
       "      <td>0</td>\n",
       "      <td>0</td>\n",
       "      <td>0</td>\n",
       "      <td>0</td>\n",
       "      <td>0</td>\n",
       "      <td>0</td>\n",
       "      <td>0</td>\n",
       "      <td>0</td>\n",
       "      <td>T</td>\n",
       "    </tr>\n",
       "    <tr>\n",
       "      <th>16</th>\n",
       "      <td>South Park: The Stick of Truth</td>\n",
       "      <td>1</td>\n",
       "      <td>0</td>\n",
       "      <td>0</td>\n",
       "      <td>0</td>\n",
       "      <td>1</td>\n",
       "      <td>0</td>\n",
       "      <td>0</td>\n",
       "      <td>0</td>\n",
       "      <td>1</td>\n",
       "      <td>...</td>\n",
       "      <td>0</td>\n",
       "      <td>0</td>\n",
       "      <td>0</td>\n",
       "      <td>1</td>\n",
       "      <td>1</td>\n",
       "      <td>0</td>\n",
       "      <td>0</td>\n",
       "      <td>0</td>\n",
       "      <td>0</td>\n",
       "      <td>M</td>\n",
       "    </tr>\n",
       "    <tr>\n",
       "      <th>22</th>\n",
       "      <td>Mages of Mystralia</td>\n",
       "      <td>1</td>\n",
       "      <td>0</td>\n",
       "      <td>0</td>\n",
       "      <td>0</td>\n",
       "      <td>0</td>\n",
       "      <td>0</td>\n",
       "      <td>0</td>\n",
       "      <td>0</td>\n",
       "      <td>1</td>\n",
       "      <td>...</td>\n",
       "      <td>0</td>\n",
       "      <td>0</td>\n",
       "      <td>0</td>\n",
       "      <td>0</td>\n",
       "      <td>0</td>\n",
       "      <td>0</td>\n",
       "      <td>0</td>\n",
       "      <td>0</td>\n",
       "      <td>0</td>\n",
       "      <td>ET</td>\n",
       "    </tr>\n",
       "    <tr>\n",
       "      <th>31</th>\n",
       "      <td>Super Comboman: Smash Edition</td>\n",
       "      <td>1</td>\n",
       "      <td>0</td>\n",
       "      <td>0</td>\n",
       "      <td>0</td>\n",
       "      <td>0</td>\n",
       "      <td>0</td>\n",
       "      <td>0</td>\n",
       "      <td>0</td>\n",
       "      <td>1</td>\n",
       "      <td>...</td>\n",
       "      <td>0</td>\n",
       "      <td>0</td>\n",
       "      <td>0</td>\n",
       "      <td>0</td>\n",
       "      <td>0</td>\n",
       "      <td>0</td>\n",
       "      <td>0</td>\n",
       "      <td>0</td>\n",
       "      <td>0</td>\n",
       "      <td>ET</td>\n",
       "    </tr>\n",
       "    <tr>\n",
       "      <th>...</th>\n",
       "      <td>...</td>\n",
       "      <td>...</td>\n",
       "      <td>...</td>\n",
       "      <td>...</td>\n",
       "      <td>...</td>\n",
       "      <td>...</td>\n",
       "      <td>...</td>\n",
       "      <td>...</td>\n",
       "      <td>...</td>\n",
       "      <td>...</td>\n",
       "      <td>...</td>\n",
       "      <td>...</td>\n",
       "      <td>...</td>\n",
       "      <td>...</td>\n",
       "      <td>...</td>\n",
       "      <td>...</td>\n",
       "      <td>...</td>\n",
       "      <td>...</td>\n",
       "      <td>...</td>\n",
       "      <td>...</td>\n",
       "      <td>...</td>\n",
       "    </tr>\n",
       "    <tr>\n",
       "      <th>1720</th>\n",
       "      <td>Crawl</td>\n",
       "      <td>0</td>\n",
       "      <td>0</td>\n",
       "      <td>0</td>\n",
       "      <td>0</td>\n",
       "      <td>1</td>\n",
       "      <td>0</td>\n",
       "      <td>1</td>\n",
       "      <td>0</td>\n",
       "      <td>0</td>\n",
       "      <td>...</td>\n",
       "      <td>0</td>\n",
       "      <td>1</td>\n",
       "      <td>0</td>\n",
       "      <td>0</td>\n",
       "      <td>0</td>\n",
       "      <td>0</td>\n",
       "      <td>0</td>\n",
       "      <td>0</td>\n",
       "      <td>0</td>\n",
       "      <td>T</td>\n",
       "    </tr>\n",
       "    <tr>\n",
       "      <th>1810</th>\n",
       "      <td>The Inner World</td>\n",
       "      <td>1</td>\n",
       "      <td>0</td>\n",
       "      <td>0</td>\n",
       "      <td>0</td>\n",
       "      <td>0</td>\n",
       "      <td>0</td>\n",
       "      <td>0</td>\n",
       "      <td>0</td>\n",
       "      <td>0</td>\n",
       "      <td>...</td>\n",
       "      <td>0</td>\n",
       "      <td>0</td>\n",
       "      <td>0</td>\n",
       "      <td>0</td>\n",
       "      <td>0</td>\n",
       "      <td>1</td>\n",
       "      <td>0</td>\n",
       "      <td>1</td>\n",
       "      <td>0</td>\n",
       "      <td>T</td>\n",
       "    </tr>\n",
       "    <tr>\n",
       "      <th>1833</th>\n",
       "      <td>RAID: WORLD WAR II</td>\n",
       "      <td>1</td>\n",
       "      <td>0</td>\n",
       "      <td>0</td>\n",
       "      <td>0</td>\n",
       "      <td>1</td>\n",
       "      <td>0</td>\n",
       "      <td>0</td>\n",
       "      <td>0</td>\n",
       "      <td>0</td>\n",
       "      <td>...</td>\n",
       "      <td>0</td>\n",
       "      <td>0</td>\n",
       "      <td>0</td>\n",
       "      <td>1</td>\n",
       "      <td>0</td>\n",
       "      <td>0</td>\n",
       "      <td>0</td>\n",
       "      <td>0</td>\n",
       "      <td>0</td>\n",
       "      <td>M</td>\n",
       "    </tr>\n",
       "    <tr>\n",
       "      <th>1885</th>\n",
       "      <td>Pillars of Eternity</td>\n",
       "      <td>1</td>\n",
       "      <td>0</td>\n",
       "      <td>0</td>\n",
       "      <td>1</td>\n",
       "      <td>0</td>\n",
       "      <td>0</td>\n",
       "      <td>0</td>\n",
       "      <td>0</td>\n",
       "      <td>0</td>\n",
       "      <td>...</td>\n",
       "      <td>0</td>\n",
       "      <td>1</td>\n",
       "      <td>0</td>\n",
       "      <td>1</td>\n",
       "      <td>0</td>\n",
       "      <td>0</td>\n",
       "      <td>0</td>\n",
       "      <td>0</td>\n",
       "      <td>0</td>\n",
       "      <td>M</td>\n",
       "    </tr>\n",
       "    <tr>\n",
       "      <th>1893</th>\n",
       "      <td>Still Time</td>\n",
       "      <td>0</td>\n",
       "      <td>0</td>\n",
       "      <td>0</td>\n",
       "      <td>1</td>\n",
       "      <td>0</td>\n",
       "      <td>0</td>\n",
       "      <td>0</td>\n",
       "      <td>0</td>\n",
       "      <td>0</td>\n",
       "      <td>...</td>\n",
       "      <td>0</td>\n",
       "      <td>0</td>\n",
       "      <td>0</td>\n",
       "      <td>0</td>\n",
       "      <td>0</td>\n",
       "      <td>0</td>\n",
       "      <td>0</td>\n",
       "      <td>0</td>\n",
       "      <td>0</td>\n",
       "      <td>T</td>\n",
       "    </tr>\n",
       "  </tbody>\n",
       "</table>\n",
       "<p>78 rows × 34 columns</p>\n",
       "</div>"
      ],
      "text/plain": [
       "                                       title  console  alcohol_reference  \\\n",
       "0                                 Still Time        0                  0   \n",
       "2     The Metronomicon: Slay the Dance Floor        1                  0   \n",
       "16            South Park: The Stick of Truth        1                  0   \n",
       "22                        Mages of Mystralia        1                  0   \n",
       "31             Super Comboman: Smash Edition        1                  0   \n",
       "...                                      ...      ...                ...   \n",
       "1720                                   Crawl        0                  0   \n",
       "1810                         The Inner World        1                  0   \n",
       "1833                      RAID: WORLD WAR II        1                  0   \n",
       "1885                     Pillars of Eternity        1                  0   \n",
       "1893                              Still Time        0                  0   \n",
       "\n",
       "      animated_blood  blood  blood_and_gore  cartoon_violence  crude_humor  \\\n",
       "0                  0      1               0                 0            0   \n",
       "2                  0      0               1                 0            0   \n",
       "16                 0      0               1                 0            0   \n",
       "22                 0      0               0                 0            0   \n",
       "31                 0      0               0                 0            0   \n",
       "...              ...    ...             ...               ...          ...   \n",
       "1720               0      0               1                 0            1   \n",
       "1810               0      0               0                 0            0   \n",
       "1833               0      0               1                 0            0   \n",
       "1885               0      1               0                 0            0   \n",
       "1893               0      1               0                 0            0   \n",
       "\n",
       "      drug_reference  fantasy_violence  ...  sexual_content  sexual_themes  \\\n",
       "0                  0                 0  ...               0              0   \n",
       "2                  0                 1  ...               0              0   \n",
       "16                 0                 1  ...               0              0   \n",
       "22                 0                 1  ...               0              0   \n",
       "31                 0                 1  ...               0              0   \n",
       "...              ...               ...  ...             ...            ...   \n",
       "1720               0                 0  ...               0              1   \n",
       "1810               0                 0  ...               0              0   \n",
       "1833               0                 0  ...               0              0   \n",
       "1885               0                 0  ...               0              1   \n",
       "1893               0                 0  ...               0              0   \n",
       "\n",
       "      simulated_gambling  strong_janguage  strong_sexual_content  \\\n",
       "0                      0                0                      0   \n",
       "2                      0                0                      0   \n",
       "16                     0                1                      1   \n",
       "22                     0                0                      0   \n",
       "31                     0                0                      0   \n",
       "...                  ...              ...                    ...   \n",
       "1720                   0                0                      0   \n",
       "1810                   0                0                      0   \n",
       "1833                   0                1                      0   \n",
       "1885                   0                1                      0   \n",
       "1893                   0                0                      0   \n",
       "\n",
       "      suggestive_themes  use_of_alcohol  use_of_drugs_and_alcohol  violence  \\\n",
       "0                     0               0                         0         1   \n",
       "2                     0               0                         0         0   \n",
       "16                    0               0                         0         0   \n",
       "22                    0               0                         0         0   \n",
       "31                    0               0                         0         0   \n",
       "...                 ...             ...                       ...       ...   \n",
       "1720                  0               0                         0         0   \n",
       "1810                  1               0                         1         0   \n",
       "1833                  0               0                         0         0   \n",
       "1885                  0               0                         0         0   \n",
       "1893                  0               0                         0         0   \n",
       "\n",
       "      esrb_rating  \n",
       "0               T  \n",
       "2               T  \n",
       "16              M  \n",
       "22             ET  \n",
       "31             ET  \n",
       "...           ...  \n",
       "1720            T  \n",
       "1810            T  \n",
       "1833            M  \n",
       "1885            M  \n",
       "1893            T  \n",
       "\n",
       "[78 rows x 34 columns]"
      ]
     },
     "execution_count": 19,
     "metadata": {},
     "output_type": "execute_result"
    }
   ],
   "source": [
    "#Where Duplicated Titles\n",
    "combined_csv.drop_duplicates(inplace=True)\n",
    "#Rows where titles are duplicated, consoles are different AND will drop row if the row is an exact duplicate\n",
    "combined_csv[combined_csv['title'].duplicated(keep=False)]"
   ]
  },
  {
   "cell_type": "code",
   "execution_count": 20,
   "metadata": {
    "scrolled": false
   },
   "outputs": [
    {
     "data": {
      "image/png": "[encoded data removed]",
      "text/plain": [
       "<Figure size 864x432 with 2 Axes>"
      ]
     },
     "metadata": {
      "needs_background": "light"
     },
     "output_type": "display_data"
    }
   ],
   "source": [
    "#Game Distribution & visualization of overlap\n",
    "plot_game_consoles(combined_csv)"
   ]
  },
  {
   "cell_type": "markdown",
   "metadata": {},
   "source": [
    "## EDA By Rating"
   ]
  },
  {
   "cell_type": "code",
   "execution_count": 76,
   "metadata": {},
   "outputs": [
    {
     "data": {
      "image/png": "[encoded data removed]",
      "text/plain": [
       "<Figure size 864x432 with 2 Axes>"
      ]
     },
     "metadata": {
      "needs_background": "light"
     },
     "output_type": "display_data"
    }
   ],
   "source": [
    "#Game Distribution by Rating\n",
    "plot_game_ratings(combined_csv)"
   ]
  },
  {
   "cell_type": "markdown",
   "metadata": {},
   "source": [
    "## Correlation"
   ]
  },
  {
   "cell_type": "code",
   "execution_count": null,
   "metadata": {},
   "outputs": [],
   "source": [
    "# Create correlation matrix\n",
    "corr = combined_csv.corr()\n",
    "# Mask copied upper triangle of correlation to be hidden\n",
    "mask = np.triu(np.ones_like(corr, dtype=np.bool))"
   ]
  },
  {
   "cell_type": "code",
   "execution_count": null,
   "metadata": {
    "scrolled": false
   },
   "outputs": [],
   "source": [
    "fig, ax = plt.subplots(figsize=(25,20))\n",
    "# Numeric correlation to 3 digits\n",
    "corr = combined_csv.corr().round(3)\n",
    "# Seaborn Heatmap\n",
    "sb.heatmap(corr, annot=True,ax=ax, mask=mask)\n",
    "# Plot Details\n",
    "plt.setp(ax.get_xticklabels(), \n",
    "         rotation=45, \n",
    "         ha=\"right\",\n",
    "         rotation_mode=\"anchor\")\n",
    "# Title\n",
    "ax.set_title('Correlations')\n",
    "fig.tight_layout()"
   ]
  },
  {
   "cell_type": "code",
   "execution_count": null,
   "metadata": {},
   "outputs": [],
   "source": [
    "combined_csv.hist(figsize=(15,15))\n",
    "plt.tight_layout()"
   ]
  },
  {
   "cell_type": "markdown",
   "metadata": {},
   "source": [
    "# MODEL"
   ]
  },
  {
   "cell_type": "markdown",
   "metadata": {},
   "source": [
    "## Train Test Split"
   ]
  },
  {
   "cell_type": "code",
   "execution_count": 22,
   "metadata": {},
   "outputs": [],
   "source": [
    "# Set Order To Categories\n",
    "mapp = {'E' : 0,\n",
    "        'ET': 1,\n",
    "        'T' : 2,\n",
    "        'M' : 3,\n",
    "}\n",
    "\n",
    "combined_csv['esrb_rating'] = combined_csv['esrb_rating'].map(mapp)"
   ]
  },
  {
   "cell_type": "code",
   "execution_count": 23,
   "metadata": {},
   "outputs": [],
   "source": [
    "#X variables drop Rating and Title\n",
    "X = combined_csv.drop(['esrb_rating', 'title'],1)\n",
    "\n",
    "#Y variable is Rating\n",
    "y = combined_csv[['esrb_rating']]\n",
    "\n",
    "#Train test split 70/30\n",
    "X_train, X_test, y_train, y_test = train_test_split(X, y, test_size = 0.3, random_state = 354681)"
   ]
  },
  {
   "cell_type": "markdown",
   "metadata": {},
   "source": [
    "## Initial Model"
   ]
  },
  {
   "cell_type": "markdown",
   "metadata": {},
   "source": [
    "### Decision Tree"
   ]
  },
  {
   "cell_type": "code",
   "execution_count": 24,
   "metadata": {},
   "outputs": [
    {
     "data": {
      "text/plain": [
       "DecisionTreeClassifier()"
      ]
     },
     "execution_count": 24,
     "metadata": {},
     "output_type": "execute_result"
    }
   ],
   "source": [
    "#decision tree, initial classifier, no parameters\n",
    "dtc = DecisionTreeClassifier()\n",
    "#fit decision tree to train test split\n",
    "dtc.fit(X_train, y_train)"
   ]
  },
  {
   "cell_type": "code",
   "execution_count": 25,
   "metadata": {},
   "outputs": [
    {
     "data": {
      "text/plain": [
       "0.9282700421940928"
      ]
     },
     "execution_count": 25,
     "metadata": {},
     "output_type": "execute_result"
    }
   ],
   "source": [
    "#Initial dtc training score\n",
    "dtc.score(X_train, y_train)"
   ]
  },
  {
   "cell_type": "code",
   "execution_count": 26,
   "metadata": {},
   "outputs": [
    {
     "data": {
      "text/plain": [
       "0.8370786516853933"
      ]
     },
     "execution_count": 26,
     "metadata": {},
     "output_type": "execute_result"
    }
   ],
   "source": [
    "#Initial dtc test score\n",
    "dtc.score(X_test, y_test)"
   ]
  },
  {
   "cell_type": "code",
   "execution_count": 27,
   "metadata": {
    "scrolled": false
   },
   "outputs": [
    {
     "data": {
      "image/png": "[encoded data removed]",
      "text/plain": [
       "<Figure size 576x576 with 2 Axes>"
      ]
     },
     "metadata": {
      "needs_background": "light"
     },
     "output_type": "display_data"
    },
    {
     "name": "stdout",
     "output_type": "stream",
     "text": [
      "              precision    recall  f1-score   support\n",
      "\n",
      "           0       0.93      0.99      0.96       138\n",
      "           1       0.74      0.86      0.80       143\n",
      "           2       0.82      0.77      0.80       268\n",
      "           3       0.88      0.80      0.84       163\n",
      "\n",
      "    accuracy                           0.84       712\n",
      "   macro avg       0.84      0.85      0.85       712\n",
      "weighted avg       0.84      0.84      0.84       712\n",
      "\n",
      "Accuracy:83.71%\n"
     ]
    }
   ],
   "source": [
    "#Confusion matrix, initial dtc classifier\n",
    "classification(\n",
    "    X_train=X_train,\n",
    "    X_test=X_test,\n",
    "    y_train=y_train,\n",
    "    y_test=y_test,\n",
    "    classifier=dtc)"
   ]
  },
  {
   "cell_type": "markdown",
   "metadata": {},
   "source": [
    "### KNN"
   ]
  },
  {
   "cell_type": "code",
   "execution_count": 28,
   "metadata": {},
   "outputs": [
    {
     "name": "stderr",
     "output_type": "stream",
     "text": [
      "C:\\Users\\c_fre\\anaconda3\\envs\\learn-env\\lib\\site-packages\\sklearn\\neighbors\\_classification.py:179: DataConversionWarning: A column-vector y was passed when a 1d array was expected. Please change the shape of y to (n_samples,), for example using ravel().\n",
      "  return self._fit(X, y)\n"
     ]
    },
    {
     "data": {
      "text/plain": [
       "KNeighborsClassifier()"
      ]
     },
     "execution_count": 28,
     "metadata": {},
     "output_type": "execute_result"
    }
   ],
   "source": [
    "#knn, initial classifier, no parameters\n",
    "knn = KNeighborsClassifier()\n",
    "\n",
    "#fit knn to train test split\n",
    "knn.fit(X_train, y_train)"
   ]
  },
  {
   "cell_type": "code",
   "execution_count": 29,
   "metadata": {},
   "outputs": [
    {
     "data": {
      "text/plain": [
       "0.8468957203134418"
      ]
     },
     "execution_count": 29,
     "metadata": {},
     "output_type": "execute_result"
    }
   ],
   "source": [
    "#Initial KNN training score\n",
    "knn.score(X_train, y_train)"
   ]
  },
  {
   "cell_type": "code",
   "execution_count": 30,
   "metadata": {},
   "outputs": [
    {
     "data": {
      "text/plain": [
       "0.7865168539325843"
      ]
     },
     "execution_count": 30,
     "metadata": {},
     "output_type": "execute_result"
    }
   ],
   "source": [
    "#Initial knn test score\n",
    "knn.score(X_test, y_test)"
   ]
  },
  {
   "cell_type": "code",
   "execution_count": 31,
   "metadata": {
    "scrolled": false
   },
   "outputs": [
    {
     "data": {
      "image/png": "[encoded data removed]",
      "text/plain": [
       "<Figure size 576x576 with 2 Axes>"
      ]
     },
     "metadata": {
      "needs_background": "light"
     },
     "output_type": "display_data"
    },
    {
     "name": "stdout",
     "output_type": "stream",
     "text": [
      "              precision    recall  f1-score   support\n",
      "\n",
      "           0       0.79      0.99      0.88       138\n",
      "           1       0.70      0.83      0.76       143\n",
      "           2       0.81      0.66      0.73       268\n",
      "           3       0.85      0.78      0.81       163\n",
      "\n",
      "    accuracy                           0.79       712\n",
      "   macro avg       0.79      0.82      0.79       712\n",
      "weighted avg       0.79      0.79      0.78       712\n",
      "\n",
      "Accuracy:78.65%\n"
     ]
    }
   ],
   "source": [
    "#Confusion matrix, initial knn classifier\n",
    "classification(\n",
    "    X_train=X_train,\n",
    "    X_test=X_test,\n",
    "    y_train=y_train,\n",
    "    y_test=y_test,\n",
    "    classifier=knn)"
   ]
  },
  {
   "cell_type": "markdown",
   "metadata": {},
   "source": [
    "### Random Forest"
   ]
  },
  {
   "cell_type": "code",
   "execution_count": 32,
   "metadata": {},
   "outputs": [
    {
     "name": "stderr",
     "output_type": "stream",
     "text": [
      "C:\\Users\\c_fre\\anaconda3\\envs\\learn-env\\lib\\site-packages\\ipykernel_launcher.py:5: DataConversionWarning: A column-vector y was passed when a 1d array was expected. Please change the shape of y to (n_samples,), for example using ravel().\n",
      "  \"\"\"\n"
     ]
    },
    {
     "data": {
      "text/plain": [
       "RandomForestClassifier()"
      ]
     },
     "execution_count": 32,
     "metadata": {},
     "output_type": "execute_result"
    }
   ],
   "source": [
    "#rfc, initial classifier, no parameters\n",
    "rfc = RandomForestClassifier()\n",
    "\n",
    "#fit rfc to train test split\n",
    "rfc.fit(X_train, y_train)"
   ]
  },
  {
   "cell_type": "code",
   "execution_count": 33,
   "metadata": {},
   "outputs": [
    {
     "data": {
      "text/plain": [
       "0.9282700421940928"
      ]
     },
     "execution_count": 33,
     "metadata": {},
     "output_type": "execute_result"
    }
   ],
   "source": [
    "#Initial rfc training score\n",
    "rfc.score(X_train, y_train)"
   ]
  },
  {
   "cell_type": "code",
   "execution_count": 34,
   "metadata": {},
   "outputs": [
    {
     "data": {
      "text/plain": [
       "0.8525280898876404"
      ]
     },
     "execution_count": 34,
     "metadata": {},
     "output_type": "execute_result"
    }
   ],
   "source": [
    "#Initial RFC test score\n",
    "rfc.score(X_test, y_test)"
   ]
  },
  {
   "cell_type": "code",
   "execution_count": 35,
   "metadata": {
    "scrolled": false
   },
   "outputs": [
    {
     "data": {
      "image/png": "[encoded data removed]",
      "text/plain": [
       "<Figure size 576x576 with 2 Axes>"
      ]
     },
     "metadata": {
      "needs_background": "light"
     },
     "output_type": "display_data"
    },
    {
     "name": "stdout",
     "output_type": "stream",
     "text": [
      "              precision    recall  f1-score   support\n",
      "\n",
      "           0       0.96      0.99      0.98       138\n",
      "           1       0.77      0.83      0.80       143\n",
      "           2       0.83      0.80      0.81       268\n",
      "           3       0.88      0.84      0.86       163\n",
      "\n",
      "    accuracy                           0.85       712\n",
      "   macro avg       0.86      0.87      0.86       712\n",
      "weighted avg       0.85      0.85      0.85       712\n",
      "\n",
      "Accuracy:85.25%\n"
     ]
    }
   ],
   "source": [
    "#Confusion matrix, initial rfc classifier\n",
    "classification(\n",
    "    X_train=X_train,\n",
    "    X_test=X_test,\n",
    "    y_train=y_train,\n",
    "    y_test=y_test,\n",
    "    classifier=rfc)"
   ]
  },
  {
   "cell_type": "markdown",
   "metadata": {},
   "source": [
    "# 1st Refined Models"
   ]
  },
  {
   "cell_type": "markdown",
   "metadata": {},
   "source": [
    "### Decision Tree Refined Model"
   ]
  },
  {
   "cell_type": "code",
   "execution_count": 36,
   "metadata": {},
   "outputs": [],
   "source": [
    "##Fit decision tree, applying parameters to refine search\n",
    "dtc_param_grid1 = {\n",
    "    'criterion': ['gini', 'entropy'],\n",
    "    'max_depth': [None, 2, 3, 4, 5, 6],\n",
    "    'min_samples_split': [2, 5, 10],\n",
    "    'min_samples_leaf': [1, 2, 3, 4, 5, 6]\n",
    "}"
   ]
  },
  {
   "cell_type": "code",
   "execution_count": 37,
   "metadata": {},
   "outputs": [
    {
     "data": {
      "text/plain": [
       "GridSearchCV(cv=3, estimator=DecisionTreeClassifier(),\n",
       "             param_grid={'criterion': ['gini', 'entropy'],\n",
       "                         'max_depth': [None, 2, 3, 4, 5, 6],\n",
       "                         'min_samples_leaf': [1, 2, 3, 4, 5, 6],\n",
       "                         'min_samples_split': [2, 5, 10]},\n",
       "             return_train_score=True)"
      ]
     },
     "execution_count": 37,
     "metadata": {},
     "output_type": "execute_result"
    }
   ],
   "source": [
    "#GridSearchCV on DTC\n",
    "dtc_grid_search1 = GridSearchCV(dtc, dtc_param_grid1, cv=3, return_train_score=True)\n",
    "\n",
    "dtc_grid_search1.fit(X_train, y_train)"
   ]
  },
  {
   "cell_type": "code",
   "execution_count": 38,
   "metadata": {},
   "outputs": [],
   "source": [
    "#Search for best estimator\n",
    "bestdtcrefine1 = dtc_grid_search1.best_estimator_"
   ]
  },
  {
   "cell_type": "code",
   "execution_count": 39,
   "metadata": {
    "scrolled": false
   },
   "outputs": [
    {
     "data": {
      "image/png": "[encoded data removed]",
      "text/plain": [
       "<Figure size 576x576 with 2 Axes>"
      ]
     },
     "metadata": {
      "needs_background": "light"
     },
     "output_type": "display_data"
    },
    {
     "name": "stdout",
     "output_type": "stream",
     "text": [
      "              precision    recall  f1-score   support\n",
      "\n",
      "           0       0.93      0.99      0.96       138\n",
      "           1       0.75      0.86      0.80       143\n",
      "           2       0.81      0.77      0.79       268\n",
      "           3       0.88      0.77      0.82       163\n",
      "\n",
      "    accuracy                           0.83       712\n",
      "   macro avg       0.84      0.85      0.84       712\n",
      "weighted avg       0.84      0.83      0.83       712\n",
      "\n",
      "Accuracy:83.29%\n"
     ]
    }
   ],
   "source": [
    "#Confusion matrix\n",
    "classification(\n",
    "    X_train=X_train,\n",
    "    X_test=X_test,\n",
    "    y_train=y_train,\n",
    "    y_test=y_test,\n",
    "    classifier=bestdtcrefine1)"
   ]
  },
  {
   "cell_type": "code",
   "execution_count": 40,
   "metadata": {},
   "outputs": [
    {
     "data": {
      "text/plain": [
       "{'criterion': 'entropy',\n",
       " 'max_depth': None,\n",
       " 'min_samples_leaf': 1,\n",
       " 'min_samples_split': 2}"
      ]
     },
     "execution_count": 40,
     "metadata": {},
     "output_type": "execute_result"
    }
   ],
   "source": [
    "#search for best parameters\n",
    "dtc_grid_search1.best_params_"
   ]
  },
  {
   "cell_type": "code",
   "execution_count": 41,
   "metadata": {},
   "outputs": [
    {
     "data": {
      "text/plain": [
       "0.8328651685393258"
      ]
     },
     "execution_count": 41,
     "metadata": {},
     "output_type": "execute_result"
    }
   ],
   "source": [
    "#1st Refine Model Test Score\n",
    "bestdtcrefine1.score(X_test,y_test)"
   ]
  },
  {
   "cell_type": "code",
   "execution_count": 42,
   "metadata": {},
   "outputs": [
    {
     "data": {
      "text/plain": [
       "0.9282700421940928"
      ]
     },
     "execution_count": 42,
     "metadata": {},
     "output_type": "execute_result"
    }
   ],
   "source": [
    "#1st Refine Model Training Score\n",
    "bestdtcrefine1.score(X_train,y_train)"
   ]
  },
  {
   "cell_type": "code",
   "execution_count": 43,
   "metadata": {},
   "outputs": [
    {
     "data": {
      "text/plain": [
       "<sklearn.metrics._plot.confusion_matrix.ConfusionMatrixDisplay at 0x1d162eab748>"
      ]
     },
     "execution_count": 43,
     "metadata": {},
     "output_type": "execute_result"
    },
    {
     "data": {
      "image/png": "[encoded data removed]",
      "text/plain": [
       "<Figure size 432x288 with 2 Axes>"
      ]
     },
     "metadata": {
      "needs_background": "light"
     },
     "output_type": "display_data"
    }
   ],
   "source": [
    "plot_confusion_matrix(estimator=bestdtcrefine1, X=X_test, y_true=y_test)"
   ]
  },
  {
   "cell_type": "markdown",
   "metadata": {},
   "source": [
    "### KNN Refined Model"
   ]
  },
  {
   "cell_type": "code",
   "execution_count": 44,
   "metadata": {},
   "outputs": [],
   "source": [
    "#Fit knn, applying parameters to refine search\n",
    "knn_param_grid1 = {\n",
    "    'n_neighbors': [3,5,7],\n",
    "    'weights': ['uniform','distance'],\n",
    "    'algorithm': ['ball_tree','kd_tree','brute'],\n",
    "    'p':[1,2,3]\n",
    "}"
   ]
  },
  {
   "cell_type": "code",
   "execution_count": 45,
   "metadata": {},
   "outputs": [
    {
     "name": "stderr",
     "output_type": "stream",
     "text": [
      "C:\\Users\\c_fre\\anaconda3\\envs\\learn-env\\lib\\site-packages\\sklearn\\neighbors\\_classification.py:179: DataConversionWarning: A column-vector y was passed when a 1d array was expected. Please change the shape of y to (n_samples,), for example using ravel().\n",
      "  return self._fit(X, y)\n",
      "C:\\Users\\c_fre\\anaconda3\\envs\\learn-env\\lib\\site-packages\\sklearn\\neighbors\\_classification.py:179: DataConversionWarning: A column-vector y was passed when a 1d array was expected. Please change the shape of y to (n_samples,), for example using ravel().\n",
      "  return self._fit(X, y)\n",
      "C:\\Users\\c_fre\\anaconda3\\envs\\learn-env\\lib\\site-packages\\sklearn\\neighbors\\_classification.py:179: DataConversionWarning: A column-vector y was passed when a 1d array was expected. Please change the shape of y to (n_samples,), for example using ravel().\n",
      "  return self._fit(X, y)\n",
      "C:\\Users\\c_fre\\anaconda3\\envs\\learn-env\\lib\\site-packages\\sklearn\\neighbors\\_classification.py:179: DataConversionWarning: A column-vector y was passed when a 1d array was expected. Please change the shape of y to (n_samples,), for example using ravel().\n",
      "  return self._fit(X, y)\n",
      "C:\\Users\\c_fre\\anaconda3\\envs\\learn-env\\lib\\site-packages\\sklearn\\neighbors\\_classification.py:179: DataConversionWarning: A column-vector y was passed when a 1d array was expected. Please change the shape of y to (n_samples,), for example using ravel().\n",
      "  return self._fit(X, y)\n",
      "C:\\Users\\c_fre\\anaconda3\\envs\\learn-env\\lib\\site-packages\\sklearn\\neighbors\\_classification.py:179: DataConversionWarning: A column-vector y was passed when a 1d array was expected. Please change the shape of y to (n_samples,), for example using ravel().\n",
      "  return self._fit(X, y)\n",
      "C:\\Users\\c_fre\\anaconda3\\envs\\learn-env\\lib\\site-packages\\sklearn\\neighbors\\_classification.py:179: DataConversionWarning: A column-vector y was passed when a 1d array was expected. Please change the shape of y to (n_samples,), for example using ravel().\n",
      "  return self._fit(X, y)\n",
      "C:\\Users\\c_fre\\anaconda3\\envs\\learn-env\\lib\\site-packages\\sklearn\\neighbors\\_classification.py:179: DataConversionWarning: A column-vector y was passed when a 1d array was expected. Please change the shape of y to (n_samples,), for example using ravel().\n",
      "  return self._fit(X, y)\n",
      "C:\\Users\\c_fre\\anaconda3\\envs\\learn-env\\lib\\site-packages\\sklearn\\neighbors\\_classification.py:179: DataConversionWarning: A column-vector y was passed when a 1d array was expected. Please change the shape of y to (n_samples,), for example using ravel().\n",
      "  return self._fit(X, y)\n",
      "C:\\Users\\c_fre\\anaconda3\\envs\\learn-env\\lib\\site-packages\\sklearn\\neighbors\\_classification.py:179: DataConversionWarning: A column-vector y was passed when a 1d array was expected. Please change the shape of y to (n_samples,), for example using ravel().\n",
      "  return self._fit(X, y)\n",
      "C:\\Users\\c_fre\\anaconda3\\envs\\learn-env\\lib\\site-packages\\sklearn\\neighbors\\_classification.py:179: DataConversionWarning: A column-vector y was passed when a 1d array was expected. Please change the shape of y to (n_samples,), for example using ravel().\n",
      "  return self._fit(X, y)\n",
      "C:\\Users\\c_fre\\anaconda3\\envs\\learn-env\\lib\\site-packages\\sklearn\\neighbors\\_classification.py:179: DataConversionWarning: A column-vector y was passed when a 1d array was expected. Please change the shape of y to (n_samples,), for example using ravel().\n",
      "  return self._fit(X, y)\n",
      "C:\\Users\\c_fre\\anaconda3\\envs\\learn-env\\lib\\site-packages\\sklearn\\neighbors\\_classification.py:179: DataConversionWarning: A column-vector y was passed when a 1d array was expected. Please change the shape of y to (n_samples,), for example using ravel().\n",
      "  return self._fit(X, y)\n",
      "C:\\Users\\c_fre\\anaconda3\\envs\\learn-env\\lib\\site-packages\\sklearn\\neighbors\\_classification.py:179: DataConversionWarning: A column-vector y was passed when a 1d array was expected. Please change the shape of y to (n_samples,), for example using ravel().\n",
      "  return self._fit(X, y)\n",
      "C:\\Users\\c_fre\\anaconda3\\envs\\learn-env\\lib\\site-packages\\sklearn\\neighbors\\_classification.py:179: DataConversionWarning: A column-vector y was passed when a 1d array was expected. Please change the shape of y to (n_samples,), for example using ravel().\n",
      "  return self._fit(X, y)\n",
      "C:\\Users\\c_fre\\anaconda3\\envs\\learn-env\\lib\\site-packages\\sklearn\\neighbors\\_classification.py:179: DataConversionWarning: A column-vector y was passed when a 1d array was expected. Please change the shape of y to (n_samples,), for example using ravel().\n",
      "  return self._fit(X, y)\n",
      "C:\\Users\\c_fre\\anaconda3\\envs\\learn-env\\lib\\site-packages\\sklearn\\neighbors\\_classification.py:179: DataConversionWarning: A column-vector y was passed when a 1d array was expected. Please change the shape of y to (n_samples,), for example using ravel().\n",
      "  return self._fit(X, y)\n",
      "C:\\Users\\c_fre\\anaconda3\\envs\\learn-env\\lib\\site-packages\\sklearn\\neighbors\\_classification.py:179: DataConversionWarning: A column-vector y was passed when a 1d array was expected. Please change the shape of y to (n_samples,), for example using ravel().\n",
      "  return self._fit(X, y)\n",
      "C:\\Users\\c_fre\\anaconda3\\envs\\learn-env\\lib\\site-packages\\sklearn\\neighbors\\_classification.py:179: DataConversionWarning: A column-vector y was passed when a 1d array was expected. Please change the shape of y to (n_samples,), for example using ravel().\n",
      "  return self._fit(X, y)\n",
      "C:\\Users\\c_fre\\anaconda3\\envs\\learn-env\\lib\\site-packages\\sklearn\\neighbors\\_classification.py:179: DataConversionWarning: A column-vector y was passed when a 1d array was expected. Please change the shape of y to (n_samples,), for example using ravel().\n",
      "  return self._fit(X, y)\n",
      "C:\\Users\\c_fre\\anaconda3\\envs\\learn-env\\lib\\site-packages\\sklearn\\neighbors\\_classification.py:179: DataConversionWarning: A column-vector y was passed when a 1d array was expected. Please change the shape of y to (n_samples,), for example using ravel().\n",
      "  return self._fit(X, y)\n",
      "C:\\Users\\c_fre\\anaconda3\\envs\\learn-env\\lib\\site-packages\\sklearn\\neighbors\\_classification.py:179: DataConversionWarning: A column-vector y was passed when a 1d array was expected. Please change the shape of y to (n_samples,), for example using ravel().\n",
      "  return self._fit(X, y)\n",
      "C:\\Users\\c_fre\\anaconda3\\envs\\learn-env\\lib\\site-packages\\sklearn\\neighbors\\_classification.py:179: DataConversionWarning: A column-vector y was passed when a 1d array was expected. Please change the shape of y to (n_samples,), for example using ravel().\n",
      "  return self._fit(X, y)\n",
      "C:\\Users\\c_fre\\anaconda3\\envs\\learn-env\\lib\\site-packages\\sklearn\\neighbors\\_classification.py:179: DataConversionWarning: A column-vector y was passed when a 1d array was expected. Please change the shape of y to (n_samples,), for example using ravel().\n",
      "  return self._fit(X, y)\n",
      "C:\\Users\\c_fre\\anaconda3\\envs\\learn-env\\lib\\site-packages\\sklearn\\neighbors\\_classification.py:179: DataConversionWarning: A column-vector y was passed when a 1d array was expected. Please change the shape of y to (n_samples,), for example using ravel().\n",
      "  return self._fit(X, y)\n",
      "C:\\Users\\c_fre\\anaconda3\\envs\\learn-env\\lib\\site-packages\\sklearn\\neighbors\\_classification.py:179: DataConversionWarning: A column-vector y was passed when a 1d array was expected. Please change the shape of y to (n_samples,), for example using ravel().\n",
      "  return self._fit(X, y)\n",
      "C:\\Users\\c_fre\\anaconda3\\envs\\learn-env\\lib\\site-packages\\sklearn\\neighbors\\_classification.py:179: DataConversionWarning: A column-vector y was passed when a 1d array was expected. Please change the shape of y to (n_samples,), for example using ravel().\n",
      "  return self._fit(X, y)\n",
      "C:\\Users\\c_fre\\anaconda3\\envs\\learn-env\\lib\\site-packages\\sklearn\\neighbors\\_classification.py:179: DataConversionWarning: A column-vector y was passed when a 1d array was expected. Please change the shape of y to (n_samples,), for example using ravel().\n",
      "  return self._fit(X, y)\n",
      "C:\\Users\\c_fre\\anaconda3\\envs\\learn-env\\lib\\site-packages\\sklearn\\neighbors\\_classification.py:179: DataConversionWarning: A column-vector y was passed when a 1d array was expected. Please change the shape of y to (n_samples,), for example using ravel().\n",
      "  return self._fit(X, y)\n",
      "C:\\Users\\c_fre\\anaconda3\\envs\\learn-env\\lib\\site-packages\\sklearn\\neighbors\\_classification.py:179: DataConversionWarning: A column-vector y was passed when a 1d array was expected. Please change the shape of y to (n_samples,), for example using ravel().\n",
      "  return self._fit(X, y)\n",
      "C:\\Users\\c_fre\\anaconda3\\envs\\learn-env\\lib\\site-packages\\sklearn\\neighbors\\_classification.py:179: DataConversionWarning: A column-vector y was passed when a 1d array was expected. Please change the shape of y to (n_samples,), for example using ravel().\n",
      "  return self._fit(X, y)\n"
     ]
    },
    {
     "name": "stderr",
     "output_type": "stream",
     "text": [
      "C:\\Users\\c_fre\\anaconda3\\envs\\learn-env\\lib\\site-packages\\sklearn\\neighbors\\_classification.py:179: DataConversionWarning: A column-vector y was passed when a 1d array was expected. Please change the shape of y to (n_samples,), for example using ravel().\n",
      "  return self._fit(X, y)\n",
      "C:\\Users\\c_fre\\anaconda3\\envs\\learn-env\\lib\\site-packages\\sklearn\\neighbors\\_classification.py:179: DataConversionWarning: A column-vector y was passed when a 1d array was expected. Please change the shape of y to (n_samples,), for example using ravel().\n",
      "  return self._fit(X, y)\n",
      "C:\\Users\\c_fre\\anaconda3\\envs\\learn-env\\lib\\site-packages\\sklearn\\neighbors\\_classification.py:179: DataConversionWarning: A column-vector y was passed when a 1d array was expected. Please change the shape of y to (n_samples,), for example using ravel().\n",
      "  return self._fit(X, y)\n",
      "C:\\Users\\c_fre\\anaconda3\\envs\\learn-env\\lib\\site-packages\\sklearn\\neighbors\\_classification.py:179: DataConversionWarning: A column-vector y was passed when a 1d array was expected. Please change the shape of y to (n_samples,), for example using ravel().\n",
      "  return self._fit(X, y)\n",
      "C:\\Users\\c_fre\\anaconda3\\envs\\learn-env\\lib\\site-packages\\sklearn\\neighbors\\_classification.py:179: DataConversionWarning: A column-vector y was passed when a 1d array was expected. Please change the shape of y to (n_samples,), for example using ravel().\n",
      "  return self._fit(X, y)\n",
      "C:\\Users\\c_fre\\anaconda3\\envs\\learn-env\\lib\\site-packages\\sklearn\\neighbors\\_classification.py:179: DataConversionWarning: A column-vector y was passed when a 1d array was expected. Please change the shape of y to (n_samples,), for example using ravel().\n",
      "  return self._fit(X, y)\n",
      "C:\\Users\\c_fre\\anaconda3\\envs\\learn-env\\lib\\site-packages\\sklearn\\neighbors\\_classification.py:179: DataConversionWarning: A column-vector y was passed when a 1d array was expected. Please change the shape of y to (n_samples,), for example using ravel().\n",
      "  return self._fit(X, y)\n",
      "C:\\Users\\c_fre\\anaconda3\\envs\\learn-env\\lib\\site-packages\\sklearn\\neighbors\\_classification.py:179: DataConversionWarning: A column-vector y was passed when a 1d array was expected. Please change the shape of y to (n_samples,), for example using ravel().\n",
      "  return self._fit(X, y)\n",
      "C:\\Users\\c_fre\\anaconda3\\envs\\learn-env\\lib\\site-packages\\sklearn\\neighbors\\_classification.py:179: DataConversionWarning: A column-vector y was passed when a 1d array was expected. Please change the shape of y to (n_samples,), for example using ravel().\n",
      "  return self._fit(X, y)\n",
      "C:\\Users\\c_fre\\anaconda3\\envs\\learn-env\\lib\\site-packages\\sklearn\\neighbors\\_classification.py:179: DataConversionWarning: A column-vector y was passed when a 1d array was expected. Please change the shape of y to (n_samples,), for example using ravel().\n",
      "  return self._fit(X, y)\n",
      "C:\\Users\\c_fre\\anaconda3\\envs\\learn-env\\lib\\site-packages\\sklearn\\neighbors\\_classification.py:179: DataConversionWarning: A column-vector y was passed when a 1d array was expected. Please change the shape of y to (n_samples,), for example using ravel().\n",
      "  return self._fit(X, y)\n",
      "C:\\Users\\c_fre\\anaconda3\\envs\\learn-env\\lib\\site-packages\\sklearn\\neighbors\\_classification.py:179: DataConversionWarning: A column-vector y was passed when a 1d array was expected. Please change the shape of y to (n_samples,), for example using ravel().\n",
      "  return self._fit(X, y)\n",
      "C:\\Users\\c_fre\\anaconda3\\envs\\learn-env\\lib\\site-packages\\sklearn\\neighbors\\_classification.py:179: DataConversionWarning: A column-vector y was passed when a 1d array was expected. Please change the shape of y to (n_samples,), for example using ravel().\n",
      "  return self._fit(X, y)\n",
      "C:\\Users\\c_fre\\anaconda3\\envs\\learn-env\\lib\\site-packages\\sklearn\\neighbors\\_classification.py:179: DataConversionWarning: A column-vector y was passed when a 1d array was expected. Please change the shape of y to (n_samples,), for example using ravel().\n",
      "  return self._fit(X, y)\n",
      "C:\\Users\\c_fre\\anaconda3\\envs\\learn-env\\lib\\site-packages\\sklearn\\neighbors\\_classification.py:179: DataConversionWarning: A column-vector y was passed when a 1d array was expected. Please change the shape of y to (n_samples,), for example using ravel().\n",
      "  return self._fit(X, y)\n",
      "C:\\Users\\c_fre\\anaconda3\\envs\\learn-env\\lib\\site-packages\\sklearn\\neighbors\\_classification.py:179: DataConversionWarning: A column-vector y was passed when a 1d array was expected. Please change the shape of y to (n_samples,), for example using ravel().\n",
      "  return self._fit(X, y)\n",
      "C:\\Users\\c_fre\\anaconda3\\envs\\learn-env\\lib\\site-packages\\sklearn\\neighbors\\_classification.py:179: DataConversionWarning: A column-vector y was passed when a 1d array was expected. Please change the shape of y to (n_samples,), for example using ravel().\n",
      "  return self._fit(X, y)\n",
      "C:\\Users\\c_fre\\anaconda3\\envs\\learn-env\\lib\\site-packages\\sklearn\\neighbors\\_classification.py:179: DataConversionWarning: A column-vector y was passed when a 1d array was expected. Please change the shape of y to (n_samples,), for example using ravel().\n",
      "  return self._fit(X, y)\n",
      "C:\\Users\\c_fre\\anaconda3\\envs\\learn-env\\lib\\site-packages\\sklearn\\neighbors\\_classification.py:179: DataConversionWarning: A column-vector y was passed when a 1d array was expected. Please change the shape of y to (n_samples,), for example using ravel().\n",
      "  return self._fit(X, y)\n",
      "C:\\Users\\c_fre\\anaconda3\\envs\\learn-env\\lib\\site-packages\\sklearn\\neighbors\\_classification.py:179: DataConversionWarning: A column-vector y was passed when a 1d array was expected. Please change the shape of y to (n_samples,), for example using ravel().\n",
      "  return self._fit(X, y)\n",
      "C:\\Users\\c_fre\\anaconda3\\envs\\learn-env\\lib\\site-packages\\sklearn\\neighbors\\_classification.py:179: DataConversionWarning: A column-vector y was passed when a 1d array was expected. Please change the shape of y to (n_samples,), for example using ravel().\n",
      "  return self._fit(X, y)\n",
      "C:\\Users\\c_fre\\anaconda3\\envs\\learn-env\\lib\\site-packages\\sklearn\\neighbors\\_classification.py:179: DataConversionWarning: A column-vector y was passed when a 1d array was expected. Please change the shape of y to (n_samples,), for example using ravel().\n",
      "  return self._fit(X, y)\n",
      "C:\\Users\\c_fre\\anaconda3\\envs\\learn-env\\lib\\site-packages\\sklearn\\neighbors\\_classification.py:179: DataConversionWarning: A column-vector y was passed when a 1d array was expected. Please change the shape of y to (n_samples,), for example using ravel().\n",
      "  return self._fit(X, y)\n",
      "C:\\Users\\c_fre\\anaconda3\\envs\\learn-env\\lib\\site-packages\\sklearn\\neighbors\\_classification.py:179: DataConversionWarning: A column-vector y was passed when a 1d array was expected. Please change the shape of y to (n_samples,), for example using ravel().\n",
      "  return self._fit(X, y)\n",
      "C:\\Users\\c_fre\\anaconda3\\envs\\learn-env\\lib\\site-packages\\sklearn\\neighbors\\_classification.py:179: DataConversionWarning: A column-vector y was passed when a 1d array was expected. Please change the shape of y to (n_samples,), for example using ravel().\n",
      "  return self._fit(X, y)\n",
      "C:\\Users\\c_fre\\anaconda3\\envs\\learn-env\\lib\\site-packages\\sklearn\\neighbors\\_classification.py:179: DataConversionWarning: A column-vector y was passed when a 1d array was expected. Please change the shape of y to (n_samples,), for example using ravel().\n",
      "  return self._fit(X, y)\n",
      "C:\\Users\\c_fre\\anaconda3\\envs\\learn-env\\lib\\site-packages\\sklearn\\neighbors\\_classification.py:179: DataConversionWarning: A column-vector y was passed when a 1d array was expected. Please change the shape of y to (n_samples,), for example using ravel().\n",
      "  return self._fit(X, y)\n",
      "C:\\Users\\c_fre\\anaconda3\\envs\\learn-env\\lib\\site-packages\\sklearn\\neighbors\\_classification.py:179: DataConversionWarning: A column-vector y was passed when a 1d array was expected. Please change the shape of y to (n_samples,), for example using ravel().\n",
      "  return self._fit(X, y)\n",
      "C:\\Users\\c_fre\\anaconda3\\envs\\learn-env\\lib\\site-packages\\sklearn\\neighbors\\_classification.py:179: DataConversionWarning: A column-vector y was passed when a 1d array was expected. Please change the shape of y to (n_samples,), for example using ravel().\n",
      "  return self._fit(X, y)\n",
      "C:\\Users\\c_fre\\anaconda3\\envs\\learn-env\\lib\\site-packages\\sklearn\\neighbors\\_classification.py:179: DataConversionWarning: A column-vector y was passed when a 1d array was expected. Please change the shape of y to (n_samples,), for example using ravel().\n",
      "  return self._fit(X, y)\n",
      "C:\\Users\\c_fre\\anaconda3\\envs\\learn-env\\lib\\site-packages\\sklearn\\neighbors\\_classification.py:179: DataConversionWarning: A column-vector y was passed when a 1d array was expected. Please change the shape of y to (n_samples,), for example using ravel().\n",
      "  return self._fit(X, y)\n"
     ]
    },
    {
     "name": "stderr",
     "output_type": "stream",
     "text": [
      "C:\\Users\\c_fre\\anaconda3\\envs\\learn-env\\lib\\site-packages\\sklearn\\neighbors\\_classification.py:179: DataConversionWarning: A column-vector y was passed when a 1d array was expected. Please change the shape of y to (n_samples,), for example using ravel().\n",
      "  return self._fit(X, y)\n",
      "C:\\Users\\c_fre\\anaconda3\\envs\\learn-env\\lib\\site-packages\\sklearn\\neighbors\\_classification.py:179: DataConversionWarning: A column-vector y was passed when a 1d array was expected. Please change the shape of y to (n_samples,), for example using ravel().\n",
      "  return self._fit(X, y)\n",
      "C:\\Users\\c_fre\\anaconda3\\envs\\learn-env\\lib\\site-packages\\sklearn\\neighbors\\_classification.py:179: DataConversionWarning: A column-vector y was passed when a 1d array was expected. Please change the shape of y to (n_samples,), for example using ravel().\n",
      "  return self._fit(X, y)\n",
      "C:\\Users\\c_fre\\anaconda3\\envs\\learn-env\\lib\\site-packages\\sklearn\\neighbors\\_classification.py:179: DataConversionWarning: A column-vector y was passed when a 1d array was expected. Please change the shape of y to (n_samples,), for example using ravel().\n",
      "  return self._fit(X, y)\n",
      "C:\\Users\\c_fre\\anaconda3\\envs\\learn-env\\lib\\site-packages\\sklearn\\neighbors\\_classification.py:179: DataConversionWarning: A column-vector y was passed when a 1d array was expected. Please change the shape of y to (n_samples,), for example using ravel().\n",
      "  return self._fit(X, y)\n",
      "C:\\Users\\c_fre\\anaconda3\\envs\\learn-env\\lib\\site-packages\\sklearn\\neighbors\\_classification.py:179: DataConversionWarning: A column-vector y was passed when a 1d array was expected. Please change the shape of y to (n_samples,), for example using ravel().\n",
      "  return self._fit(X, y)\n",
      "C:\\Users\\c_fre\\anaconda3\\envs\\learn-env\\lib\\site-packages\\sklearn\\neighbors\\_classification.py:179: DataConversionWarning: A column-vector y was passed when a 1d array was expected. Please change the shape of y to (n_samples,), for example using ravel().\n",
      "  return self._fit(X, y)\n",
      "C:\\Users\\c_fre\\anaconda3\\envs\\learn-env\\lib\\site-packages\\sklearn\\neighbors\\_classification.py:179: DataConversionWarning: A column-vector y was passed when a 1d array was expected. Please change the shape of y to (n_samples,), for example using ravel().\n",
      "  return self._fit(X, y)\n",
      "C:\\Users\\c_fre\\anaconda3\\envs\\learn-env\\lib\\site-packages\\sklearn\\neighbors\\_classification.py:179: DataConversionWarning: A column-vector y was passed when a 1d array was expected. Please change the shape of y to (n_samples,), for example using ravel().\n",
      "  return self._fit(X, y)\n",
      "C:\\Users\\c_fre\\anaconda3\\envs\\learn-env\\lib\\site-packages\\sklearn\\neighbors\\_classification.py:179: DataConversionWarning: A column-vector y was passed when a 1d array was expected. Please change the shape of y to (n_samples,), for example using ravel().\n",
      "  return self._fit(X, y)\n",
      "C:\\Users\\c_fre\\anaconda3\\envs\\learn-env\\lib\\site-packages\\sklearn\\neighbors\\_classification.py:179: DataConversionWarning: A column-vector y was passed when a 1d array was expected. Please change the shape of y to (n_samples,), for example using ravel().\n",
      "  return self._fit(X, y)\n",
      "C:\\Users\\c_fre\\anaconda3\\envs\\learn-env\\lib\\site-packages\\sklearn\\neighbors\\_classification.py:179: DataConversionWarning: A column-vector y was passed when a 1d array was expected. Please change the shape of y to (n_samples,), for example using ravel().\n",
      "  return self._fit(X, y)\n",
      "C:\\Users\\c_fre\\anaconda3\\envs\\learn-env\\lib\\site-packages\\sklearn\\neighbors\\_classification.py:179: DataConversionWarning: A column-vector y was passed when a 1d array was expected. Please change the shape of y to (n_samples,), for example using ravel().\n",
      "  return self._fit(X, y)\n",
      "C:\\Users\\c_fre\\anaconda3\\envs\\learn-env\\lib\\site-packages\\sklearn\\neighbors\\_classification.py:179: DataConversionWarning: A column-vector y was passed when a 1d array was expected. Please change the shape of y to (n_samples,), for example using ravel().\n",
      "  return self._fit(X, y)\n",
      "C:\\Users\\c_fre\\anaconda3\\envs\\learn-env\\lib\\site-packages\\sklearn\\neighbors\\_classification.py:179: DataConversionWarning: A column-vector y was passed when a 1d array was expected. Please change the shape of y to (n_samples,), for example using ravel().\n",
      "  return self._fit(X, y)\n",
      "C:\\Users\\c_fre\\anaconda3\\envs\\learn-env\\lib\\site-packages\\sklearn\\neighbors\\_classification.py:179: DataConversionWarning: A column-vector y was passed when a 1d array was expected. Please change the shape of y to (n_samples,), for example using ravel().\n",
      "  return self._fit(X, y)\n",
      "C:\\Users\\c_fre\\anaconda3\\envs\\learn-env\\lib\\site-packages\\sklearn\\neighbors\\_classification.py:179: DataConversionWarning: A column-vector y was passed when a 1d array was expected. Please change the shape of y to (n_samples,), for example using ravel().\n",
      "  return self._fit(X, y)\n",
      "C:\\Users\\c_fre\\anaconda3\\envs\\learn-env\\lib\\site-packages\\sklearn\\neighbors\\_classification.py:179: DataConversionWarning: A column-vector y was passed when a 1d array was expected. Please change the shape of y to (n_samples,), for example using ravel().\n",
      "  return self._fit(X, y)\n",
      "C:\\Users\\c_fre\\anaconda3\\envs\\learn-env\\lib\\site-packages\\sklearn\\neighbors\\_classification.py:179: DataConversionWarning: A column-vector y was passed when a 1d array was expected. Please change the shape of y to (n_samples,), for example using ravel().\n",
      "  return self._fit(X, y)\n",
      "C:\\Users\\c_fre\\anaconda3\\envs\\learn-env\\lib\\site-packages\\sklearn\\neighbors\\_classification.py:179: DataConversionWarning: A column-vector y was passed when a 1d array was expected. Please change the shape of y to (n_samples,), for example using ravel().\n",
      "  return self._fit(X, y)\n",
      "C:\\Users\\c_fre\\anaconda3\\envs\\learn-env\\lib\\site-packages\\sklearn\\neighbors\\_classification.py:179: DataConversionWarning: A column-vector y was passed when a 1d array was expected. Please change the shape of y to (n_samples,), for example using ravel().\n",
      "  return self._fit(X, y)\n",
      "C:\\Users\\c_fre\\anaconda3\\envs\\learn-env\\lib\\site-packages\\sklearn\\neighbors\\_classification.py:179: DataConversionWarning: A column-vector y was passed when a 1d array was expected. Please change the shape of y to (n_samples,), for example using ravel().\n",
      "  return self._fit(X, y)\n",
      "C:\\Users\\c_fre\\anaconda3\\envs\\learn-env\\lib\\site-packages\\sklearn\\neighbors\\_classification.py:179: DataConversionWarning: A column-vector y was passed when a 1d array was expected. Please change the shape of y to (n_samples,), for example using ravel().\n",
      "  return self._fit(X, y)\n",
      "C:\\Users\\c_fre\\anaconda3\\envs\\learn-env\\lib\\site-packages\\sklearn\\neighbors\\_classification.py:179: DataConversionWarning: A column-vector y was passed when a 1d array was expected. Please change the shape of y to (n_samples,), for example using ravel().\n",
      "  return self._fit(X, y)\n",
      "C:\\Users\\c_fre\\anaconda3\\envs\\learn-env\\lib\\site-packages\\sklearn\\neighbors\\_classification.py:179: DataConversionWarning: A column-vector y was passed when a 1d array was expected. Please change the shape of y to (n_samples,), for example using ravel().\n",
      "  return self._fit(X, y)\n",
      "C:\\Users\\c_fre\\anaconda3\\envs\\learn-env\\lib\\site-packages\\sklearn\\neighbors\\_classification.py:179: DataConversionWarning: A column-vector y was passed when a 1d array was expected. Please change the shape of y to (n_samples,), for example using ravel().\n",
      "  return self._fit(X, y)\n",
      "C:\\Users\\c_fre\\anaconda3\\envs\\learn-env\\lib\\site-packages\\sklearn\\neighbors\\_classification.py:179: DataConversionWarning: A column-vector y was passed when a 1d array was expected. Please change the shape of y to (n_samples,), for example using ravel().\n",
      "  return self._fit(X, y)\n",
      "C:\\Users\\c_fre\\anaconda3\\envs\\learn-env\\lib\\site-packages\\sklearn\\neighbors\\_classification.py:179: DataConversionWarning: A column-vector y was passed when a 1d array was expected. Please change the shape of y to (n_samples,), for example using ravel().\n",
      "  return self._fit(X, y)\n",
      "C:\\Users\\c_fre\\anaconda3\\envs\\learn-env\\lib\\site-packages\\sklearn\\neighbors\\_classification.py:179: DataConversionWarning: A column-vector y was passed when a 1d array was expected. Please change the shape of y to (n_samples,), for example using ravel().\n",
      "  return self._fit(X, y)\n",
      "C:\\Users\\c_fre\\anaconda3\\envs\\learn-env\\lib\\site-packages\\sklearn\\neighbors\\_classification.py:179: DataConversionWarning: A column-vector y was passed when a 1d array was expected. Please change the shape of y to (n_samples,), for example using ravel().\n",
      "  return self._fit(X, y)\n",
      "C:\\Users\\c_fre\\anaconda3\\envs\\learn-env\\lib\\site-packages\\sklearn\\neighbors\\_classification.py:179: DataConversionWarning: A column-vector y was passed when a 1d array was expected. Please change the shape of y to (n_samples,), for example using ravel().\n",
      "  return self._fit(X, y)\n"
     ]
    },
    {
     "name": "stderr",
     "output_type": "stream",
     "text": [
      "C:\\Users\\c_fre\\anaconda3\\envs\\learn-env\\lib\\site-packages\\sklearn\\neighbors\\_classification.py:179: DataConversionWarning: A column-vector y was passed when a 1d array was expected. Please change the shape of y to (n_samples,), for example using ravel().\n",
      "  return self._fit(X, y)\n",
      "C:\\Users\\c_fre\\anaconda3\\envs\\learn-env\\lib\\site-packages\\sklearn\\neighbors\\_classification.py:179: DataConversionWarning: A column-vector y was passed when a 1d array was expected. Please change the shape of y to (n_samples,), for example using ravel().\n",
      "  return self._fit(X, y)\n",
      "C:\\Users\\c_fre\\anaconda3\\envs\\learn-env\\lib\\site-packages\\sklearn\\neighbors\\_classification.py:179: DataConversionWarning: A column-vector y was passed when a 1d array was expected. Please change the shape of y to (n_samples,), for example using ravel().\n",
      "  return self._fit(X, y)\n",
      "C:\\Users\\c_fre\\anaconda3\\envs\\learn-env\\lib\\site-packages\\sklearn\\neighbors\\_classification.py:179: DataConversionWarning: A column-vector y was passed when a 1d array was expected. Please change the shape of y to (n_samples,), for example using ravel().\n",
      "  return self._fit(X, y)\n",
      "C:\\Users\\c_fre\\anaconda3\\envs\\learn-env\\lib\\site-packages\\sklearn\\neighbors\\_classification.py:179: DataConversionWarning: A column-vector y was passed when a 1d array was expected. Please change the shape of y to (n_samples,), for example using ravel().\n",
      "  return self._fit(X, y)\n",
      "C:\\Users\\c_fre\\anaconda3\\envs\\learn-env\\lib\\site-packages\\sklearn\\neighbors\\_classification.py:179: DataConversionWarning: A column-vector y was passed when a 1d array was expected. Please change the shape of y to (n_samples,), for example using ravel().\n",
      "  return self._fit(X, y)\n",
      "C:\\Users\\c_fre\\anaconda3\\envs\\learn-env\\lib\\site-packages\\sklearn\\neighbors\\_classification.py:179: DataConversionWarning: A column-vector y was passed when a 1d array was expected. Please change the shape of y to (n_samples,), for example using ravel().\n",
      "  return self._fit(X, y)\n",
      "C:\\Users\\c_fre\\anaconda3\\envs\\learn-env\\lib\\site-packages\\sklearn\\neighbors\\_classification.py:179: DataConversionWarning: A column-vector y was passed when a 1d array was expected. Please change the shape of y to (n_samples,), for example using ravel().\n",
      "  return self._fit(X, y)\n",
      "C:\\Users\\c_fre\\anaconda3\\envs\\learn-env\\lib\\site-packages\\sklearn\\neighbors\\_classification.py:179: DataConversionWarning: A column-vector y was passed when a 1d array was expected. Please change the shape of y to (n_samples,), for example using ravel().\n",
      "  return self._fit(X, y)\n",
      "C:\\Users\\c_fre\\anaconda3\\envs\\learn-env\\lib\\site-packages\\sklearn\\neighbors\\_classification.py:179: DataConversionWarning: A column-vector y was passed when a 1d array was expected. Please change the shape of y to (n_samples,), for example using ravel().\n",
      "  return self._fit(X, y)\n",
      "C:\\Users\\c_fre\\anaconda3\\envs\\learn-env\\lib\\site-packages\\sklearn\\neighbors\\_classification.py:179: DataConversionWarning: A column-vector y was passed when a 1d array was expected. Please change the shape of y to (n_samples,), for example using ravel().\n",
      "  return self._fit(X, y)\n",
      "C:\\Users\\c_fre\\anaconda3\\envs\\learn-env\\lib\\site-packages\\sklearn\\neighbors\\_classification.py:179: DataConversionWarning: A column-vector y was passed when a 1d array was expected. Please change the shape of y to (n_samples,), for example using ravel().\n",
      "  return self._fit(X, y)\n",
      "C:\\Users\\c_fre\\anaconda3\\envs\\learn-env\\lib\\site-packages\\sklearn\\neighbors\\_classification.py:179: DataConversionWarning: A column-vector y was passed when a 1d array was expected. Please change the shape of y to (n_samples,), for example using ravel().\n",
      "  return self._fit(X, y)\n",
      "C:\\Users\\c_fre\\anaconda3\\envs\\learn-env\\lib\\site-packages\\sklearn\\neighbors\\_classification.py:179: DataConversionWarning: A column-vector y was passed when a 1d array was expected. Please change the shape of y to (n_samples,), for example using ravel().\n",
      "  return self._fit(X, y)\n",
      "C:\\Users\\c_fre\\anaconda3\\envs\\learn-env\\lib\\site-packages\\sklearn\\neighbors\\_classification.py:179: DataConversionWarning: A column-vector y was passed when a 1d array was expected. Please change the shape of y to (n_samples,), for example using ravel().\n",
      "  return self._fit(X, y)\n",
      "C:\\Users\\c_fre\\anaconda3\\envs\\learn-env\\lib\\site-packages\\sklearn\\neighbors\\_classification.py:179: DataConversionWarning: A column-vector y was passed when a 1d array was expected. Please change the shape of y to (n_samples,), for example using ravel().\n",
      "  return self._fit(X, y)\n",
      "C:\\Users\\c_fre\\anaconda3\\envs\\learn-env\\lib\\site-packages\\sklearn\\neighbors\\_classification.py:179: DataConversionWarning: A column-vector y was passed when a 1d array was expected. Please change the shape of y to (n_samples,), for example using ravel().\n",
      "  return self._fit(X, y)\n",
      "C:\\Users\\c_fre\\anaconda3\\envs\\learn-env\\lib\\site-packages\\sklearn\\neighbors\\_classification.py:179: DataConversionWarning: A column-vector y was passed when a 1d array was expected. Please change the shape of y to (n_samples,), for example using ravel().\n",
      "  return self._fit(X, y)\n",
      "C:\\Users\\c_fre\\anaconda3\\envs\\learn-env\\lib\\site-packages\\sklearn\\neighbors\\_classification.py:179: DataConversionWarning: A column-vector y was passed when a 1d array was expected. Please change the shape of y to (n_samples,), for example using ravel().\n",
      "  return self._fit(X, y)\n",
      "C:\\Users\\c_fre\\anaconda3\\envs\\learn-env\\lib\\site-packages\\sklearn\\neighbors\\_classification.py:179: DataConversionWarning: A column-vector y was passed when a 1d array was expected. Please change the shape of y to (n_samples,), for example using ravel().\n",
      "  return self._fit(X, y)\n",
      "C:\\Users\\c_fre\\anaconda3\\envs\\learn-env\\lib\\site-packages\\sklearn\\neighbors\\_classification.py:179: DataConversionWarning: A column-vector y was passed when a 1d array was expected. Please change the shape of y to (n_samples,), for example using ravel().\n",
      "  return self._fit(X, y)\n",
      "C:\\Users\\c_fre\\anaconda3\\envs\\learn-env\\lib\\site-packages\\sklearn\\neighbors\\_classification.py:179: DataConversionWarning: A column-vector y was passed when a 1d array was expected. Please change the shape of y to (n_samples,), for example using ravel().\n",
      "  return self._fit(X, y)\n",
      "C:\\Users\\c_fre\\anaconda3\\envs\\learn-env\\lib\\site-packages\\sklearn\\neighbors\\_classification.py:179: DataConversionWarning: A column-vector y was passed when a 1d array was expected. Please change the shape of y to (n_samples,), for example using ravel().\n",
      "  return self._fit(X, y)\n",
      "C:\\Users\\c_fre\\anaconda3\\envs\\learn-env\\lib\\site-packages\\sklearn\\neighbors\\_classification.py:179: DataConversionWarning: A column-vector y was passed when a 1d array was expected. Please change the shape of y to (n_samples,), for example using ravel().\n",
      "  return self._fit(X, y)\n",
      "C:\\Users\\c_fre\\anaconda3\\envs\\learn-env\\lib\\site-packages\\sklearn\\neighbors\\_classification.py:179: DataConversionWarning: A column-vector y was passed when a 1d array was expected. Please change the shape of y to (n_samples,), for example using ravel().\n",
      "  return self._fit(X, y)\n",
      "C:\\Users\\c_fre\\anaconda3\\envs\\learn-env\\lib\\site-packages\\sklearn\\neighbors\\_classification.py:179: DataConversionWarning: A column-vector y was passed when a 1d array was expected. Please change the shape of y to (n_samples,), for example using ravel().\n",
      "  return self._fit(X, y)\n",
      "C:\\Users\\c_fre\\anaconda3\\envs\\learn-env\\lib\\site-packages\\sklearn\\neighbors\\_classification.py:179: DataConversionWarning: A column-vector y was passed when a 1d array was expected. Please change the shape of y to (n_samples,), for example using ravel().\n",
      "  return self._fit(X, y)\n",
      "C:\\Users\\c_fre\\anaconda3\\envs\\learn-env\\lib\\site-packages\\sklearn\\neighbors\\_classification.py:179: DataConversionWarning: A column-vector y was passed when a 1d array was expected. Please change the shape of y to (n_samples,), for example using ravel().\n",
      "  return self._fit(X, y)\n",
      "C:\\Users\\c_fre\\anaconda3\\envs\\learn-env\\lib\\site-packages\\sklearn\\neighbors\\_classification.py:179: DataConversionWarning: A column-vector y was passed when a 1d array was expected. Please change the shape of y to (n_samples,), for example using ravel().\n",
      "  return self._fit(X, y)\n",
      "C:\\Users\\c_fre\\anaconda3\\envs\\learn-env\\lib\\site-packages\\sklearn\\neighbors\\_classification.py:179: DataConversionWarning: A column-vector y was passed when a 1d array was expected. Please change the shape of y to (n_samples,), for example using ravel().\n",
      "  return self._fit(X, y)\n"
     ]
    },
    {
     "name": "stderr",
     "output_type": "stream",
     "text": [
      "C:\\Users\\c_fre\\anaconda3\\envs\\learn-env\\lib\\site-packages\\sklearn\\neighbors\\_classification.py:179: DataConversionWarning: A column-vector y was passed when a 1d array was expected. Please change the shape of y to (n_samples,), for example using ravel().\n",
      "  return self._fit(X, y)\n",
      "C:\\Users\\c_fre\\anaconda3\\envs\\learn-env\\lib\\site-packages\\sklearn\\neighbors\\_classification.py:179: DataConversionWarning: A column-vector y was passed when a 1d array was expected. Please change the shape of y to (n_samples,), for example using ravel().\n",
      "  return self._fit(X, y)\n",
      "C:\\Users\\c_fre\\anaconda3\\envs\\learn-env\\lib\\site-packages\\sklearn\\neighbors\\_classification.py:179: DataConversionWarning: A column-vector y was passed when a 1d array was expected. Please change the shape of y to (n_samples,), for example using ravel().\n",
      "  return self._fit(X, y)\n",
      "C:\\Users\\c_fre\\anaconda3\\envs\\learn-env\\lib\\site-packages\\sklearn\\neighbors\\_classification.py:179: DataConversionWarning: A column-vector y was passed when a 1d array was expected. Please change the shape of y to (n_samples,), for example using ravel().\n",
      "  return self._fit(X, y)\n",
      "C:\\Users\\c_fre\\anaconda3\\envs\\learn-env\\lib\\site-packages\\sklearn\\neighbors\\_classification.py:179: DataConversionWarning: A column-vector y was passed when a 1d array was expected. Please change the shape of y to (n_samples,), for example using ravel().\n",
      "  return self._fit(X, y)\n",
      "C:\\Users\\c_fre\\anaconda3\\envs\\learn-env\\lib\\site-packages\\sklearn\\neighbors\\_classification.py:179: DataConversionWarning: A column-vector y was passed when a 1d array was expected. Please change the shape of y to (n_samples,), for example using ravel().\n",
      "  return self._fit(X, y)\n",
      "C:\\Users\\c_fre\\anaconda3\\envs\\learn-env\\lib\\site-packages\\sklearn\\neighbors\\_classification.py:179: DataConversionWarning: A column-vector y was passed when a 1d array was expected. Please change the shape of y to (n_samples,), for example using ravel().\n",
      "  return self._fit(X, y)\n",
      "C:\\Users\\c_fre\\anaconda3\\envs\\learn-env\\lib\\site-packages\\sklearn\\neighbors\\_classification.py:179: DataConversionWarning: A column-vector y was passed when a 1d array was expected. Please change the shape of y to (n_samples,), for example using ravel().\n",
      "  return self._fit(X, y)\n",
      "C:\\Users\\c_fre\\anaconda3\\envs\\learn-env\\lib\\site-packages\\sklearn\\neighbors\\_classification.py:179: DataConversionWarning: A column-vector y was passed when a 1d array was expected. Please change the shape of y to (n_samples,), for example using ravel().\n",
      "  return self._fit(X, y)\n",
      "C:\\Users\\c_fre\\anaconda3\\envs\\learn-env\\lib\\site-packages\\sklearn\\neighbors\\_classification.py:179: DataConversionWarning: A column-vector y was passed when a 1d array was expected. Please change the shape of y to (n_samples,), for example using ravel().\n",
      "  return self._fit(X, y)\n",
      "C:\\Users\\c_fre\\anaconda3\\envs\\learn-env\\lib\\site-packages\\sklearn\\neighbors\\_classification.py:179: DataConversionWarning: A column-vector y was passed when a 1d array was expected. Please change the shape of y to (n_samples,), for example using ravel().\n",
      "  return self._fit(X, y)\n",
      "C:\\Users\\c_fre\\anaconda3\\envs\\learn-env\\lib\\site-packages\\sklearn\\neighbors\\_classification.py:179: DataConversionWarning: A column-vector y was passed when a 1d array was expected. Please change the shape of y to (n_samples,), for example using ravel().\n",
      "  return self._fit(X, y)\n",
      "C:\\Users\\c_fre\\anaconda3\\envs\\learn-env\\lib\\site-packages\\sklearn\\neighbors\\_classification.py:179: DataConversionWarning: A column-vector y was passed when a 1d array was expected. Please change the shape of y to (n_samples,), for example using ravel().\n",
      "  return self._fit(X, y)\n",
      "C:\\Users\\c_fre\\anaconda3\\envs\\learn-env\\lib\\site-packages\\sklearn\\neighbors\\_classification.py:179: DataConversionWarning: A column-vector y was passed when a 1d array was expected. Please change the shape of y to (n_samples,), for example using ravel().\n",
      "  return self._fit(X, y)\n",
      "C:\\Users\\c_fre\\anaconda3\\envs\\learn-env\\lib\\site-packages\\sklearn\\neighbors\\_classification.py:179: DataConversionWarning: A column-vector y was passed when a 1d array was expected. Please change the shape of y to (n_samples,), for example using ravel().\n",
      "  return self._fit(X, y)\n",
      "C:\\Users\\c_fre\\anaconda3\\envs\\learn-env\\lib\\site-packages\\sklearn\\neighbors\\_classification.py:179: DataConversionWarning: A column-vector y was passed when a 1d array was expected. Please change the shape of y to (n_samples,), for example using ravel().\n",
      "  return self._fit(X, y)\n",
      "C:\\Users\\c_fre\\anaconda3\\envs\\learn-env\\lib\\site-packages\\sklearn\\neighbors\\_classification.py:179: DataConversionWarning: A column-vector y was passed when a 1d array was expected. Please change the shape of y to (n_samples,), for example using ravel().\n",
      "  return self._fit(X, y)\n",
      "C:\\Users\\c_fre\\anaconda3\\envs\\learn-env\\lib\\site-packages\\sklearn\\neighbors\\_classification.py:179: DataConversionWarning: A column-vector y was passed when a 1d array was expected. Please change the shape of y to (n_samples,), for example using ravel().\n",
      "  return self._fit(X, y)\n",
      "C:\\Users\\c_fre\\anaconda3\\envs\\learn-env\\lib\\site-packages\\sklearn\\neighbors\\_classification.py:179: DataConversionWarning: A column-vector y was passed when a 1d array was expected. Please change the shape of y to (n_samples,), for example using ravel().\n",
      "  return self._fit(X, y)\n",
      "C:\\Users\\c_fre\\anaconda3\\envs\\learn-env\\lib\\site-packages\\sklearn\\neighbors\\_classification.py:179: DataConversionWarning: A column-vector y was passed when a 1d array was expected. Please change the shape of y to (n_samples,), for example using ravel().\n",
      "  return self._fit(X, y)\n",
      "C:\\Users\\c_fre\\anaconda3\\envs\\learn-env\\lib\\site-packages\\sklearn\\neighbors\\_classification.py:179: DataConversionWarning: A column-vector y was passed when a 1d array was expected. Please change the shape of y to (n_samples,), for example using ravel().\n",
      "  return self._fit(X, y)\n",
      "C:\\Users\\c_fre\\anaconda3\\envs\\learn-env\\lib\\site-packages\\sklearn\\neighbors\\_classification.py:179: DataConversionWarning: A column-vector y was passed when a 1d array was expected. Please change the shape of y to (n_samples,), for example using ravel().\n",
      "  return self._fit(X, y)\n",
      "C:\\Users\\c_fre\\anaconda3\\envs\\learn-env\\lib\\site-packages\\sklearn\\neighbors\\_classification.py:179: DataConversionWarning: A column-vector y was passed when a 1d array was expected. Please change the shape of y to (n_samples,), for example using ravel().\n",
      "  return self._fit(X, y)\n",
      "C:\\Users\\c_fre\\anaconda3\\envs\\learn-env\\lib\\site-packages\\sklearn\\neighbors\\_classification.py:179: DataConversionWarning: A column-vector y was passed when a 1d array was expected. Please change the shape of y to (n_samples,), for example using ravel().\n",
      "  return self._fit(X, y)\n",
      "C:\\Users\\c_fre\\anaconda3\\envs\\learn-env\\lib\\site-packages\\sklearn\\neighbors\\_classification.py:179: DataConversionWarning: A column-vector y was passed when a 1d array was expected. Please change the shape of y to (n_samples,), for example using ravel().\n",
      "  return self._fit(X, y)\n",
      "C:\\Users\\c_fre\\anaconda3\\envs\\learn-env\\lib\\site-packages\\sklearn\\neighbors\\_classification.py:179: DataConversionWarning: A column-vector y was passed when a 1d array was expected. Please change the shape of y to (n_samples,), for example using ravel().\n",
      "  return self._fit(X, y)\n",
      "C:\\Users\\c_fre\\anaconda3\\envs\\learn-env\\lib\\site-packages\\sklearn\\neighbors\\_classification.py:179: DataConversionWarning: A column-vector y was passed when a 1d array was expected. Please change the shape of y to (n_samples,), for example using ravel().\n",
      "  return self._fit(X, y)\n",
      "C:\\Users\\c_fre\\anaconda3\\envs\\learn-env\\lib\\site-packages\\sklearn\\neighbors\\_classification.py:179: DataConversionWarning: A column-vector y was passed when a 1d array was expected. Please change the shape of y to (n_samples,), for example using ravel().\n",
      "  return self._fit(X, y)\n",
      "C:\\Users\\c_fre\\anaconda3\\envs\\learn-env\\lib\\site-packages\\sklearn\\neighbors\\_classification.py:179: DataConversionWarning: A column-vector y was passed when a 1d array was expected. Please change the shape of y to (n_samples,), for example using ravel().\n",
      "  return self._fit(X, y)\n",
      "C:\\Users\\c_fre\\anaconda3\\envs\\learn-env\\lib\\site-packages\\sklearn\\neighbors\\_classification.py:179: DataConversionWarning: A column-vector y was passed when a 1d array was expected. Please change the shape of y to (n_samples,), for example using ravel().\n",
      "  return self._fit(X, y)\n",
      "C:\\Users\\c_fre\\anaconda3\\envs\\learn-env\\lib\\site-packages\\sklearn\\neighbors\\_classification.py:179: DataConversionWarning: A column-vector y was passed when a 1d array was expected. Please change the shape of y to (n_samples,), for example using ravel().\n",
      "  return self._fit(X, y)\n"
     ]
    },
    {
     "name": "stderr",
     "output_type": "stream",
     "text": [
      "C:\\Users\\c_fre\\anaconda3\\envs\\learn-env\\lib\\site-packages\\sklearn\\neighbors\\_classification.py:179: DataConversionWarning: A column-vector y was passed when a 1d array was expected. Please change the shape of y to (n_samples,), for example using ravel().\n",
      "  return self._fit(X, y)\n",
      "C:\\Users\\c_fre\\anaconda3\\envs\\learn-env\\lib\\site-packages\\sklearn\\neighbors\\_classification.py:179: DataConversionWarning: A column-vector y was passed when a 1d array was expected. Please change the shape of y to (n_samples,), for example using ravel().\n",
      "  return self._fit(X, y)\n",
      "C:\\Users\\c_fre\\anaconda3\\envs\\learn-env\\lib\\site-packages\\sklearn\\neighbors\\_classification.py:179: DataConversionWarning: A column-vector y was passed when a 1d array was expected. Please change the shape of y to (n_samples,), for example using ravel().\n",
      "  return self._fit(X, y)\n",
      "C:\\Users\\c_fre\\anaconda3\\envs\\learn-env\\lib\\site-packages\\sklearn\\neighbors\\_classification.py:179: DataConversionWarning: A column-vector y was passed when a 1d array was expected. Please change the shape of y to (n_samples,), for example using ravel().\n",
      "  return self._fit(X, y)\n",
      "C:\\Users\\c_fre\\anaconda3\\envs\\learn-env\\lib\\site-packages\\sklearn\\neighbors\\_classification.py:179: DataConversionWarning: A column-vector y was passed when a 1d array was expected. Please change the shape of y to (n_samples,), for example using ravel().\n",
      "  return self._fit(X, y)\n",
      "C:\\Users\\c_fre\\anaconda3\\envs\\learn-env\\lib\\site-packages\\sklearn\\neighbors\\_classification.py:179: DataConversionWarning: A column-vector y was passed when a 1d array was expected. Please change the shape of y to (n_samples,), for example using ravel().\n",
      "  return self._fit(X, y)\n",
      "C:\\Users\\c_fre\\anaconda3\\envs\\learn-env\\lib\\site-packages\\sklearn\\neighbors\\_classification.py:179: DataConversionWarning: A column-vector y was passed when a 1d array was expected. Please change the shape of y to (n_samples,), for example using ravel().\n",
      "  return self._fit(X, y)\n",
      "C:\\Users\\c_fre\\anaconda3\\envs\\learn-env\\lib\\site-packages\\sklearn\\neighbors\\_classification.py:179: DataConversionWarning: A column-vector y was passed when a 1d array was expected. Please change the shape of y to (n_samples,), for example using ravel().\n",
      "  return self._fit(X, y)\n",
      "C:\\Users\\c_fre\\anaconda3\\envs\\learn-env\\lib\\site-packages\\sklearn\\neighbors\\_classification.py:179: DataConversionWarning: A column-vector y was passed when a 1d array was expected. Please change the shape of y to (n_samples,), for example using ravel().\n",
      "  return self._fit(X, y)\n"
     ]
    },
    {
     "data": {
      "text/plain": [
       "GridSearchCV(cv=3, estimator=KNeighborsClassifier(),\n",
       "             param_grid={'algorithm': ['ball_tree', 'kd_tree', 'brute'],\n",
       "                         'n_neighbors': [3, 5, 7], 'p': [1, 2, 3],\n",
       "                         'weights': ['uniform', 'distance']},\n",
       "             return_train_score=True)"
      ]
     },
     "execution_count": 45,
     "metadata": {},
     "output_type": "execute_result"
    }
   ],
   "source": [
    "#GridSearch on Knn\n",
    "knn_grid_search1 = GridSearchCV(knn, knn_param_grid1, cv=3, return_train_score=True)\n",
    "#Fit 1st Refine KNN to Train/Test\n",
    "knn_grid_search1.fit(X_train, y_train)"
   ]
  },
  {
   "cell_type": "code",
   "execution_count": 46,
   "metadata": {},
   "outputs": [],
   "source": [
    "#best estimator\n",
    "bestknnrefine1 = knn_grid_search1.best_estimator_"
   ]
  },
  {
   "cell_type": "code",
   "execution_count": 47,
   "metadata": {},
   "outputs": [
    {
     "data": {
      "image/png": "[encoded data removed]",
      "text/plain": [
       "<Figure size 576x576 with 2 Axes>"
      ]
     },
     "metadata": {
      "needs_background": "light"
     },
     "output_type": "display_data"
    },
    {
     "name": "stdout",
     "output_type": "stream",
     "text": [
      "              precision    recall  f1-score   support\n",
      "\n",
      "           0       0.88      0.99      0.93       138\n",
      "           1       0.69      0.84      0.75       143\n",
      "           2       0.83      0.74      0.78       268\n",
      "           3       0.90      0.79      0.84       163\n",
      "\n",
      "    accuracy                           0.82       712\n",
      "   macro avg       0.82      0.84      0.83       712\n",
      "weighted avg       0.83      0.82      0.82       712\n",
      "\n",
      "Accuracy:81.88%\n"
     ]
    }
   ],
   "source": [
    "#Knn confusion matrix\n",
    "classification(\n",
    "    X_train=X_train,\n",
    "    X_test=X_test,\n",
    "    y_train=y_train,\n",
    "    y_test=y_test,\n",
    "    classifier=bestknnrefine1)"
   ]
  },
  {
   "cell_type": "code",
   "execution_count": 48,
   "metadata": {},
   "outputs": [
    {
     "data": {
      "text/plain": [
       "{'algorithm': 'ball_tree', 'n_neighbors': 3, 'p': 3, 'weights': 'distance'}"
      ]
     },
     "execution_count": 48,
     "metadata": {},
     "output_type": "execute_result"
    }
   ],
   "source": [
    "#search for best parameters\n",
    "knn_grid_search1.best_params_"
   ]
  },
  {
   "cell_type": "code",
   "execution_count": 49,
   "metadata": {},
   "outputs": [
    {
     "data": {
      "text/plain": [
       "0.8188202247191011"
      ]
     },
     "execution_count": 49,
     "metadata": {},
     "output_type": "execute_result"
    }
   ],
   "source": [
    "#knn model test score\n",
    "bestknnrefine1.score(X_test,y_test)"
   ]
  },
  {
   "cell_type": "code",
   "execution_count": 50,
   "metadata": {},
   "outputs": [
    {
     "data": {
      "text/plain": [
       "0.9276672694394213"
      ]
     },
     "execution_count": 50,
     "metadata": {},
     "output_type": "execute_result"
    }
   ],
   "source": [
    "#knn model training score\n",
    "bestknnrefine1.score(X_train,y_train)"
   ]
  },
  {
   "cell_type": "code",
   "execution_count": 51,
   "metadata": {},
   "outputs": [
    {
     "data": {
      "text/plain": [
       "<sklearn.metrics._plot.confusion_matrix.ConfusionMatrixDisplay at 0x1d163087400>"
      ]
     },
     "execution_count": 51,
     "metadata": {},
     "output_type": "execute_result"
    },
    {
     "data": {
      "image/png": "[encoded data removed]",
      "text/plain": [
       "<Figure size 432x288 with 2 Axes>"
      ]
     },
     "metadata": {
      "needs_background": "light"
     },
     "output_type": "display_data"
    }
   ],
   "source": [
    "#confusion matrix results for trained data against test\n",
    "plot_confusion_matrix(estimator=bestknnrefine1, X=X_test, y_true=y_test)"
   ]
  },
  {
   "cell_type": "markdown",
   "metadata": {},
   "source": [
    "### Random Forest Refined"
   ]
  },
  {
   "cell_type": "code",
   "execution_count": 52,
   "metadata": {},
   "outputs": [],
   "source": [
    "##Fit random forest, applying parameters to refine search\n",
    "rfc_param_grid1 = {\n",
    "    'n_estimators': [50,100],\n",
    "    'criterion': ['gini','entropy'],\n",
    "    'max_depth': [None,3, 5, 7],\n",
    "    'min_samples_split': [1, 2, 4, 6],\n",
    "    'min_samples_leaf': [1,2,3],\n",
    "    'max_features': [None,'sqrt','log2'],\n",
    "    'random_state': [7],\n",
    "    \n",
    "}"
   ]
  },
  {
   "cell_type": "code",
   "execution_count": 53,
   "metadata": {
    "scrolled": true
   },
   "outputs": [
    {
     "name": "stderr",
     "output_type": "stream",
     "text": [
      "C:\\Users\\c_fre\\anaconda3\\envs\\learn-env\\lib\\site-packages\\sklearn\\model_selection\\_search.py:921: UserWarning: One or more of the test scores are non-finite: [       nan        nan 0.83544304 0.84086799 0.84870404 0.84327908\n",
      " 0.84267631 0.84388186        nan        nan 0.82820976 0.8318264\n",
      " 0.82820976 0.8318264  0.82700422 0.82579867        nan        nan\n",
      " 0.82278481 0.82459313 0.82278481 0.82459313 0.82278481 0.82459313\n",
      "        nan        nan 0.84086799 0.84810127 0.8450874  0.84448463\n",
      " 0.84569017 0.84448463        nan        nan 0.83062086 0.83725136\n",
      " 0.83062086 0.83725136 0.83423749 0.83664858        nan        nan\n",
      " 0.82218204 0.81916817 0.82218204 0.81916817 0.82218204 0.81916817\n",
      "        nan        nan 0.84086799 0.84810127 0.8450874  0.84448463\n",
      " 0.84569017 0.84448463        nan        nan 0.83062086 0.83725136\n",
      " 0.83062086 0.83725136 0.83423749 0.83664858        nan        nan\n",
      " 0.82218204 0.81916817 0.82218204 0.81916817 0.82218204 0.81916817\n",
      "        nan        nan 0.67088608 0.6702833  0.67088608 0.6702833\n",
      " 0.6702833  0.6702833         nan        nan 0.66907776 0.66847498\n",
      " 0.66907776 0.66847498 0.66907776 0.66847498        nan        nan\n",
      " 0.66907776 0.66847498 0.66907776 0.66847498 0.66907776 0.66847498\n",
      "        nan        nan 0.7721519  0.77154913 0.7721519  0.77154913\n",
      " 0.7721519  0.77154913        nan        nan 0.76913803 0.77154913\n",
      " 0.76913803 0.77154913 0.76913803 0.77154913        nan        nan\n",
      " 0.76974081 0.76913803 0.76974081 0.76913803 0.76974081 0.76913803\n",
      "        nan        nan 0.7721519  0.77154913 0.7721519  0.77154913\n",
      " 0.7721519  0.77154913        nan        nan 0.76913803 0.77154913\n",
      " 0.76913803 0.77154913 0.76913803 0.77154913        nan        nan\n",
      " 0.76974081 0.76913803 0.76974081 0.76913803 0.76974081 0.76913803\n",
      "        nan        nan 0.7721519  0.77094635 0.7721519  0.77094635\n",
      " 0.7721519  0.77094635        nan        nan 0.76913803 0.76853526\n",
      " 0.76913803 0.76853526 0.76853526 0.76793249        nan        nan\n",
      " 0.76732972 0.76732972 0.76732972 0.76732972 0.76732972 0.76732972\n",
      "        nan        nan 0.78601567 0.78300181 0.78239904 0.78239904\n",
      " 0.77938517 0.78300181        nan        nan 0.77757685 0.77938517\n",
      " 0.77757685 0.77938517 0.77335744 0.7787824         nan        nan\n",
      " 0.76672694 0.7721519  0.76672694 0.7721519  0.76672694 0.7721519\n",
      "        nan        nan 0.78601567 0.78300181 0.78239904 0.78239904\n",
      " 0.77938517 0.78300181        nan        nan 0.77757685 0.77938517\n",
      " 0.77757685 0.77938517 0.77335744 0.7787824         nan        nan\n",
      " 0.76672694 0.7721519  0.76672694 0.7721519  0.76672694 0.7721519\n",
      "        nan        nan 0.78722122 0.78782399 0.78782399 0.78782399\n",
      " 0.78722122 0.78782399        nan        nan 0.78059072 0.77998794\n",
      " 0.78059072 0.77998794 0.77998794 0.77938517        nan        nan\n",
      " 0.7721519  0.77335744 0.7721519  0.77335744 0.7721519  0.77335744\n",
      "        nan        nan 0.79927667 0.80229054 0.79807113 0.79686558\n",
      " 0.7986739  0.80108499        nan        nan 0.78963231 0.79324895\n",
      " 0.78963231 0.79324895 0.79023508 0.79505726        nan        nan\n",
      " 0.78481013 0.78661844 0.78481013 0.78661844 0.78481013 0.78661844\n",
      "        nan        nan 0.79927667 0.80229054 0.79807113 0.79686558\n",
      " 0.7986739  0.80108499        nan        nan 0.78963231 0.79324895\n",
      " 0.78963231 0.79324895 0.79023508 0.79505726        nan        nan\n",
      " 0.78481013 0.78661844 0.78481013 0.78661844 0.78481013 0.78661844\n",
      "        nan        nan 0.83725136 0.84267631 0.84810127 0.84569017\n",
      " 0.84810127 0.84569017        nan        nan 0.83001808 0.83544304\n",
      " 0.83001808 0.83544304 0.82700422 0.82941531        nan        nan\n",
      " 0.82278481 0.82097649 0.82278481 0.82097649 0.82278481 0.82097649\n",
      "        nan        nan 0.84267631 0.84388186 0.84448463 0.84388186\n",
      " 0.84448463 0.84388186        nan        nan 0.8318264  0.83604581\n",
      " 0.8318264  0.83604581 0.82941531 0.83242917        nan        nan\n",
      " 0.82700422 0.82579867 0.82700422 0.82579867 0.82700422 0.82579867\n",
      "        nan        nan 0.84267631 0.84388186 0.84448463 0.84388186\n",
      " 0.84448463 0.84388186        nan        nan 0.8318264  0.83604581\n",
      " 0.8318264  0.83604581 0.82941531 0.83242917        nan        nan\n",
      " 0.82700422 0.82579867 0.82700422 0.82579867 0.82700422 0.82579867\n",
      "        nan        nan 0.71609403 0.7058469  0.71609403 0.7058469\n",
      " 0.71729958 0.70705244        nan        nan 0.71549126 0.7058469\n",
      " 0.71549126 0.7058469  0.71549126 0.70705244        nan        nan\n",
      " 0.71549126 0.70644967 0.71549126 0.70644967 0.71549126 0.70644967\n",
      "        nan        nan 0.77396022 0.77094635 0.77396022 0.77034358\n",
      " 0.77396022 0.77034358        nan        nan 0.77154913 0.7721519\n",
      " 0.77154913 0.7721519  0.77154913 0.77154913        nan        nan\n",
      " 0.76672694 0.76974081 0.76672694 0.76974081 0.76672694 0.76974081\n",
      "        nan        nan 0.77396022 0.77094635 0.77396022 0.77034358\n",
      " 0.77396022 0.77034358        nan        nan 0.77154913 0.7721519\n",
      " 0.77154913 0.7721519  0.77154913 0.77154913        nan        nan\n",
      " 0.76672694 0.76974081 0.76672694 0.76974081 0.76672694 0.76974081\n",
      "        nan        nan 0.76913803 0.76913803 0.77154913 0.77094635\n",
      " 0.77154913 0.77094635        nan        nan 0.76974081 0.76974081\n",
      " 0.76974081 0.76974081 0.77034358 0.77034358        nan        nan\n",
      " 0.76612417 0.76853526 0.76612417 0.76853526 0.76612417 0.76853526\n",
      "        nan        nan 0.78842676 0.78722122 0.78782399 0.78782399\n",
      " 0.78842676 0.78722122        nan        nan 0.77998794 0.78360458\n",
      " 0.77998794 0.78360458 0.78481013 0.78601567        nan        nan\n",
      " 0.77094635 0.77697408 0.77094635 0.77697408 0.77094635 0.77697408\n",
      "        nan        nan 0.78842676 0.78722122 0.78782399 0.78782399\n",
      " 0.78842676 0.78722122        nan        nan 0.77998794 0.78360458\n",
      " 0.77998794 0.78360458 0.78481013 0.78601567        nan        nan\n",
      " 0.77094635 0.77697408 0.77094635 0.77697408 0.77094635 0.77697408\n",
      "        nan        nan 0.79023508 0.78722122 0.79144063 0.78842676\n",
      " 0.79144063 0.78661844        nan        nan 0.78360458 0.78059072\n",
      " 0.78360458 0.78059072 0.78300181 0.78059072        nan        nan\n",
      " 0.7787824  0.77335744 0.7787824  0.77335744 0.7787824  0.77335744\n",
      "        nan        nan 0.80289331 0.80289331 0.80229054 0.80108499\n",
      " 0.79927667 0.80229054        nan        nan 0.79505726 0.79264617\n",
      " 0.79505726 0.79264617 0.79144063 0.79264617        nan        nan\n",
      " 0.79083785 0.78722122 0.79083785 0.78722122 0.79083785 0.78722122\n",
      "        nan        nan 0.80289331 0.80289331 0.80229054 0.80108499\n",
      " 0.79927667 0.80229054        nan        nan 0.79505726 0.79264617\n",
      " 0.79505726 0.79264617 0.79144063 0.79264617        nan        nan\n",
      " 0.79083785 0.78722122 0.79083785 0.78722122 0.79083785 0.78722122]\n",
      "  category=UserWarning\n",
      "C:\\Users\\c_fre\\anaconda3\\envs\\learn-env\\lib\\site-packages\\sklearn\\model_selection\\_search.py:921: UserWarning: One or more of the train scores are non-finite: [       nan        nan 0.93339361 0.933695   0.92465341 0.92435202\n",
      " 0.91802291 0.91832429        nan        nan 0.89330922 0.89541893\n",
      " 0.89330922 0.89541893 0.88969259 0.89210368        nan        nan\n",
      " 0.87070524 0.87341772 0.87070524 0.87341772 0.87070524 0.87341772\n",
      "        nan        nan 0.933695   0.933695   0.9270645  0.92827004\n",
      " 0.92405063 0.92435202        nan        nan 0.88396624 0.88637734\n",
      " 0.88396624 0.88637734 0.87582881 0.88065099        nan        nan\n",
      " 0.85744424 0.86317058 0.85744424 0.86317058 0.85744424 0.86317058\n",
      "        nan        nan 0.933695   0.933695   0.9270645  0.92827004\n",
      " 0.92405063 0.92435202        nan        nan 0.88396624 0.88637734\n",
      " 0.88396624 0.88637734 0.87582881 0.88065099        nan        nan\n",
      " 0.85744424 0.86317058 0.85744424 0.86317058 0.85744424 0.86317058\n",
      "        nan        nan 0.67359855 0.67450271 0.67329717 0.67450271\n",
      " 0.67269439 0.67450271        nan        nan 0.67239301 0.67299578\n",
      " 0.67239301 0.67299578 0.67239301 0.67299578        nan        nan\n",
      " 0.67239301 0.67299578 0.67239301 0.67299578 0.67239301 0.67299578\n",
      "        nan        nan 0.7808921  0.78059072 0.7808921  0.78059072\n",
      " 0.7808921  0.78059072        nan        nan 0.78028933 0.77998794\n",
      " 0.78028933 0.77998794 0.78028933 0.77998794        nan        nan\n",
      " 0.77727547 0.77546715 0.77727547 0.77546715 0.77727547 0.77546715\n",
      "        nan        nan 0.7808921  0.78059072 0.7808921  0.78059072\n",
      " 0.7808921  0.78059072        nan        nan 0.78028933 0.77998794\n",
      " 0.78028933 0.77998794 0.78028933 0.77998794        nan        nan\n",
      " 0.77727547 0.77546715 0.77727547 0.77546715 0.77727547 0.77546715\n",
      "        nan        nan 0.78360458 0.78360458 0.78239904 0.78239904\n",
      " 0.78119349 0.78149488        nan        nan 0.77998794 0.77938517\n",
      " 0.77998794 0.77938517 0.7787824  0.77848101        nan        nan\n",
      " 0.77606992 0.77637131 0.77606992 0.77637131 0.77606992 0.77637131\n",
      "        nan        nan 0.80409885 0.80168776 0.80409885 0.79987945\n",
      " 0.80229054 0.80168776        nan        nan 0.7986739  0.79264617\n",
      " 0.7986739  0.79264617 0.79837251 0.79385172        nan        nan\n",
      " 0.7875226  0.78601567 0.7875226  0.78601567 0.7875226  0.78601567\n",
      "        nan        nan 0.80409885 0.80168776 0.80409885 0.79987945\n",
      " 0.80229054 0.80168776        nan        nan 0.7986739  0.79264617\n",
      " 0.7986739  0.79264617 0.79837251 0.79385172        nan        nan\n",
      " 0.7875226  0.78601567 0.7875226  0.78601567 0.7875226  0.78601567\n",
      "        nan        nan 0.81826401 0.81946956 0.81555154 0.81464738\n",
      " 0.81163351 0.8119349         nan        nan 0.80440024 0.80590717\n",
      " 0.80440024 0.80590717 0.80229054 0.80500301        nan        nan\n",
      " 0.79807113 0.79776974 0.79807113 0.79776974 0.79807113 0.79776974\n",
      "        nan        nan 0.83001808 0.8363472  0.82640145 0.83333333\n",
      " 0.82640145 0.83001808        nan        nan 0.81344183 0.81615431\n",
      " 0.81344183 0.81615431 0.81464738 0.81826401        nan        nan\n",
      " 0.80470163 0.80861965 0.80470163 0.80861965 0.80470163 0.80861965\n",
      "        nan        nan 0.83001808 0.8363472  0.82640145 0.83333333\n",
      " 0.82640145 0.83001808        nan        nan 0.81344183 0.81615431\n",
      " 0.81344183 0.81615431 0.81464738 0.81826401        nan        nan\n",
      " 0.80470163 0.80861965 0.80470163 0.80861965 0.80470163 0.80861965\n",
      "        nan        nan 0.933695   0.933695   0.92646172 0.9270645\n",
      " 0.92013261 0.91983122        nan        nan 0.89451477 0.8981314\n",
      " 0.89451477 0.8981314  0.89180229 0.89481615        nan        nan\n",
      " 0.87341772 0.87311634 0.87341772 0.87311634 0.87341772 0.87311634\n",
      "        nan        nan 0.933695   0.933695   0.9270645  0.92887281\n",
      " 0.92344786 0.92435202        nan        nan 0.88185654 0.88547318\n",
      " 0.88185654 0.88547318 0.88125377 0.88517179        nan        nan\n",
      " 0.86377336 0.86256781 0.86377336 0.86256781 0.86377336 0.86256781\n",
      "        nan        nan 0.933695   0.933695   0.9270645  0.92887281\n",
      " 0.92344786 0.92435202        nan        nan 0.88185654 0.88547318\n",
      " 0.88185654 0.88547318 0.88125377 0.88517179        nan        nan\n",
      " 0.86377336 0.86256781 0.86377336 0.86256781 0.86377336 0.86256781\n",
      "        nan        nan 0.72423146 0.71850512 0.72423146 0.71850512\n",
      " 0.72393008 0.71820374        nan        nan 0.72332731 0.71790235\n",
      " 0.72332731 0.71790235 0.72332731 0.71790235        nan        nan\n",
      " 0.72332731 0.71729958 0.72332731 0.71729958 0.72332731 0.71729958\n",
      "        nan        nan 0.7808921  0.77908379 0.7808921  0.77908379\n",
      " 0.7808921  0.77908379        nan        nan 0.77938517 0.77757685\n",
      " 0.77938517 0.77757685 0.77938517 0.77757685        nan        nan\n",
      " 0.77697408 0.77456299 0.77697408 0.77456299 0.77697408 0.77456299\n",
      "        nan        nan 0.7808921  0.77908379 0.7808921  0.77908379\n",
      " 0.7808921  0.77908379        nan        nan 0.77938517 0.77757685\n",
      " 0.77938517 0.77757685 0.77938517 0.77757685        nan        nan\n",
      " 0.77697408 0.77456299 0.77697408 0.77456299 0.77697408 0.77456299\n",
      "        nan        nan 0.78028933 0.78028933 0.78028933 0.78028933\n",
      " 0.7787824  0.7787824         nan        nan 0.77667269 0.77637131\n",
      " 0.77667269 0.77637131 0.77576854 0.77667269        nan        nan\n",
      " 0.77516576 0.77486438 0.77516576 0.77486438 0.77516576 0.77486438\n",
      "        nan        nan 0.80861965 0.80409885 0.80650995 0.8031947\n",
      " 0.80650995 0.8031947         nan        nan 0.7986739  0.79686558\n",
      " 0.7986739  0.79686558 0.79957806 0.79897529        nan        nan\n",
      " 0.78993369 0.78963231 0.78993369 0.78963231 0.78993369 0.78963231\n",
      "        nan        nan 0.80861965 0.80409885 0.80650995 0.8031947\n",
      " 0.80650995 0.8031947         nan        nan 0.7986739  0.79686558\n",
      " 0.7986739  0.79686558 0.79957806 0.79897529        nan        nan\n",
      " 0.78993369 0.78963231 0.78993369 0.78963231 0.78993369 0.78963231\n",
      "        nan        nan 0.82278481 0.81916817 0.81946956 0.81585292\n",
      " 0.81675708 0.81374322        nan        nan 0.81042797 0.80801688\n",
      " 0.81042797 0.80801688 0.80892104 0.80650995        nan        nan\n",
      " 0.8031947  0.80048222 0.8031947  0.80048222 0.8031947  0.80048222\n",
      "        nan        nan 0.83031947 0.83333333 0.82881254 0.8318264\n",
      " 0.82760699 0.82851115        nan        nan 0.8164557  0.81494876\n",
      " 0.8164557  0.81494876 0.81916817 0.81766124        nan        nan\n",
      " 0.81042797 0.80801688 0.81042797 0.80801688 0.81042797 0.80801688\n",
      "        nan        nan 0.83031947 0.83333333 0.82881254 0.8318264\n",
      " 0.82760699 0.82851115        nan        nan 0.8164557  0.81494876\n",
      " 0.8164557  0.81494876 0.81916817 0.81766124        nan        nan\n",
      " 0.81042797 0.80801688 0.81042797 0.80801688 0.81042797 0.80801688]\n",
      "  category=UserWarning\n",
      "C:\\Users\\c_fre\\anaconda3\\envs\\learn-env\\lib\\site-packages\\sklearn\\model_selection\\_search.py:880: DataConversionWarning: A column-vector y was passed when a 1d array was expected. Please change the shape of y to (n_samples,), for example using ravel().\n",
      "  self.best_estimator_.fit(X, y, **fit_params)\n"
     ]
    },
    {
     "data": {
      "text/plain": [
       "GridSearchCV(cv=3, estimator=RandomForestClassifier(), n_jobs=10,\n",
       "             param_grid={'criterion': ['gini', 'entropy'],\n",
       "                         'max_depth': [None, 3, 5, 7],\n",
       "                         'max_features': [None, 'sqrt', 'log2'],\n",
       "                         'min_samples_leaf': [1, 2, 3],\n",
       "                         'min_samples_split': [1, 2, 4, 6],\n",
       "                         'n_estimators': [50, 100], 'random_state': [7]},\n",
       "             return_train_score=True)"
      ]
     },
     "execution_count": 53,
     "metadata": {},
     "output_type": "execute_result"
    }
   ],
   "source": [
    "#Gridsearch on rfc\n",
    "rfc_grid_search1 = GridSearchCV(rfc, rfc_param_grid1, cv=3,n_jobs=10, return_train_score=True)\n",
    "#Fit GridSearch to Train/Test\n",
    "rfc_grid_search1.fit(X_train, y_train)"
   ]
  },
  {
   "cell_type": "code",
   "execution_count": 54,
   "metadata": {},
   "outputs": [],
   "source": [
    "#best estimator\n",
    "bestrfcrefine1 = rfc_grid_search1.best_estimator_"
   ]
  },
  {
   "cell_type": "code",
   "execution_count": 55,
   "metadata": {},
   "outputs": [
    {
     "data": {
      "image/png": "[encoded data removed]",
      "text/plain": [
       "<Figure size 576x576 with 2 Axes>"
      ]
     },
     "metadata": {
      "needs_background": "light"
     },
     "output_type": "display_data"
    },
    {
     "name": "stdout",
     "output_type": "stream",
     "text": [
      "              precision    recall  f1-score   support\n",
      "\n",
      "           0       0.93      0.99      0.96       138\n",
      "           1       0.75      0.85      0.80       143\n",
      "           2       0.83      0.78      0.80       268\n",
      "           3       0.89      0.81      0.85       163\n",
      "\n",
      "    accuracy                           0.84       712\n",
      "   macro avg       0.85      0.86      0.85       712\n",
      "weighted avg       0.85      0.84      0.84       712\n",
      "\n",
      "Accuracy:84.41%\n"
     ]
    }
   ],
   "source": [
    "#rfc confusion matrix\n",
    "classification(\n",
    "    X_train=X_train,\n",
    "    X_test=X_test,\n",
    "    y_train=y_train,\n",
    "    y_test=y_test,\n",
    "    classifier=bestrfcrefine1)"
   ]
  },
  {
   "cell_type": "code",
   "execution_count": 56,
   "metadata": {},
   "outputs": [
    {
     "data": {
      "text/plain": [
       "{'criterion': 'gini',\n",
       " 'max_depth': None,\n",
       " 'max_features': None,\n",
       " 'min_samples_leaf': 1,\n",
       " 'min_samples_split': 4,\n",
       " 'n_estimators': 50,\n",
       " 'random_state': 7}"
      ]
     },
     "execution_count": 56,
     "metadata": {},
     "output_type": "execute_result"
    }
   ],
   "source": [
    "#best parameter\n",
    "rfc_grid_search1.best_params_"
   ]
  },
  {
   "cell_type": "code",
   "execution_count": 57,
   "metadata": {},
   "outputs": [
    {
     "data": {
      "text/plain": [
       "0.8441011235955056"
      ]
     },
     "execution_count": 57,
     "metadata": {},
     "output_type": "execute_result"
    }
   ],
   "source": [
    "#rfc model test score\n",
    "bestrfcrefine1.score(X_test,y_test)"
   ]
  },
  {
   "cell_type": "code",
   "execution_count": 58,
   "metadata": {},
   "outputs": [
    {
     "data": {
      "text/plain": [
       "0.9204339963833634"
      ]
     },
     "execution_count": 58,
     "metadata": {},
     "output_type": "execute_result"
    }
   ],
   "source": [
    "#rfc model training score\n",
    "bestrfcrefine1.score(X_train,y_train)"
   ]
  },
  {
   "cell_type": "code",
   "execution_count": 56,
   "metadata": {},
   "outputs": [
    {
     "data": {
      "text/plain": [
       "<sklearn.metrics._plot.confusion_matrix.ConfusionMatrixDisplay at 0x1c9ae97ebe0>"
      ]
     },
     "execution_count": 56,
     "metadata": {},
     "output_type": "execute_result"
    },
    {
     "data": {
      "image/png": "[encoded data removed]",
      "text/plain": [
       "<Figure size 432x288 with 2 Axes>"
      ]
     },
     "metadata": {
      "needs_background": "light"
     },
     "output_type": "display_data"
    }
   ],
   "source": [
    "#confusion matrix results for trained data against test\n",
    "plot_confusion_matrix(estimator=bestrfcrefine1, X=X_test, y_true=y_test)"
   ]
  },
  {
   "cell_type": "markdown",
   "metadata": {},
   "source": [
    "# 2nd Refined Models"
   ]
  },
  {
   "cell_type": "markdown",
   "metadata": {},
   "source": [
    "### Decision Tree Refined"
   ]
  },
  {
   "cell_type": "code",
   "execution_count": 57,
   "metadata": {},
   "outputs": [],
   "source": [
    "##Fit decision tree, applying parameters to refine search\n",
    "dtc_param_grid2 = {\n",
    "    'criterion': ['gini'],\n",
    "    'max_depth': [None],\n",
    "    'min_samples_leaf': [1],\n",
    "    'min_samples_split': [2]\n",
    "}"
   ]
  },
  {
   "cell_type": "code",
   "execution_count": 58,
   "metadata": {},
   "outputs": [],
   "source": [
    "#Search for best estimator\n",
    "bestdtcrefine2 = dtc_grid_search1.best_estimator_"
   ]
  },
  {
   "cell_type": "code",
   "execution_count": 59,
   "metadata": {
    "scrolled": true
   },
   "outputs": [
    {
     "data": {
      "text/plain": [
       "GridSearchCV(cv=3, estimator=DecisionTreeClassifier(),\n",
       "             param_grid={'criterion': ['gini'], 'max_depth': [None],\n",
       "                         'min_samples_leaf': [1], 'min_samples_split': [2]},\n",
       "             return_train_score=True)"
      ]
     },
     "execution_count": 59,
     "metadata": {},
     "output_type": "execute_result"
    }
   ],
   "source": [
    "#GridSearchCV on DTC\n",
    "dtc_grid_search = GridSearchCV(dtc, dtc_param_grid2, cv=3, return_train_score=True)\n",
    "\n",
    "dtc_grid_search.fit(X_train, y_train)"
   ]
  },
  {
   "cell_type": "code",
   "execution_count": 60,
   "metadata": {},
   "outputs": [
    {
     "data": {
      "image/png": "[encoded data removed]",
      "text/plain": [
       "<Figure size 576x576 with 2 Axes>"
      ]
     },
     "metadata": {
      "needs_background": "light"
     },
     "output_type": "display_data"
    },
    {
     "name": "stdout",
     "output_type": "stream",
     "text": [
      "              precision    recall  f1-score   support\n",
      "\n",
      "           0       0.93      0.99      0.96       138\n",
      "           1       0.74      0.85      0.79       143\n",
      "           2       0.80      0.78      0.79       268\n",
      "           3       0.89      0.76      0.82       163\n",
      "\n",
      "    accuracy                           0.83       712\n",
      "   macro avg       0.84      0.85      0.84       712\n",
      "weighted avg       0.83      0.83      0.83       712\n",
      "\n",
      "Accuracy:83.01%\n"
     ]
    }
   ],
   "source": [
    "#Confusion matrix\n",
    "classification(\n",
    "    X_train=X_train,\n",
    "    X_test=X_test,\n",
    "    y_train=y_train,\n",
    "    y_test=y_test,\n",
    "    classifier=bestdtcrefine2)"
   ]
  },
  {
   "cell_type": "code",
   "execution_count": 61,
   "metadata": {},
   "outputs": [
    {
     "data": {
      "text/plain": [
       "0.8300561797752809"
      ]
     },
     "execution_count": 61,
     "metadata": {},
     "output_type": "execute_result"
    }
   ],
   "source": [
    "#dtc model test score\n",
    "bestdtcrefine2.score(X_test,y_test)"
   ]
  },
  {
   "cell_type": "code",
   "execution_count": 62,
   "metadata": {},
   "outputs": [
    {
     "data": {
      "text/plain": [
       "0.9282700421940928"
      ]
     },
     "execution_count": 62,
     "metadata": {},
     "output_type": "execute_result"
    }
   ],
   "source": [
    "#dtc model training score\n",
    "bestdtcrefine2.score(X_train,y_train)"
   ]
  },
  {
   "cell_type": "code",
   "execution_count": 63,
   "metadata": {},
   "outputs": [
    {
     "data": {
      "text/plain": [
       "<sklearn.metrics._plot.confusion_matrix.ConfusionMatrixDisplay at 0x1c9aeb76f28>"
      ]
     },
     "execution_count": 63,
     "metadata": {},
     "output_type": "execute_result"
    },
    {
     "data": {
      "image/png": "[encoded data removed]",
      "text/plain": [
       "<Figure size 432x288 with 2 Axes>"
      ]
     },
     "metadata": {
      "needs_background": "light"
     },
     "output_type": "display_data"
    }
   ],
   "source": [
    "#confusion matrix results for trained data against test\n",
    "plot_confusion_matrix(estimator=bestdtcrefine2, X=X_test, y_true=y_test)"
   ]
  },
  {
   "cell_type": "markdown",
   "metadata": {},
   "source": [
    "### KNN Refined Model"
   ]
  },
  {
   "cell_type": "code",
   "execution_count": 64,
   "metadata": {},
   "outputs": [],
   "source": [
    "##Fit knn, applying parameters to refine search\n",
    "knn_para_grid2 = {\n",
    "    'algorithm': ['brute'],\n",
    "    'n_neighbors': [5],\n",
    "    'p': [1],\n",
    "    'weights': ['distance']\n",
    "}"
   ]
  },
  {
   "cell_type": "code",
   "execution_count": 65,
   "metadata": {},
   "outputs": [
    {
     "name": "stderr",
     "output_type": "stream",
     "text": [
      "C:\\Users\\c_fre\\anaconda3\\envs\\learn-env\\lib\\site-packages\\sklearn\\neighbors\\_classification.py:179: DataConversionWarning: A column-vector y was passed when a 1d array was expected. Please change the shape of y to (n_samples,), for example using ravel().\n",
      "  return self._fit(X, y)\n",
      "C:\\Users\\c_fre\\anaconda3\\envs\\learn-env\\lib\\site-packages\\sklearn\\neighbors\\_classification.py:179: DataConversionWarning: A column-vector y was passed when a 1d array was expected. Please change the shape of y to (n_samples,), for example using ravel().\n",
      "  return self._fit(X, y)\n",
      "C:\\Users\\c_fre\\anaconda3\\envs\\learn-env\\lib\\site-packages\\sklearn\\neighbors\\_classification.py:179: DataConversionWarning: A column-vector y was passed when a 1d array was expected. Please change the shape of y to (n_samples,), for example using ravel().\n",
      "  return self._fit(X, y)\n",
      "C:\\Users\\c_fre\\anaconda3\\envs\\learn-env\\lib\\site-packages\\sklearn\\neighbors\\_classification.py:179: DataConversionWarning: A column-vector y was passed when a 1d array was expected. Please change the shape of y to (n_samples,), for example using ravel().\n",
      "  return self._fit(X, y)\n"
     ]
    },
    {
     "data": {
      "text/plain": [
       "GridSearchCV(cv=3, estimator=KNeighborsClassifier(),\n",
       "             param_grid={'algorithm': ['brute'], 'n_neighbors': [5], 'p': [1],\n",
       "                         'weights': ['distance']},\n",
       "             return_train_score=True)"
      ]
     },
     "execution_count": 65,
     "metadata": {},
     "output_type": "execute_result"
    }
   ],
   "source": [
    "#GridSearch on Knn\n",
    "knn_grid_search1 = GridSearchCV(knn, knn_para_grid2, cv=3, return_train_score=True)\n",
    "\n",
    "knn_grid_search1.fit(X_train, y_train)"
   ]
  },
  {
   "cell_type": "code",
   "execution_count": 66,
   "metadata": {},
   "outputs": [],
   "source": [
    "#Search for best estimator\n",
    "bestknnrefine2 = dtc_grid_search1.best_estimator_"
   ]
  },
  {
   "cell_type": "code",
   "execution_count": 67,
   "metadata": {},
   "outputs": [
    {
     "data": {
      "image/png": "[encoded data removed]",
      "text/plain": [
       "<Figure size 576x576 with 2 Axes>"
      ]
     },
     "metadata": {
      "needs_background": "light"
     },
     "output_type": "display_data"
    },
    {
     "name": "stdout",
     "output_type": "stream",
     "text": [
      "              precision    recall  f1-score   support\n",
      "\n",
      "           0       0.93      0.99      0.96       138\n",
      "           1       0.74      0.85      0.79       143\n",
      "           2       0.80      0.78      0.79       268\n",
      "           3       0.89      0.76      0.82       163\n",
      "\n",
      "    accuracy                           0.83       712\n",
      "   macro avg       0.84      0.85      0.84       712\n",
      "weighted avg       0.83      0.83      0.83       712\n",
      "\n",
      "Accuracy:83.01%\n"
     ]
    }
   ],
   "source": [
    "#Knn confusion matrix\n",
    "classification(\n",
    "    X_train=X_train,\n",
    "    X_test=X_test,\n",
    "    y_train=y_train,\n",
    "    y_test=y_test,\n",
    "    classifier=bestknnrefine2)"
   ]
  },
  {
   "cell_type": "code",
   "execution_count": 68,
   "metadata": {},
   "outputs": [
    {
     "data": {
      "text/plain": [
       "0.8300561797752809"
      ]
     },
     "execution_count": 68,
     "metadata": {},
     "output_type": "execute_result"
    }
   ],
   "source": [
    "#rfc model test score\n",
    "bestknnrefine2.score(X_test,y_test)"
   ]
  },
  {
   "cell_type": "code",
   "execution_count": 69,
   "metadata": {},
   "outputs": [
    {
     "data": {
      "text/plain": [
       "0.9282700421940928"
      ]
     },
     "execution_count": 69,
     "metadata": {},
     "output_type": "execute_result"
    }
   ],
   "source": [
    "#rfc model training score\n",
    "bestknnrefine2.score(X_train,y_train)"
   ]
  },
  {
   "cell_type": "code",
   "execution_count": 70,
   "metadata": {},
   "outputs": [
    {
     "data": {
      "text/plain": [
       "<sklearn.metrics._plot.confusion_matrix.ConfusionMatrixDisplay at 0x1c9ae86a898>"
      ]
     },
     "execution_count": 70,
     "metadata": {},
     "output_type": "execute_result"
    },
    {
     "data": {
      "image/png": "[encoded data removed]",
      "text/plain": [
       "<Figure size 432x288 with 2 Axes>"
      ]
     },
     "metadata": {
      "needs_background": "light"
     },
     "output_type": "display_data"
    }
   ],
   "source": [
    "#confusion matrix results for trained data against test\n",
    "plot_confusion_matrix(estimator=bestknnrefine2, X=X_test, y_true=y_test)"
   ]
  },
  {
   "cell_type": "markdown",
   "metadata": {},
   "source": [
    "### Random Forest Refined"
   ]
  },
  {
   "cell_type": "code",
   "execution_count": 71,
   "metadata": {},
   "outputs": [],
   "source": [
    "##Fit rfc, applying parameters to refine search\n",
    "rfc_param_grid2 = {\n",
    "    'criterion':['gini'],\n",
    "    'max_depth':[None],\n",
    "    'max_features':['sqrt'],\n",
    "    'min_samples_leaf':[1],\n",
    "    'min_samples_split':[2],\n",
    "    'n_estimators':[100],\n",
    "    'random_state':[7]\n",
    "}"
   ]
  },
  {
   "cell_type": "code",
   "execution_count": 72,
   "metadata": {},
   "outputs": [
    {
     "name": "stderr",
     "output_type": "stream",
     "text": [
      "C:\\Users\\c_fre\\anaconda3\\envs\\learn-env\\lib\\site-packages\\sklearn\\model_selection\\_search.py:880: DataConversionWarning: A column-vector y was passed when a 1d array was expected. Please change the shape of y to (n_samples,), for example using ravel().\n",
      "  self.best_estimator_.fit(X, y, **fit_params)\n"
     ]
    },
    {
     "data": {
      "text/plain": [
       "GridSearchCV(cv=3, estimator=RandomForestClassifier(), n_jobs=10,\n",
       "             param_grid={'criterion': ['gini'], 'max_depth': [None],\n",
       "                         'max_features': ['sqrt'], 'min_samples_leaf': [1],\n",
       "                         'min_samples_split': [2], 'n_estimators': [100],\n",
       "                         'random_state': [7]},\n",
       "             return_train_score=True)"
      ]
     },
     "execution_count": 72,
     "metadata": {},
     "output_type": "execute_result"
    }
   ],
   "source": [
    "#GridSearch on rfc\n",
    "rfc_grid_search1 = GridSearchCV(rfc, rfc_param_grid2, cv=3,n_jobs=10, return_train_score=True)\n",
    "\n",
    "rfc_grid_search1.fit(X_train, y_train)"
   ]
  },
  {
   "cell_type": "code",
   "execution_count": 73,
   "metadata": {},
   "outputs": [],
   "source": [
    "#best estimator\n",
    "bestrfcrefine2 = rfc_grid_search1.best_estimator_"
   ]
  },
  {
   "cell_type": "code",
   "execution_count": 74,
   "metadata": {},
   "outputs": [
    {
     "data": {
      "image/png": "[encoded data removed]",
      "text/plain": [
       "<Figure size 576x576 with 2 Axes>"
      ]
     },
     "metadata": {
      "needs_background": "light"
     },
     "output_type": "display_data"
    },
    {
     "name": "stdout",
     "output_type": "stream",
     "text": [
      "              precision    recall  f1-score   support\n",
      "\n",
      "           0       0.93      0.99      0.96       138\n",
      "           1       0.77      0.82      0.79       143\n",
      "           2       0.83      0.80      0.82       268\n",
      "           3       0.88      0.83      0.86       163\n",
      "\n",
      "    accuracy                           0.85       712\n",
      "   macro avg       0.85      0.86      0.86       712\n",
      "weighted avg       0.85      0.85      0.85       712\n",
      "\n",
      "Accuracy:84.83%\n"
     ]
    }
   ],
   "source": [
    "#rfc confusion matrix\n",
    "classification(\n",
    "    X_train=X_train,\n",
    "    X_test=X_test,\n",
    "    y_train=y_train,\n",
    "    y_test=y_test,\n",
    "    classifier=bestrfcrefine2)"
   ]
  },
  {
   "cell_type": "code",
   "execution_count": 75,
   "metadata": {},
   "outputs": [
    {
     "data": {
      "text/plain": [
       "0.848314606741573"
      ]
     },
     "execution_count": 75,
     "metadata": {},
     "output_type": "execute_result"
    }
   ],
   "source": [
    "#rfc model test score\n",
    "bestrfcrefine2.score(X_test,y_test)"
   ]
  },
  {
   "cell_type": "code",
   "execution_count": 76,
   "metadata": {},
   "outputs": [
    {
     "data": {
      "text/plain": [
       "0.9282700421940928"
      ]
     },
     "execution_count": 76,
     "metadata": {},
     "output_type": "execute_result"
    }
   ],
   "source": [
    "#rfc model training score\n",
    "bestrfcrefine2.score(X_train,y_train)"
   ]
  },
  {
   "cell_type": "code",
   "execution_count": 77,
   "metadata": {},
   "outputs": [
    {
     "data": {
      "text/plain": [
       "<sklearn.metrics._plot.confusion_matrix.ConfusionMatrixDisplay at 0x1c9adff9630>"
      ]
     },
     "execution_count": 77,
     "metadata": {},
     "output_type": "execute_result"
    },
    {
     "data": {
      "image/png": "[encoded data removed]",
      "text/plain": [
       "<Figure size 432x288 with 2 Axes>"
      ]
     },
     "metadata": {
      "needs_background": "light"
     },
     "output_type": "display_data"
    }
   ],
   "source": [
    "#confusion matrix results for trained data against test\n",
    "plot_confusion_matrix(estimator=bestrfcrefine2, X=X_test, y_true=y_test)"
   ]
  },
  {
   "cell_type": "code",
   "execution_count": 63,
   "metadata": {},
   "outputs": [],
   "source": [
    "# Random Forest Refined is our winner\n",
    "# Highest overall accuracy\n",
    "# Least damaging by not having nearly as many misrated M/T/ET games as E\n",
    "# F1 is the metric most important to us. As combination of accuracy and recall this ensures the program be trained enough\n",
    "# to not misrate a higher class game as a lower class game and also accurately rate and recognize lower class games"
   ]
  },
  {
   "cell_type": "markdown",
   "metadata": {},
   "source": [
    "# INTERPRET"
   ]
  },
  {
   "cell_type": "markdown",
   "metadata": {},
   "source": [
    "## Decision Tree Feature Importances"
   ]
  },
  {
   "cell_type": "code",
   "execution_count": 78,
   "metadata": {},
   "outputs": [
    {
     "data": {
      "text/plain": [
       "array([0.01723163, 0.01350596, 0.00483426, 0.06744222, 0.07490772,\n",
       "       0.00815428, 0.02425185, 0.01180615, 0.10750179, 0.02259399,\n",
       "       0.03763739, 0.01543366, 0.00186365, 0.01854658, 0.0069748 ,\n",
       "       0.07029045, 0.00705759, 0.01212123, 0.01812752, 0.01460577,\n",
       "       0.15477959, 0.00284988, 0.00492229, 0.00775426, 0.02158807,\n",
       "       0.01992082, 0.1377079 , 0.0151141 , 0.0319754 , 0.01479204,\n",
       "       0.00349158, 0.03021558])"
      ]
     },
     "execution_count": 78,
     "metadata": {},
     "output_type": "execute_result"
    }
   ],
   "source": [
    "#What features carry the most weight\n",
    "dtc.feature_importances_"
   ]
  },
  {
   "cell_type": "code",
   "execution_count": 79,
   "metadata": {},
   "outputs": [
    {
     "data": {
      "text/html": [
       "<div>\n",
       "<style scoped>\n",
       "    .dataframe tbody tr th:only-of-type {\n",
       "        vertical-align: middle;\n",
       "    }\n",
       "\n",
       "    .dataframe tbody tr th {\n",
       "        vertical-align: top;\n",
       "    }\n",
       "\n",
       "    .dataframe thead th {\n",
       "        text-align: right;\n",
       "    }\n",
       "</style>\n",
       "<table border=\"1\" class=\"dataframe\">\n",
       "  <thead>\n",
       "    <tr style=\"text-align: right;\">\n",
       "      <th></th>\n",
       "      <th>feature</th>\n",
       "      <th>importance</th>\n",
       "    </tr>\n",
       "  </thead>\n",
       "  <tbody>\n",
       "    <tr>\n",
       "      <th>12</th>\n",
       "      <td>mature_humor</td>\n",
       "      <td>0.001864</td>\n",
       "    </tr>\n",
       "    <tr>\n",
       "      <th>21</th>\n",
       "      <td>nudity</td>\n",
       "      <td>0.002850</td>\n",
       "    </tr>\n",
       "    <tr>\n",
       "      <th>30</th>\n",
       "      <td>use_of_drugs_and_alcohol</td>\n",
       "      <td>0.003492</td>\n",
       "    </tr>\n",
       "    <tr>\n",
       "      <th>2</th>\n",
       "      <td>animated_blood</td>\n",
       "      <td>0.004834</td>\n",
       "    </tr>\n",
       "    <tr>\n",
       "      <th>22</th>\n",
       "      <td>partial_nudity</td>\n",
       "      <td>0.004922</td>\n",
       "    </tr>\n",
       "    <tr>\n",
       "      <th>14</th>\n",
       "      <td>mild_cartoon_violence</td>\n",
       "      <td>0.006975</td>\n",
       "    </tr>\n",
       "    <tr>\n",
       "      <th>16</th>\n",
       "      <td>mild_language</td>\n",
       "      <td>0.007058</td>\n",
       "    </tr>\n",
       "    <tr>\n",
       "      <th>23</th>\n",
       "      <td>sexual_content</td>\n",
       "      <td>0.007754</td>\n",
       "    </tr>\n",
       "    <tr>\n",
       "      <th>5</th>\n",
       "      <td>cartoon_violence</td>\n",
       "      <td>0.008154</td>\n",
       "    </tr>\n",
       "    <tr>\n",
       "      <th>7</th>\n",
       "      <td>drug_reference</td>\n",
       "      <td>0.011806</td>\n",
       "    </tr>\n",
       "    <tr>\n",
       "      <th>17</th>\n",
       "      <td>mild_lyrics</td>\n",
       "      <td>0.012121</td>\n",
       "    </tr>\n",
       "    <tr>\n",
       "      <th>1</th>\n",
       "      <td>alcohol_reference</td>\n",
       "      <td>0.013506</td>\n",
       "    </tr>\n",
       "    <tr>\n",
       "      <th>19</th>\n",
       "      <td>mild_violence</td>\n",
       "      <td>0.014606</td>\n",
       "    </tr>\n",
       "    <tr>\n",
       "      <th>29</th>\n",
       "      <td>use_of_alcohol</td>\n",
       "      <td>0.014792</td>\n",
       "    </tr>\n",
       "    <tr>\n",
       "      <th>27</th>\n",
       "      <td>strong_sexual_content</td>\n",
       "      <td>0.015114</td>\n",
       "    </tr>\n",
       "    <tr>\n",
       "      <th>11</th>\n",
       "      <td>lyrics</td>\n",
       "      <td>0.015434</td>\n",
       "    </tr>\n",
       "    <tr>\n",
       "      <th>0</th>\n",
       "      <td>console</td>\n",
       "      <td>0.017232</td>\n",
       "    </tr>\n",
       "    <tr>\n",
       "      <th>18</th>\n",
       "      <td>mild_suggestive_themes</td>\n",
       "      <td>0.018128</td>\n",
       "    </tr>\n",
       "    <tr>\n",
       "      <th>13</th>\n",
       "      <td>mild_blood</td>\n",
       "      <td>0.018547</td>\n",
       "    </tr>\n",
       "    <tr>\n",
       "      <th>25</th>\n",
       "      <td>simulated_gambling</td>\n",
       "      <td>0.019921</td>\n",
       "    </tr>\n",
       "    <tr>\n",
       "      <th>24</th>\n",
       "      <td>sexual_themes</td>\n",
       "      <td>0.021588</td>\n",
       "    </tr>\n",
       "    <tr>\n",
       "      <th>9</th>\n",
       "      <td>intense_violence</td>\n",
       "      <td>0.022594</td>\n",
       "    </tr>\n",
       "    <tr>\n",
       "      <th>6</th>\n",
       "      <td>crude_humor</td>\n",
       "      <td>0.024252</td>\n",
       "    </tr>\n",
       "    <tr>\n",
       "      <th>31</th>\n",
       "      <td>violence</td>\n",
       "      <td>0.030216</td>\n",
       "    </tr>\n",
       "    <tr>\n",
       "      <th>28</th>\n",
       "      <td>suggestive_themes</td>\n",
       "      <td>0.031975</td>\n",
       "    </tr>\n",
       "    <tr>\n",
       "      <th>10</th>\n",
       "      <td>language</td>\n",
       "      <td>0.037637</td>\n",
       "    </tr>\n",
       "    <tr>\n",
       "      <th>3</th>\n",
       "      <td>blood</td>\n",
       "      <td>0.067442</td>\n",
       "    </tr>\n",
       "    <tr>\n",
       "      <th>15</th>\n",
       "      <td>mild_fantasy_violence</td>\n",
       "      <td>0.070290</td>\n",
       "    </tr>\n",
       "    <tr>\n",
       "      <th>4</th>\n",
       "      <td>blood_and_gore</td>\n",
       "      <td>0.074908</td>\n",
       "    </tr>\n",
       "    <tr>\n",
       "      <th>8</th>\n",
       "      <td>fantasy_violence</td>\n",
       "      <td>0.107502</td>\n",
       "    </tr>\n",
       "    <tr>\n",
       "      <th>26</th>\n",
       "      <td>strong_janguage</td>\n",
       "      <td>0.137708</td>\n",
       "    </tr>\n",
       "    <tr>\n",
       "      <th>20</th>\n",
       "      <td>no_descriptors</td>\n",
       "      <td>0.154780</td>\n",
       "    </tr>\n",
       "  </tbody>\n",
       "</table>\n",
       "</div>"
      ],
      "text/plain": [
       "                     feature  importance\n",
       "12              mature_humor    0.001864\n",
       "21                    nudity    0.002850\n",
       "30  use_of_drugs_and_alcohol    0.003492\n",
       "2             animated_blood    0.004834\n",
       "22            partial_nudity    0.004922\n",
       "14     mild_cartoon_violence    0.006975\n",
       "16             mild_language    0.007058\n",
       "23            sexual_content    0.007754\n",
       "5           cartoon_violence    0.008154\n",
       "7             drug_reference    0.011806\n",
       "17               mild_lyrics    0.012121\n",
       "1          alcohol_reference    0.013506\n",
       "19             mild_violence    0.014606\n",
       "29            use_of_alcohol    0.014792\n",
       "27     strong_sexual_content    0.015114\n",
       "11                    lyrics    0.015434\n",
       "0                    console    0.017232\n",
       "18    mild_suggestive_themes    0.018128\n",
       "13                mild_blood    0.018547\n",
       "25        simulated_gambling    0.019921\n",
       "24             sexual_themes    0.021588\n",
       "9           intense_violence    0.022594\n",
       "6                crude_humor    0.024252\n",
       "31                  violence    0.030216\n",
       "28         suggestive_themes    0.031975\n",
       "10                  language    0.037637\n",
       "3                      blood    0.067442\n",
       "15     mild_fantasy_violence    0.070290\n",
       "4             blood_and_gore    0.074908\n",
       "8           fantasy_violence    0.107502\n",
       "26           strong_janguage    0.137708\n",
       "20            no_descriptors    0.154780"
      ]
     },
     "execution_count": 79,
     "metadata": {},
     "output_type": "execute_result"
    }
   ],
   "source": [
    "Feature_Importances=pd.DataFrame({\"feature\":X_train.columns,\"importance\":dtc.feature_importances_})\n",
    "Feature_Importances.sort_values(\"importance\")"
   ]
  },
  {
   "cell_type": "markdown",
   "metadata": {},
   "source": [
    "## Random Forest Feature Importances"
   ]
  },
  {
   "cell_type": "code",
   "execution_count": 80,
   "metadata": {},
   "outputs": [
    {
     "data": {
      "text/plain": [
       "array([0.02644703, 0.01834153, 0.00575381, 0.09549733, 0.07877468,\n",
       "       0.01273132, 0.02533679, 0.00834723, 0.10251009, 0.02635932,\n",
       "       0.03854059, 0.01117996, 0.00415922, 0.02222625, 0.0105511 ,\n",
       "       0.04043585, 0.0087014 , 0.0156045 , 0.01649358, 0.0194923 ,\n",
       "       0.12374009, 0.00282585, 0.00933967, 0.00873423, 0.0209608 ,\n",
       "       0.01878307, 0.11132463, 0.01974908, 0.0331896 , 0.01363067,\n",
       "       0.00743709, 0.04280134])"
      ]
     },
     "execution_count": 80,
     "metadata": {},
     "output_type": "execute_result"
    }
   ],
   "source": [
    "#What features carry the most weight\n",
    "rfc.feature_importances_"
   ]
  },
  {
   "cell_type": "code",
   "execution_count": 81,
   "metadata": {},
   "outputs": [
    {
     "data": {
      "text/html": [
       "<div>\n",
       "<style scoped>\n",
       "    .dataframe tbody tr th:only-of-type {\n",
       "        vertical-align: middle;\n",
       "    }\n",
       "\n",
       "    .dataframe tbody tr th {\n",
       "        vertical-align: top;\n",
       "    }\n",
       "\n",
       "    .dataframe thead th {\n",
       "        text-align: right;\n",
       "    }\n",
       "</style>\n",
       "<table border=\"1\" class=\"dataframe\">\n",
       "  <thead>\n",
       "    <tr style=\"text-align: right;\">\n",
       "      <th></th>\n",
       "      <th>feature</th>\n",
       "      <th>importance</th>\n",
       "    </tr>\n",
       "  </thead>\n",
       "  <tbody>\n",
       "    <tr>\n",
       "      <th>21</th>\n",
       "      <td>nudity</td>\n",
       "      <td>0.002826</td>\n",
       "    </tr>\n",
       "    <tr>\n",
       "      <th>12</th>\n",
       "      <td>mature_humor</td>\n",
       "      <td>0.004159</td>\n",
       "    </tr>\n",
       "    <tr>\n",
       "      <th>2</th>\n",
       "      <td>animated_blood</td>\n",
       "      <td>0.005754</td>\n",
       "    </tr>\n",
       "    <tr>\n",
       "      <th>30</th>\n",
       "      <td>use_of_drugs_and_alcohol</td>\n",
       "      <td>0.007437</td>\n",
       "    </tr>\n",
       "    <tr>\n",
       "      <th>7</th>\n",
       "      <td>drug_reference</td>\n",
       "      <td>0.008347</td>\n",
       "    </tr>\n",
       "    <tr>\n",
       "      <th>16</th>\n",
       "      <td>mild_language</td>\n",
       "      <td>0.008701</td>\n",
       "    </tr>\n",
       "    <tr>\n",
       "      <th>23</th>\n",
       "      <td>sexual_content</td>\n",
       "      <td>0.008734</td>\n",
       "    </tr>\n",
       "    <tr>\n",
       "      <th>22</th>\n",
       "      <td>partial_nudity</td>\n",
       "      <td>0.009340</td>\n",
       "    </tr>\n",
       "    <tr>\n",
       "      <th>14</th>\n",
       "      <td>mild_cartoon_violence</td>\n",
       "      <td>0.010551</td>\n",
       "    </tr>\n",
       "    <tr>\n",
       "      <th>11</th>\n",
       "      <td>lyrics</td>\n",
       "      <td>0.011180</td>\n",
       "    </tr>\n",
       "    <tr>\n",
       "      <th>5</th>\n",
       "      <td>cartoon_violence</td>\n",
       "      <td>0.012731</td>\n",
       "    </tr>\n",
       "    <tr>\n",
       "      <th>29</th>\n",
       "      <td>use_of_alcohol</td>\n",
       "      <td>0.013631</td>\n",
       "    </tr>\n",
       "    <tr>\n",
       "      <th>17</th>\n",
       "      <td>mild_lyrics</td>\n",
       "      <td>0.015605</td>\n",
       "    </tr>\n",
       "    <tr>\n",
       "      <th>18</th>\n",
       "      <td>mild_suggestive_themes</td>\n",
       "      <td>0.016494</td>\n",
       "    </tr>\n",
       "    <tr>\n",
       "      <th>1</th>\n",
       "      <td>alcohol_reference</td>\n",
       "      <td>0.018342</td>\n",
       "    </tr>\n",
       "    <tr>\n",
       "      <th>25</th>\n",
       "      <td>simulated_gambling</td>\n",
       "      <td>0.018783</td>\n",
       "    </tr>\n",
       "    <tr>\n",
       "      <th>19</th>\n",
       "      <td>mild_violence</td>\n",
       "      <td>0.019492</td>\n",
       "    </tr>\n",
       "    <tr>\n",
       "      <th>27</th>\n",
       "      <td>strong_sexual_content</td>\n",
       "      <td>0.019749</td>\n",
       "    </tr>\n",
       "    <tr>\n",
       "      <th>24</th>\n",
       "      <td>sexual_themes</td>\n",
       "      <td>0.020961</td>\n",
       "    </tr>\n",
       "    <tr>\n",
       "      <th>13</th>\n",
       "      <td>mild_blood</td>\n",
       "      <td>0.022226</td>\n",
       "    </tr>\n",
       "    <tr>\n",
       "      <th>6</th>\n",
       "      <td>crude_humor</td>\n",
       "      <td>0.025337</td>\n",
       "    </tr>\n",
       "    <tr>\n",
       "      <th>9</th>\n",
       "      <td>intense_violence</td>\n",
       "      <td>0.026359</td>\n",
       "    </tr>\n",
       "    <tr>\n",
       "      <th>0</th>\n",
       "      <td>console</td>\n",
       "      <td>0.026447</td>\n",
       "    </tr>\n",
       "    <tr>\n",
       "      <th>28</th>\n",
       "      <td>suggestive_themes</td>\n",
       "      <td>0.033190</td>\n",
       "    </tr>\n",
       "    <tr>\n",
       "      <th>10</th>\n",
       "      <td>language</td>\n",
       "      <td>0.038541</td>\n",
       "    </tr>\n",
       "    <tr>\n",
       "      <th>15</th>\n",
       "      <td>mild_fantasy_violence</td>\n",
       "      <td>0.040436</td>\n",
       "    </tr>\n",
       "    <tr>\n",
       "      <th>31</th>\n",
       "      <td>violence</td>\n",
       "      <td>0.042801</td>\n",
       "    </tr>\n",
       "    <tr>\n",
       "      <th>4</th>\n",
       "      <td>blood_and_gore</td>\n",
       "      <td>0.078775</td>\n",
       "    </tr>\n",
       "    <tr>\n",
       "      <th>3</th>\n",
       "      <td>blood</td>\n",
       "      <td>0.095497</td>\n",
       "    </tr>\n",
       "    <tr>\n",
       "      <th>8</th>\n",
       "      <td>fantasy_violence</td>\n",
       "      <td>0.102510</td>\n",
       "    </tr>\n",
       "    <tr>\n",
       "      <th>26</th>\n",
       "      <td>strong_janguage</td>\n",
       "      <td>0.111325</td>\n",
       "    </tr>\n",
       "    <tr>\n",
       "      <th>20</th>\n",
       "      <td>no_descriptors</td>\n",
       "      <td>0.123740</td>\n",
       "    </tr>\n",
       "  </tbody>\n",
       "</table>\n",
       "</div>"
      ],
      "text/plain": [
       "                     feature  importance\n",
       "21                    nudity    0.002826\n",
       "12              mature_humor    0.004159\n",
       "2             animated_blood    0.005754\n",
       "30  use_of_drugs_and_alcohol    0.007437\n",
       "7             drug_reference    0.008347\n",
       "16             mild_language    0.008701\n",
       "23            sexual_content    0.008734\n",
       "22            partial_nudity    0.009340\n",
       "14     mild_cartoon_violence    0.010551\n",
       "11                    lyrics    0.011180\n",
       "5           cartoon_violence    0.012731\n",
       "29            use_of_alcohol    0.013631\n",
       "17               mild_lyrics    0.015605\n",
       "18    mild_suggestive_themes    0.016494\n",
       "1          alcohol_reference    0.018342\n",
       "25        simulated_gambling    0.018783\n",
       "19             mild_violence    0.019492\n",
       "27     strong_sexual_content    0.019749\n",
       "24             sexual_themes    0.020961\n",
       "13                mild_blood    0.022226\n",
       "6                crude_humor    0.025337\n",
       "9           intense_violence    0.026359\n",
       "0                    console    0.026447\n",
       "28         suggestive_themes    0.033190\n",
       "10                  language    0.038541\n",
       "15     mild_fantasy_violence    0.040436\n",
       "31                  violence    0.042801\n",
       "4             blood_and_gore    0.078775\n",
       "3                      blood    0.095497\n",
       "8           fantasy_violence    0.102510\n",
       "26           strong_janguage    0.111325\n",
       "20            no_descriptors    0.123740"
      ]
     },
     "execution_count": 81,
     "metadata": {},
     "output_type": "execute_result"
    }
   ],
   "source": [
    "# Feature Importances Into ordered columns\n",
    "Feature_Importances=pd.DataFrame({\"feature\":X_train.columns,\"importance\":rfc.feature_importances_})\n",
    "Feature_Importances.sort_values(\"importance\")"
   ]
  },
  {
   "cell_type": "code",
   "execution_count": 82,
   "metadata": {},
   "outputs": [
    {
     "data": {
      "text/plain": [
       "esrb_rating  no_descriptors\n",
       "0            1                 311\n",
       "             0                 196\n",
       "1            0                 504\n",
       "             1                  16\n",
       "2            0                 826\n",
       "             1                  42\n",
       "3            0                 472\n",
       "             1                   4\n",
       "Name: no_descriptors, dtype: int64"
      ]
     },
     "execution_count": 82,
     "metadata": {},
     "output_type": "execute_result"
    }
   ],
   "source": [
    "combined_csv.groupby(\"esrb_rating\")[\"no_descriptors\"].value_counts()\n",
    "#How many No Descriptors exist in each category"
   ]
  },
  {
   "cell_type": "code",
   "execution_count": 83,
   "metadata": {},
   "outputs": [
    {
     "data": {
      "image/png": "[encoded data removed]",
      "text/plain": [
       "<Figure size 432x288 with 1 Axes>"
      ]
     },
     "metadata": {
      "needs_background": "light"
     },
     "output_type": "display_data"
    }
   ],
   "source": [
    "# Data\n",
    "r = [0,1,2,3]\n",
    "No_Descriptor = {'E': [201, 512, 830, 473], 'ET': [315, 17, 43, 4]}\n",
    "df = pd.DataFrame(No_Descriptor)\n",
    "\n",
    "#From raw value to percentage\n",
    "totals = [i+j for i,j in zip(df['E'], df['ET'])]\n",
    "greenBars = [i / j * 100 for i,j in zip(df['E'], totals)]\n",
    "orangeBars = [i / j * 100 for i,j in zip(df['ET'], totals)]\n",
    "# plot\n",
    "barWidth = 0.85\n",
    "names = ('E','E+','T','M')\n",
    "# Create Green Bars\n",
    "plt.bar(r, greenBars, color='#b5ffb9', edgecolor='black', width=barWidth, label=\"No No Descriptors\")\n",
    "# Create Orange Bars\n",
    "plt.bar(r, orangeBars,bottom=greenBars, color='#f9bc86', edgecolor='black', width=barWidth, label=\"Yes No Descriptors\")\n",
    "# Custom X axis\n",
    "plt.xticks(r, names)\n",
    "plt.xlabel(\"group\")\n",
    "# Legend\n",
    "plt.legend(loc='upper left', bbox_to_anchor=(1,1), ncol=1)\n",
    "# Title\n",
    "plt.title(label='# of No Descriptors in each Rating')\n",
    "# Show Graphic\n",
    "plt.show()"
   ]
  },
  {
   "cell_type": "markdown",
   "metadata": {},
   "source": [
    "- No Descriptors has a significant impact on the E ratings"
   ]
  },
  {
   "cell_type": "markdown",
   "metadata": {},
   "source": [
    "# CONCLUSIONS & RECCOMENDATIONS"
   ]
  },
  {
   "cell_type": "markdown",
   "metadata": {},
   "source": [
    "- Next steps\n",
    "    - Research what makes up 'No Descriptors' category to futher analyze its impact on E Rating\n",
    "    - Explore further correlations and groupings to improve models"
   ]
  }
 ],
 "metadata": {
  "kernelspec": {
   "display_name": "Python 3",
   "language": "python",
   "name": "python3"
  },
  "language_info": {
   "codemirror_mode": {
    "name": "ipython",
    "version": 3
   },
   "file_extension": ".py",
   "mimetype": "text/x-python",
   "name": "python",
   "nbconvert_exporter": "python",
   "pygments_lexer": "ipython3",
   "version": "3.6.9"
  },
  "toc": {
   "base_numbering": 1,
   "nav_menu": {},
   "number_sections": true,
   "sideBar": true,
   "skip_h1_title": false,
   "title_cell": "Table of Contents",
   "title_sidebar": "Contents",
   "toc_cell": false,
   "toc_position": {
    "height": "calc(100% - 180px)",
    "left": "10px",
    "top": "150px",
    "width": "298.188px"
   },
   "toc_section_display": true,
   "toc_window_display": true
  }
 },
 "nbformat": 4,
 "nbformat_minor": 2
}
